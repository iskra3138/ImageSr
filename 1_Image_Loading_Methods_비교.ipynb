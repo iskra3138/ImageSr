{
  "nbformat": 4,
  "nbformat_minor": 0,
  "metadata": {
    "colab": {
      "name": "1. Image_Loading_Methods 비교",
      "provenance": [],
      "collapsed_sections": [],
      "authorship_tag": "ABX9TyP8eNgEiET1b3yZqrsg34R5",
      "include_colab_link": true
    },
    "kernelspec": {
      "name": "python3",
      "display_name": "Python 3"
    }
  },
  "cells": [
    {
      "cell_type": "markdown",
      "metadata": {
        "id": "view-in-github",
        "colab_type": "text"
      },
      "source": [
        "<a href=\"https://colab.research.google.com/github/iskra3138/ImageSr/blob/master/1_Image_Loading_Methods_%EB%B9%84%EA%B5%90.ipynb\" target=\"_parent\"><img src=\"https://colab.research.google.com/assets/colab-badge.svg\" alt=\"Open In Colab\"/></a>"
      ]
    },
    {
      "cell_type": "markdown",
      "metadata": {
        "id": "_00k58w_uslo",
        "colab_type": "text"
      },
      "source": [
        "Image를 loading 하는 몇 가지 방법에 대한 성능 비교를 위한 노트입니다.\n",
        "- GPU를 사용하지 않으므로 가속기 없이 실행해도 됩니다."
      ]
    },
    {
      "cell_type": "code",
      "metadata": {
        "id": "LuT28koGwHxm",
        "colab_type": "code",
        "colab": {
          "base_uri": "https://localhost:8080/",
          "height": 34
        },
        "outputId": "4c1460ea-bf3f-45b5-e7ae-11cba81ea9f6"
      },
      "source": [
        "## Tensorflow 2.X를 사용하면 첫번째 방법인 tf.io.read_file(path)의 속도가 더 빨라집니다. (나머지 세 방법은 큰 차이 없음)\n",
        "%tensorflow_version 2.x"
      ],
      "execution_count": 1,
      "outputs": [
        {
          "output_type": "stream",
          "text": [
            "TensorFlow 2.x selected.\n"
          ],
          "name": "stdout"
        }
      ]
    },
    {
      "cell_type": "markdown",
      "metadata": {
        "id": "HhcJaMj0wKoT",
        "colab_type": "text"
      },
      "source": [
        "성능 방법 비교를 위한 Library들을 불러오고, 각 라이브러리의 버전을 확인합니다."
      ]
    },
    {
      "cell_type": "code",
      "metadata": {
        "id": "jTmygg6ltuFh",
        "colab_type": "code",
        "colab": {
          "base_uri": "https://localhost:8080/",
          "height": 34
        },
        "outputId": "5185801f-d719-447d-ad63-4810c9ca1e99"
      },
      "source": [
        "import tensorflow as tf\n",
        "print ('tensorflow vesrion: {}'.format(tf.__version__))"
      ],
      "execution_count": 2,
      "outputs": [
        {
          "output_type": "stream",
          "text": [
            "tensorflow vesrion: 2.1.0\n"
          ],
          "name": "stdout"
        }
      ]
    },
    {
      "cell_type": "code",
      "metadata": {
        "id": "Qnw3lstjtcP3",
        "colab_type": "code",
        "colab": {
          "base_uri": "https://localhost:8080/",
          "height": 34
        },
        "outputId": "4d873a2f-34ed-48ac-9849-92cf076f7381"
      },
      "source": [
        "import cv2\n",
        "print ('opencv vesrion: {}'.format(cv2.__version__))"
      ],
      "execution_count": 3,
      "outputs": [
        {
          "output_type": "stream",
          "text": [
            "opencv vesrion: 4.1.2\n"
          ],
          "name": "stdout"
        }
      ]
    },
    {
      "cell_type": "code",
      "metadata": {
        "id": "YaRyMfBqfnMq",
        "colab_type": "code",
        "outputId": "496b985b-1cf0-4fbe-cb8c-b1a02648035c",
        "colab": {
          "base_uri": "https://localhost:8080/",
          "height": 52
        }
      },
      "source": [
        "### pillow의 경우 일반적으로 numpy를 통해 array\n",
        "import PIL\n",
        "from PIL import Image\n",
        "import numpy as np\n",
        "print ('pillow version: {}'.format(PIL.__version__))\n",
        "print ('numpy vesrion: {}'.format(np.__version__))"
      ],
      "execution_count": 4,
      "outputs": [
        {
          "output_type": "stream",
          "text": [
            "pillow version: 6.2.2\n",
            "numpy vesrion: 1.17.5\n"
          ],
          "name": "stdout"
        }
      ]
    },
    {
      "cell_type": "markdown",
      "metadata": {
        "id": "rWO0S3iXdhh0",
        "colab_type": "text"
      },
      "source": [
        "test를 위해 아래 셀을 실행하고 이미지를 다운받습니다. (Flowers DataSet)"
      ]
    },
    {
      "cell_type": "code",
      "metadata": {
        "id": "eXFlIXH1fQ_c",
        "colab_type": "code",
        "colab": {},
        "cellView": "form"
      },
      "source": [
        "#@title Download Flowers Image Data [Run Me!!!]\n",
        "import pathlib\n",
        "data_dir = tf.keras.utils.get_file(origin='https://storage.googleapis.com/download.tensorflow.org/example_images/flower_photos.tgz',\n",
        "                                         fname='flower_photos', untar=True)\n",
        "data_dir = pathlib.Path(data_dir)\n",
        "\n",
        "path = '/root/.keras/datasets/flower_photos/daisy/100080576_f52e8ee070_n.jpg'"
      ],
      "execution_count": 0,
      "outputs": []
    },
    {
      "cell_type": "markdown",
      "metadata": {
        "id": "N-dQXBtCxq5W",
        "colab_type": "text"
      },
      "source": [
        "### 속도 측정\n",
        "- 각 이미지를 로딩해서 numpy array로 만드는 데까지 걸리는 시간을 측정\n",
        "- 다른 모든 방법의 output은 uint8이나, Keras API를 사용하면 결과값이 float32가 되므로 각 방법에 float변환 추가"
      ]
    },
    {
      "cell_type": "code",
      "metadata": {
        "id": "uU8Xk11cyQ6I",
        "colab_type": "code",
        "colab": {}
      },
      "source": [
        "import time"
      ],
      "execution_count": 0,
      "outputs": []
    },
    {
      "cell_type": "markdown",
      "metadata": {
        "id": "dyhhrndOjzfe",
        "colab_type": "text"
      },
      "source": [
        "##### 1. tensorflow - tf.io.read_file(path)\n",
        "- 첫 번째 실행방법은 tf.io.read_file을 사용하는 방법입니다.\n",
        "- [tf.io.read_file](https://www.tensorflow.org/api_docs/python/tf/io/read_file)의 output은 string입니다.\n",
        "- 본 예제는 jpeg파일을 사용하므로, array형태로 바꿔주기 위해서 [tf.image.decode_jpeg](https://www.tensorflow.org/api_docs/python/tf/io/decode_jpeg) 를 이용합니다. \n"
      ]
    },
    {
      "cell_type": "code",
      "metadata": {
        "id": "TkQLQHa5jpVF",
        "colab_type": "code",
        "colab": {
          "base_uri": "https://localhost:8080/",
          "height": 34
        },
        "outputId": "765a5da0-0654-4752-a86d-20c03527c010"
      },
      "source": [
        "times = []\n",
        "for i in range(1000):\n",
        "  start = time.time()\n",
        "  tf_io_img = tf.io.read_file(path) ## TFRecord 파일을 만들때는 여기까지만 있어도 되므로 더 빠름\n",
        "  tf_io_img = tf.image.decode_jpeg(tf_io_img).numpy()\n",
        "  tf_io_img = tf_io_img.astype(np.float32)\n",
        "  end = time.time()\n",
        "  times.append(end - start)\n",
        "print ('average time: {:.3}'.format(sum(times) / len(times)))"
      ],
      "execution_count": 91,
      "outputs": [
        {
          "output_type": "stream",
          "text": [
            "average time: 0.00151\n"
          ],
          "name": "stdout"
        }
      ]
    },
    {
      "cell_type": "markdown",
      "metadata": {
        "id": "WPhBjNXokGfl",
        "colab_type": "text"
      },
      "source": [
        "##### 2. tensorflow - keras\n",
        "- keras api를 사용해서도 이미지를 불러올 수 있습니다\n",
        "  - tf.keras.preprocessing.image.load_img 의 아웃풋은 piilow Image 객체가 되고\n",
        "  - tf.keras.preprocessing.image.img_to_arra의 아웃풋은 float32가 됩니다."
      ]
    },
    {
      "cell_type": "code",
      "metadata": {
        "id": "zszPD-kbkA2v",
        "colab_type": "code",
        "colab": {
          "base_uri": "https://localhost:8080/",
          "height": 34
        },
        "outputId": "1d4603ae-4000-4d8b-9b32-cd771756787e"
      },
      "source": [
        "times = []\n",
        "for i in range(1000):\n",
        "  start = time.time()\n",
        "  keras_img = tf.keras.preprocessing.image.load_img(path)\n",
        "  keras_img = tf.keras.preprocessing.image.img_to_array(keras_img)\n",
        "  end = time.time()\n",
        "  times.append(end - start)\n",
        "print ('average time: {:.3}'.format(sum(times) / len(times)))"
      ],
      "execution_count": 93,
      "outputs": [
        {
          "output_type": "stream",
          "text": [
            "average time: 0.00233\n"
          ],
          "name": "stdout"
        }
      ]
    },
    {
      "cell_type": "markdown",
      "metadata": {
        "id": "5TnTRB3Yjx0W",
        "colab_type": "text"
      },
      "source": [
        "##### 3. pillow"
      ]
    },
    {
      "cell_type": "code",
      "metadata": {
        "id": "6KOCJKdPfnQB",
        "colab_type": "code",
        "colab": {
          "base_uri": "https://localhost:8080/",
          "height": 34
        },
        "outputId": "6e11947c-213f-402a-c4b8-039192054673"
      },
      "source": [
        "times = []\n",
        "for i in range(1000):\n",
        "  start = time.time()\n",
        "  pil_img = Image.open(path)\n",
        "  pil_npimg = np.array(pil_img)\n",
        "  pil_npimg = pil_npimg.astype(np.float32)\n",
        "  end = time.time()\n",
        "  times.append(end - start)\n",
        "print ('average time: {:.3}'.format(sum(times) / len(times)))"
      ],
      "execution_count": 94,
      "outputs": [
        {
          "output_type": "stream",
          "text": [
            "average time: 0.00218\n"
          ],
          "name": "stdout"
        }
      ]
    },
    {
      "cell_type": "markdown",
      "metadata": {
        "id": "SIlALsQDkogv",
        "colab_type": "text"
      },
      "source": [
        "##### 4. opencv\n",
        "- opencv로 이미지를 불러오면 [BGR] 순서가 되므로, 반드시 [RGB] 순서로 변경해야 합니다."
      ]
    },
    {
      "cell_type": "code",
      "metadata": {
        "id": "h92DX9LIkr5s",
        "colab_type": "code",
        "colab": {
          "base_uri": "https://localhost:8080/",
          "height": 34
        },
        "outputId": "26ce6fb3-7874-4584-9725-05c19ef7a6bb"
      },
      "source": [
        "times = []\n",
        "for i in range(1000):\n",
        "  start = time.time()\n",
        "  cv_img = cv2.imread(path) # BGR\n",
        "  cv_img = cv2.cvtColor(cv_img,cv2.COLOR_BGR2RGB)\n",
        "  cv_img = cv_img.astype(np.float32)\n",
        "  end = time.time()\n",
        "  times.append(end - start)\n",
        "print ('average time: {:.3}'.format(sum(times) / len(times)))"
      ],
      "execution_count": 95,
      "outputs": [
        {
          "output_type": "stream",
          "text": [
            "average time: 0.00193\n"
          ],
          "name": "stdout"
        }
      ]
    },
    {
      "cell_type": "markdown",
      "metadata": {
        "id": "iGNFz9G80q6S",
        "colab_type": "text"
      },
      "source": [
        "tf.io.reasd_file을 쓸 때가 가장 빠르고, 그 다음이 opencv, pillow, tf.keras 순입니다.\n",
        "\n",
        "\n",
        "| | tf.io.read_file | tf.keras |  pillow | opencv |\n",
        "|----|----|----|----|----|\n",
        "| avg.time | 0.00151 |0.00233|0.00218 | 0.00193 |\n",
        "| 상대비교 | 1 | 1.54배 | 1.44 배 | 1.28배 |"
      ]
    },
    {
      "cell_type": "markdown",
      "metadata": {
        "id": "cdzJzXGsz3LE",
        "colab_type": "text"
      },
      "source": [
        "### 결과값 비교"
      ]
    },
    {
      "cell_type": "code",
      "metadata": {
        "id": "GYT5HoX6kvQc",
        "colab_type": "code",
        "colab": {
          "base_uri": "https://localhost:8080/",
          "height": 87
        },
        "outputId": "5a0237c6-5a58-4399-ead9-8ede235359c9"
      },
      "source": [
        "print (tf_io_img[0][0])\n",
        "print (keras_img[0][0])\n",
        "print (pil_npimg[0][0])\n",
        "print (cv_img[0][0])"
      ],
      "execution_count": 96,
      "outputs": [
        {
          "output_type": "stream",
          "text": [
            "[133. 135. 132.]\n",
            "[135. 135. 133.]\n",
            "[135. 135. 133.]\n",
            "[135. 135. 133.]\n"
          ],
          "name": "stdout"
        }
      ]
    },
    {
      "cell_type": "markdown",
      "metadata": {
        "id": "U2AEH10t0oy1",
        "colab_type": "text"
      },
      "source": [
        "- **빠르기는 tf.io.read_file을 쓰는 것이 가장 빠르나, 혼자만 값이 다릅니다.**\n",
        "  - 그러므로 tf.io.read_file을 사용해서 학습을 했으면, Prediction 에서도 tf.io.read_file를 사용해야 합니다!!!!"
      ]
    }
  ]
}