{
  "nbformat": 4,
  "nbformat_minor": 0,
  "metadata": {
    "colab": {
      "name": "3. Bucket 관련 colab 노트",
      "provenance": [],
      "private_outputs": true,
      "collapsed_sections": [],
      "authorship_tag": "ABX9TyNaabsZwbUZqDTX9f+lj+aB",
      "include_colab_link": true
    },
    "kernelspec": {
      "name": "python3",
      "display_name": "Python 3"
    }
  },
  "cells": [
    {
      "cell_type": "markdown",
      "metadata": {
        "id": "view-in-github",
        "colab_type": "text"
      },
      "source": [
        "<a href=\"https://colab.research.google.com/github/iskra3138/ImageSr/blob/master/3_Bucket_%EA%B4%80%EB%A0%A8_colab_%EB%85%B8%ED%8A%B8.ipynb\" target=\"_parent\"><img src=\"https://colab.research.google.com/assets/colab-badge.svg\" alt=\"Open In Colab\"/></a>"
      ]
    },
    {
      "cell_type": "markdown",
      "metadata": {
        "id": "ymsquxeczTi7",
        "colab_type": "text"
      },
      "source": [
        "본 예제는 GCP 계정이 있어야만 합니다."
      ]
    },
    {
      "cell_type": "markdown",
      "metadata": {
        "id": "F6pgXnLZzYSH",
        "colab_type": "text"
      },
      "source": [
        "GCP 연동"
      ]
    },
    {
      "cell_type": "code",
      "metadata": {
        "id": "QK_s_DCVzBpi",
        "colab_type": "code",
        "colab": {}
      },
      "source": [
        "from google.colab import auth\n",
        "auth.authenticate_user()"
      ],
      "execution_count": 0,
      "outputs": []
    },
    {
      "cell_type": "markdown",
      "metadata": {
        "id": "1xHRFQD5z6za",
        "colab_type": "text"
      },
      "source": [
        "GCP project ID 확인"
      ]
    },
    {
      "cell_type": "code",
      "metadata": {
        "id": "jOy5yXkVzdII",
        "colab_type": "code",
        "colab": {}
      },
      "source": [
        "!gcloud projects list"
      ],
      "execution_count": 0,
      "outputs": []
    },
    {
      "cell_type": "markdown",
      "metadata": {
        "id": "3glCldCJ0CKp",
        "colab_type": "text"
      },
      "source": [
        "List 출력물 중 Bucket 작업할 PROJECT_ID를 적습니다."
      ]
    },
    {
      "cell_type": "code",
      "metadata": {
        "id": "-CYfyMHM0IbE",
        "colab_type": "code",
        "colab": {}
      },
      "source": [
        "PROJECT = \"\" #@param {type:\"string\"}\n"
      ],
      "execution_count": 0,
      "outputs": []
    },
    {
      "cell_type": "markdown",
      "metadata": {
        "id": "Z2Oj5NJqz_N3",
        "colab_type": "text"
      },
      "source": [
        "GCP Bucket 목록 확인"
      ]
    },
    {
      "cell_type": "code",
      "metadata": {
        "id": "BMnnSqBuz8lO",
        "colab_type": "code",
        "colab": {}
      },
      "source": [
        "# bucket 목록 확인\n",
        "!gsutil ls -p {PROJECT}"
      ],
      "execution_count": 0,
      "outputs": []
    },
    {
      "cell_type": "markdown",
      "metadata": {
        "id": "eIBLsU7O0R3-",
        "colab_type": "text"
      },
      "source": [
        "GCP Bucket 생성\n",
        "- 별도의 GCP Bucket을 생성하려면 'gs://'로 시작하는 고유한 이름을 지정해줘야 합니다."
      ]
    },
    {
      "cell_type": "code",
      "metadata": {
        "id": "LivwG-ga0PqX",
        "colab_type": "code",
        "colab": {}
      },
      "source": [
        "# Bucket 이름 정의\n",
        "import re\n",
        "\n",
        "BUCKET = \"\"  #@param {type:\"string\"}\n",
        "\n",
        "assert re.search(r'gs://.+', BUCKET),'GCS bucket have to start gs://'"
      ],
      "execution_count": 0,
      "outputs": []
    },
    {
      "cell_type": "code",
      "metadata": {
        "id": "rQ37klYV1sVI",
        "colab_type": "code",
        "colab": {}
      },
      "source": [
        "# bucket 생성\n",
        "### option argument가 앞에오고 BUCKET이 제일 뒤로 가야 함\n",
        "!gsutil mb -p {PROJECT} {BUCKET}"
      ],
      "execution_count": 0,
      "outputs": []
    },
    {
      "cell_type": "code",
      "metadata": {
        "id": "Zajr8-jQ2caR",
        "colab_type": "code",
        "colab": {}
      },
      "source": [
        "# bucket 목록 확인\n",
        "!gsutil ls -p {PROJECT}"
      ],
      "execution_count": 0,
      "outputs": []
    },
    {
      "cell_type": "markdown",
      "metadata": {
        "id": "3abvCjok24rL",
        "colab_type": "text"
      },
      "source": [
        "GCP Bucket 공유 설정\n",
        "- colab에서 Bucket에 있는 데이터를 읽기 위해서는 gsutil acl ch 명령어를 사용하여 모든 사용자에게 버킷에 저장된 객체에 대한 읽기 권한을 부여합니다.\n",
        "  - 폴더를 공유할 수 도 있고, 특정 파일만 공유할 수도 있습니다.\n",
        "    - 폴더를 공유한 상태에서 새로운 파일이 추가될 경우, 이 파일은 기본적으로 공개가 아니었습니다. \n",
        "    - 새로 추가한 파일도 공유할 경우, 그 파일에 대해서 gsutil acl ch 을 추가로 수행했습니다.\n",
        "    - 이용할 파일이 공유상태가 되면 본 노트 첫번째 셀에서 실행한 GCP 연동 코드는 필요없습니다.\n",
        "  - 특정 유저에게만 해도 되는 지는 잘 모르겠습니다. 일단 저는 모두 공개로 놓고 하고 있습니다.\n",
        "  - 새로운 방법을 알고 계시는 분은 공유부탁드립니다.\n",
        "  \n",
        "  [참고1](https://cloud.google.com/storage/docs/access-control/making-data-public#objects)  \n",
        "  [참고2](https://cloud.google.com/storage/docs/access-control/making-data-public#buckets)"
      ]
    },
    {
      "cell_type": "code",
      "metadata": {
        "id": "ExEfwYpM3MbV",
        "colab_type": "code",
        "colab": {}
      },
      "source": [
        "!gsutil acl ch -u AllUsers:R {BUCKET}"
      ],
      "execution_count": 0,
      "outputs": []
    },
    {
      "cell_type": "markdown",
      "metadata": {
        "id": "vXiIDGCa3oU-",
        "colab_type": "text"
      },
      "source": [
        "GCP Bucket 공유 해제\n",
        "- 더 이상 파일을 사용하지 않고 보관만 하려면 공유권한을 삭제합니다.\n"
      ]
    },
    {
      "cell_type": "code",
      "metadata": {
        "id": "vG5WUyu93wdg",
        "colab_type": "code",
        "colab": {}
      },
      "source": [
        "gsutil acl ch -d AllUsers {BUCKET}"
      ],
      "execution_count": 0,
      "outputs": []
    },
    {
      "cell_type": "markdown",
      "metadata": {
        "id": "79E_Yxnm2hcf",
        "colab_type": "text"
      },
      "source": [
        "GCP Bucket 삭제\n",
        "- 더 이상 필요치 않은 Bucket이 있다면 삭제합니다."
      ]
    },
    {
      "cell_type": "code",
      "metadata": {
        "id": "DL0NwJi62fgf",
        "colab_type": "code",
        "colab": {}
      },
      "source": [
        "# {BUCKET}는 삭제할 BUCKET 이름\n",
        "!gsutil rm -r {BUCKET}"
      ],
      "execution_count": 0,
      "outputs": []
    }
  ]
}