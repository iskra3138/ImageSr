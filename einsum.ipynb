{
  "nbformat": 4,
  "nbformat_minor": 0,
  "metadata": {
    "colab": {
      "name": "einsum",
      "provenance": [],
      "collapsed_sections": [],
      "authorship_tag": "ABX9TyPJ0ECOSSLfUtR2JAb6QoP7",
      "include_colab_link": true
    },
    "kernelspec": {
      "name": "python3",
      "display_name": "Python 3"
    }
  },
  "cells": [
    {
      "cell_type": "markdown",
      "metadata": {
        "id": "view-in-github",
        "colab_type": "text"
      },
      "source": [
        "<a href=\"https://colab.research.google.com/github/iskra3138/ImageSr/blob/master/einsum.ipynb\" target=\"_parent\"><img src=\"https://colab.research.google.com/assets/colab-badge.svg\" alt=\"Open In Colab\"/></a>"
      ]
    },
    {
      "cell_type": "code",
      "metadata": {
        "id": "2xTLo0hES7Dv",
        "colab_type": "code",
        "colab": {
          "base_uri": "https://localhost:8080/",
          "height": 35
        },
        "outputId": "9b7dcbd2-b6b5-41f7-f431-ad44a0bc4229"
      },
      "source": [
        "#%tensorflow_version 2.x\n",
        "import tensorflow as tf"
      ],
      "execution_count": null,
      "outputs": [
        {
          "output_type": "stream",
          "text": [
            "TensorFlow 2.x selected.\n"
          ],
          "name": "stdout"
        }
      ]
    },
    {
      "cell_type": "code",
      "metadata": {
        "id": "Wixfi2FhTsNs",
        "colab_type": "code",
        "colab": {}
      },
      "source": [
        "import torch\n",
        "import numpy as np"
      ],
      "execution_count": null,
      "outputs": []
    },
    {
      "cell_type": "markdown",
      "metadata": {
        "id": "GGt5-XsTQp_L",
        "colab_type": "text"
      },
      "source": [
        "# EINSUM IS ALL YOU NEED - EINSTEIN SUMMATION IN DEEP LEARNING"
      ]
    },
    {
      "cell_type": "markdown",
      "metadata": {
        "id": "iS2JA7zhQtEU",
        "colab_type": "text"
      },
      "source": [
        "– Tim Rocktäschel, 30/04/2018 – updated 02/05/2018\n",
        "\n",
        "https://rockt.github.io/2018/04/30/einsum"
      ]
    },
    {
      "cell_type": "markdown",
      "metadata": {
        "id": "5qylgYWIQs7y",
        "colab_type": "text"
      },
      "source": [
        "When talking to colleagues I realized that not everyone knows about einsum, my favorite function for developing deep learning models. This post is trying to change that once and for all! :) Einstein summation (einsum) is implemented in numpy, as well as deep learning libraries such as TensorFlow and, thanks to Thomas Viehmann, recently also PyTorch. For background reading on einsum, I recommend the excellent blog posts by Olexa Bilaniuk and Alex Riley. While their posts discuss einsum in the context of numpy, I am going to illustrate how einsum is extremely useful for writing elegant PyTorch/TensorFlow models.1"
      ]
    },
    {
      "cell_type": "markdown",
      "metadata": {
        "id": "BfXAeAPXQy66",
        "colab_type": "text"
      },
      "source": [
        "## 1 EINSUM NOTATION"
      ]
    },
    {
      "cell_type": "markdown",
      "metadata": {
        "id": "ZEqlQS-pQ1zz",
        "colab_type": "text"
      },
      "source": [
        "If you are anything like me, you find it difficult to remember the names and signatures of all the different functions in PyTorch/TensorFlow for calculating dot products, outer products, transposes and matrix-vector or matrix-matrix multiplications. Einsum notation is an elegant way to express all of these, as well as complex operations on tensors, using essentially a domain-specific language. This has benefits beyond not having to memorize or regularly looking up specific library functions. Once you understand and make use of einsum, you will be able to write more concise and efficient code more quickly. When not using einsum it is easy to introduce unnecessary reshaping and transposing of tensors, as well as intermediate tensors that could be omitted. Furthermore, domain-specific languages like einsum can sometimes be compiled to high-performing code, and an einsum-like domain-specific language is in fact the basis for the recently introduced Tensor Comprehensions3 in PyTorch which automatically generate GPU code and auto-tune that code for specific input sizes. In addition, projects like opt einsum and tf einsum opt can be used to optimize tensor contraction order of einsum expressions.4\n",
        "\n",
        "Let's say we want to multiply two matrices ${\\color{red}\\mathbf{A}}\\in\\mathbb{R}^{I\\,\\times\\,K}$ and ${\\color{blue}\\mathbf{B}}\\in\\mathbb{R}^{K\\,\\times\\,J}$ followed by calculating the sum of each column resulting in a vector ${\\color{green}\\mathbf{c}}\\in\\mathbb{R}^{J}$ Using Einstein summation notation, we can write this as\n",
        "\n",
        "${\\color{green}c_j} = \\sum_i\\sum_k {\\color{red}A_{ik}}{\\color{blue}B_{kj}} = {\\color{red}A_{ik}}{\\color{blue}B_{kj}}$\n",
        "\n",
        "which specifies how all individual elements ci in c are calculated from multiplying values in the column vectors Ai: and row vectors B:j and summing them up. Note that for Einstein notation, the summation Sigmas can be dropped as we implicitly sum over repeated indices (k in this example) and indices not mentioned in the output specification (i in this example). So far so good, but we can also express more basic operations using einsum. For instance, calculating the dot product of two vectors a,b∈RI can be written as\n",
        "\n",
        "${\\color{green}c} = \\sum_i {\\color{red}a_i}{\\color{blue}b_i} = {\\color{red}a_i}{\\color{blue}b_i}.$\n",
        "\n",
        "A problem that I encounter often in deep learning is applying a transformation to vectors in a higher-order tensor. For example, I might have a tensor that contains T-long sequences of K-dimensional word vectors for N training examples in a batch and I want to project the word vectors to a different dimension Q. Let T∈RN×T×K be an order-3 tensor where the first dimension corresponds to the batch, the second dimension to the sequence length, and the last dimension to the word vectors. In addition, let W∈RK×Q be a projection matrix. The desired computation can be expressed using einsum\n",
        "\n",
        "${\\color{green}C_{ntq}} = \\sum_k {\\color{red}T_{ntk}}{\\color{blue}W_{kq}} = {\\color{red}T_{ntk}}{\\color{blue}W_{kq}}.$\n",
        "\n",
        "As a final example, say you are given an order-4 tensor T∈RN×T×K×M and you are supposed to project vectors in the 3rd dimension to Q using the projection matrix from before. However, let's say I also ask you to sum over the 2nd dimension and transpose the first and last dimension in the result, yielding a tensor C∈RM×,Q×N.5 Einsum to the rescue!\n",
        "\n",
        "${\\color{green}C_{mqn}} = \\sum_t\\sum_k {\\color{red}T_{ntkm}}{\\color{blue}W_{kq}} = {\\color{red}T_{ntkm}}{\\color{blue}W_{kq}}.$\n",
        "\n",
        "Note that transposing the result of the tensor contraction is achieved by swapping n with m (Cmqn instead of Cnqm)."
      ]
    },
    {
      "cell_type": "markdown",
      "metadata": {
        "id": "DYV9oFnNSSWK",
        "colab_type": "text"
      },
      "source": [
        "## 2 ALL YOU NEED: EINSUM IN NUMPY, PYTORCH, AND TENSORFLOW"
      ]
    },
    {
      "cell_type": "markdown",
      "metadata": {
        "id": "COeuBamkSWTt",
        "colab_type": "text"
      },
      "source": [
        "Einsum is implemented in numpy via np.einsum, in PyTorch via torch.einsum, and in TensorFlow via tf.einsum.6 All three einsum functions share the same signature einsum(equation,operands) where equation is a string representing the Einstein summation and operands is a sequence of tensors.7 The examples above can all be written using an equation string. For instance, our first example cj=∑i∑kAikBkj can be written as the equation string \"ik,kj -> j\". Note that the naming of the indices (i, j, k) is arbitrary but it needs to be used consistently.\n",
        "\n",
        "What's great about having einsum not only in numpy but also in PyTorch and TensorFlow is that it can be used in arbitrary computation graphs for neural network architectures and that we can backpropagate through it. A typical call to einsum has the following form\n",
        "\n",
        "${\\color{green}\\textbf{result}} = \\text{einsum}(\"{\\color{red}\\square\\square},{\\color{purple}\\square\\square\\square},{\\color{blue}\\square\\square}\\,\\text{->}\\,{\\color{green}\\square\\square}\", {\\color{red}\\text{arg1}}, {\\color{purple}\\text{arg2}}, {\\color{blue}\\text{arg3}})$\n",
        "\n",
        "result=einsum(\"□□,□□□,□□->□□\",arg1,arg2,arg3)\n",
        "\n",
        "\n",
        "where □ is a placeholder for a character identifying a tensor dimension. From this equation string we can infer that arg1 and arg3 are matrices, arg2 is an order-3 tensor, and that the result of this einsum operation is a matrix. Note that einsum works with a variable number of inputs. In the example above, einsum specifies an operation on three arguments, but it can also be used for operations involving one, two or more than three arguments. Einsum is best learned by studying examples, so let's go through some examples for einsum in PyTorch that correspond to library functions which are used in many deep learning models."
      ]
    },
    {
      "cell_type": "markdown",
      "metadata": {
        "id": "xaJL6S2sSwat",
        "colab_type": "text"
      },
      "source": [
        "### 2.1 MATRIX TRANSPOSE\n",
        "${\\color{green}B_{ji}} = {\\color{red}A_{ij}}$"
      ]
    },
    {
      "cell_type": "code",
      "metadata": {
        "id": "h56mxLbQ0MaI",
        "colab_type": "code",
        "colab": {
          "base_uri": "https://localhost:8080/",
          "height": 108
        },
        "outputId": "2a9324e3-2b5d-4936-ec15-51af1a8c0612"
      },
      "source": [
        "## Numpy \n",
        "a = np.arange(6).reshape(2, 3)\n",
        "b = np.einsum('ij->ji', a)\n",
        "print (\"original\", a)\n",
        "print (\"transpose\", b)"
      ],
      "execution_count": null,
      "outputs": [
        {
          "output_type": "stream",
          "text": [
            "original [[0 1 2]\n",
            " [3 4 5]]\n",
            "transpose [[0 3]\n",
            " [1 4]\n",
            " [2 5]]\n"
          ],
          "name": "stdout"
        }
      ]
    },
    {
      "cell_type": "code",
      "metadata": {
        "id": "AB9nfspuTo_S",
        "colab_type": "code",
        "colab": {
          "base_uri": "https://localhost:8080/",
          "height": 108
        },
        "outputId": "9216e792-bb32-4878-ffc6-c879f8fe9b71"
      },
      "source": [
        "## PyTorch \n",
        "a = torch.arange(6).reshape(2, 3)\n",
        "b =torch.einsum('ij->ji', [a])\n",
        "print (\"original\", a)\n",
        "print (\"transpose\", b)"
      ],
      "execution_count": null,
      "outputs": [
        {
          "output_type": "stream",
          "text": [
            "original tensor([[0, 1, 2],\n",
            "        [3, 4, 5]])\n",
            "transpose tensor([[0, 3],\n",
            "        [1, 4],\n",
            "        [2, 5]])\n"
          ],
          "name": "stdout"
        }
      ]
    },
    {
      "cell_type": "code",
      "metadata": {
        "id": "2A63kYXHQghQ",
        "colab_type": "code",
        "colab": {
          "base_uri": "https://localhost:8080/",
          "height": 145
        },
        "outputId": "6926725d-52e3-4ae8-c869-18f5a6b68c81"
      },
      "source": [
        "## Tensorflow \n",
        "a = tf.reshape(tf.range(6),(2, 3))\n",
        "b = tf.einsum('ij->ji', a)\n",
        "print (\"original\", a)\n",
        "print (\"transpose\", b)"
      ],
      "execution_count": null,
      "outputs": [
        {
          "output_type": "stream",
          "text": [
            "original tf.Tensor(\n",
            "[[0 1 2]\n",
            " [3 4 5]], shape=(2, 3), dtype=int32)\n",
            "transpose tf.Tensor(\n",
            "[[0 3]\n",
            " [1 4]\n",
            " [2 5]], shape=(3, 2), dtype=int32)\n"
          ],
          "name": "stdout"
        }
      ]
    },
    {
      "cell_type": "markdown",
      "metadata": {
        "id": "kK4DlzjEUMuh",
        "colab_type": "text"
      },
      "source": [
        "### 2.2 SUM\n",
        "${\\color{green}b} = \\sum_i\\sum_j {\\color{red}A_{ij}} = {\\color{red}A_{ij}}$"
      ]
    },
    {
      "cell_type": "code",
      "metadata": {
        "id": "0y6OJt8W0vIS",
        "colab_type": "code",
        "colab": {
          "base_uri": "https://localhost:8080/",
          "height": 72
        },
        "outputId": "a2f53f6d-2f6a-463b-f3e7-6763ad70b4b1"
      },
      "source": [
        "## Numpy\n",
        "a = np.arange(6).reshape(2, 3)\n",
        "b = np.einsum('ij->', a)\n",
        "\n",
        "print (\"original\", a)\n",
        "print (\"sum\", b)"
      ],
      "execution_count": null,
      "outputs": [
        {
          "output_type": "stream",
          "text": [
            "original [[0 1 2]\n",
            " [3 4 5]]\n",
            "sum 15\n"
          ],
          "name": "stdout"
        }
      ]
    },
    {
      "cell_type": "code",
      "metadata": {
        "id": "EjiffuxxTREF",
        "colab_type": "code",
        "colab": {
          "base_uri": "https://localhost:8080/",
          "height": 72
        },
        "outputId": "5efa3006-5834-4c52-a588-aad46382709a"
      },
      "source": [
        "## PyTorch\n",
        "a = torch.arange(6).reshape(2, 3)\n",
        "b = torch.einsum('ij->', [a])\n",
        "\n",
        "print (\"original\", a)\n",
        "print (\"sum\", b)"
      ],
      "execution_count": null,
      "outputs": [
        {
          "output_type": "stream",
          "text": [
            "original tensor([[0, 1, 2],\n",
            "        [3, 4, 5]])\n",
            "sum tensor(15)\n"
          ],
          "name": "stdout"
        }
      ]
    },
    {
      "cell_type": "code",
      "metadata": {
        "id": "HLEt_zJnUUMc",
        "colab_type": "code",
        "colab": {
          "base_uri": "https://localhost:8080/",
          "height": 90
        },
        "outputId": "31f2b9ae-6edb-4d8e-cf1a-2c56efba2712"
      },
      "source": [
        "## Tensorflow \n",
        "a = tf.range(6)\n",
        "a= tf.reshape(a, (2, 3))\n",
        "b = tf.einsum('ij->', a)\n",
        "\n",
        "print (\"original\", a)\n",
        "print (\"sum\", b)"
      ],
      "execution_count": null,
      "outputs": [
        {
          "output_type": "stream",
          "text": [
            "original tf.Tensor(\n",
            "[[0 1 2]\n",
            " [3 4 5]], shape=(2, 3), dtype=int32)\n",
            "sum tf.Tensor(15, shape=(), dtype=int32)\n"
          ],
          "name": "stdout"
        }
      ]
    },
    {
      "cell_type": "markdown",
      "metadata": {
        "id": "hw-KwkxOUqRs",
        "colab_type": "text"
      },
      "source": [
        "### 2.3 COLUMN SUM\n",
        "${\\color{green}b_j} = \\sum_i {\\color{red}A_{ij}} = {\\color{red}A_{ij}}$"
      ]
    },
    {
      "cell_type": "code",
      "metadata": {
        "id": "QyRHsR-S002w",
        "colab_type": "code",
        "colab": {
          "base_uri": "https://localhost:8080/",
          "height": 72
        },
        "outputId": "d16d076a-6e0b-496f-b152-a41bae35307b"
      },
      "source": [
        "## Numpy\n",
        "a = np.arange(6).reshape(2, 3)\n",
        "b = np.einsum('ij->j', a)\n",
        "\n",
        "print (\"original\", a)\n",
        "print (\"column sum\", b)"
      ],
      "execution_count": null,
      "outputs": [
        {
          "output_type": "stream",
          "text": [
            "original [[0 1 2]\n",
            " [3 4 5]]\n",
            "column sum [3 5 7]\n"
          ],
          "name": "stdout"
        }
      ]
    },
    {
      "cell_type": "code",
      "metadata": {
        "id": "4lwpJotNUrpY",
        "colab_type": "code",
        "colab": {
          "base_uri": "https://localhost:8080/",
          "height": 72
        },
        "outputId": "f3d6b8d7-6be6-4a4c-a1d1-eb29aa12b636"
      },
      "source": [
        "## PyTorch\n",
        "a = torch.arange(6).reshape(2, 3)\n",
        "b = torch.einsum('ij->j', [a])\n",
        "\n",
        "print (\"original\", a)\n",
        "print (\"column sum\", b)"
      ],
      "execution_count": null,
      "outputs": [
        {
          "output_type": "stream",
          "text": [
            "original tensor([[0, 1, 2],\n",
            "        [3, 4, 5]])\n",
            "column sum tensor([3, 5, 7])\n"
          ],
          "name": "stdout"
        }
      ]
    },
    {
      "cell_type": "code",
      "metadata": {
        "id": "NYFepM0hUriJ",
        "colab_type": "code",
        "colab": {
          "base_uri": "https://localhost:8080/",
          "height": 90
        },
        "outputId": "1242eedf-55a7-4709-c360-9324ff673cea"
      },
      "source": [
        "## Tensorflow \n",
        "a = tf.range(6)\n",
        "a = tf.reshape(a,(2, 3))\n",
        "b = tf.einsum('ij->j', a)\n",
        "\n",
        "print (\"original\", a)\n",
        "print (\"column sum\", b)"
      ],
      "execution_count": null,
      "outputs": [
        {
          "output_type": "stream",
          "text": [
            "original tf.Tensor(\n",
            "[[0 1 2]\n",
            " [3 4 5]], shape=(2, 3), dtype=int32)\n",
            "column sum tf.Tensor([3 5 7], shape=(3,), dtype=int32)\n"
          ],
          "name": "stdout"
        }
      ]
    },
    {
      "cell_type": "markdown",
      "metadata": {
        "colab_type": "text",
        "id": "ppPZ2IOvUy2Q"
      },
      "source": [
        "### 2.4 ROW SUM\n",
        "${\\color{green}b_i} = \\sum_j {\\color{red}A_{ij}} = {\\color{red}A_{ij}}$"
      ]
    },
    {
      "cell_type": "code",
      "metadata": {
        "id": "6xfeomW606Cj",
        "colab_type": "code",
        "colab": {
          "base_uri": "https://localhost:8080/",
          "height": 72
        },
        "outputId": "cd62d4ba-c7f6-49fe-d40f-461b6b9f3065"
      },
      "source": [
        "## Numpy\n",
        "a = np.arange(6).reshape(2, 3)\n",
        "b = np.einsum('ij->i', a)\n",
        "\n",
        "print (\"original\", a)\n",
        "print (\"row sum\", b)"
      ],
      "execution_count": null,
      "outputs": [
        {
          "output_type": "stream",
          "text": [
            "original [[0 1 2]\n",
            " [3 4 5]]\n",
            "row sum [ 3 12]\n"
          ],
          "name": "stdout"
        }
      ]
    },
    {
      "cell_type": "code",
      "metadata": {
        "colab_type": "code",
        "id": "5h4aNoZGUy2R",
        "colab": {
          "base_uri": "https://localhost:8080/",
          "height": 72
        },
        "outputId": "26347d0d-9f7a-4e70-fa43-3ee5ccf79f6c"
      },
      "source": [
        "## PyTorch\n",
        "a = torch.arange(6).reshape(2, 3)\n",
        "b = torch.einsum('ij->i', [a])\n",
        "\n",
        "print (\"original\", a)\n",
        "print (\"row sum\", b)"
      ],
      "execution_count": null,
      "outputs": [
        {
          "output_type": "stream",
          "text": [
            "original tensor([[0, 1, 2],\n",
            "        [3, 4, 5]])\n",
            "row sum tensor([ 3, 12])\n"
          ],
          "name": "stdout"
        }
      ]
    },
    {
      "cell_type": "code",
      "metadata": {
        "colab_type": "code",
        "id": "v07zP5GCUy2T",
        "colab": {
          "base_uri": "https://localhost:8080/",
          "height": 90
        },
        "outputId": "9a7b46e9-dc39-4e07-880d-6ddaf4a668f8"
      },
      "source": [
        "## Tensorflow \n",
        "a = tf.range(6)\n",
        "a = tf.reshape(a, (2, 3))\n",
        "b = tf.einsum('ij->i', a)\n",
        "\n",
        "print (\"original\", a)\n",
        "print (\"row sum\", b)"
      ],
      "execution_count": null,
      "outputs": [
        {
          "output_type": "stream",
          "text": [
            "original tf.Tensor(\n",
            "[[0 1 2]\n",
            " [3 4 5]], shape=(2, 3), dtype=int32)\n",
            "row sum tf.Tensor([ 3 12], shape=(2,), dtype=int32)\n"
          ],
          "name": "stdout"
        }
      ]
    },
    {
      "cell_type": "markdown",
      "metadata": {
        "colab_type": "text",
        "id": "zst_A7GaUy0e"
      },
      "source": [
        "### 2.5 MATRIX-VECTOR MULTIPLICATION\n",
        "${\\color{green}c_i} = \\sum_k {\\color{red}A_{ik}}{\\color{blue}b_k} = {\\color{red}A_{ik}}{\\color{blue}b_k}$"
      ]
    },
    {
      "cell_type": "code",
      "metadata": {
        "id": "I6j3eWuJ1BOc",
        "colab_type": "code",
        "colab": {
          "base_uri": "https://localhost:8080/",
          "height": 90
        },
        "outputId": "300954d1-df78-4d12-e855-0d539daa0e94"
      },
      "source": [
        "## Numpy\n",
        "a = np.arange(6).reshape(2, 3)\n",
        "b = np.arange(3)\n",
        "c = np.einsum('ik,k->i', a, b)\n",
        "# tensor([  5.,  14.])\n",
        "\n",
        "print (a)\n",
        "print (b)\n",
        "print (c)"
      ],
      "execution_count": null,
      "outputs": [
        {
          "output_type": "stream",
          "text": [
            "[[0 1 2]\n",
            " [3 4 5]]\n",
            "[0 1 2]\n",
            "[ 5 14]\n"
          ],
          "name": "stdout"
        }
      ]
    },
    {
      "cell_type": "code",
      "metadata": {
        "colab_type": "code",
        "id": "wDLbu_DqUy0g",
        "colab": {
          "base_uri": "https://localhost:8080/",
          "height": 90
        },
        "outputId": "cc0f4077-0713-4a50-e233-19ee3f7b2cb0"
      },
      "source": [
        "## PyTorch\n",
        "a = torch.arange(6).reshape(2, 3)\n",
        "b = torch.arange(3)\n",
        "c = torch.einsum('ik,k->i', [a, b])\n",
        "# tensor([  5.,  14.])\n",
        "\n",
        "print (a)\n",
        "print (b)\n",
        "print (c)"
      ],
      "execution_count": null,
      "outputs": [
        {
          "output_type": "stream",
          "text": [
            "tensor([[0, 1, 2],\n",
            "        [3, 4, 5]])\n",
            "tensor([0, 1, 2])\n",
            "tensor([ 5, 14])\n"
          ],
          "name": "stdout"
        }
      ]
    },
    {
      "cell_type": "code",
      "metadata": {
        "colab_type": "code",
        "id": "Jy2_ZlKDUy0j",
        "colab": {
          "base_uri": "https://localhost:8080/",
          "height": 108
        },
        "outputId": "5dcbdec4-d354-401f-e85f-891fa649cd5a"
      },
      "source": [
        "## Tensorflow \n",
        "a = tf.range(6)\n",
        "a = tf.reshape(a, (2, 3))\n",
        "b = tf.range(3)\n",
        "c = tf.einsum('ik,k->i', a, b)\n",
        "# tensor([  5.,  14.])\n",
        "\n",
        "print (a)\n",
        "print (b)\n",
        "print (c)"
      ],
      "execution_count": null,
      "outputs": [
        {
          "output_type": "stream",
          "text": [
            "tf.Tensor(\n",
            "[[0 1 2]\n",
            " [3 4 5]], shape=(2, 3), dtype=int32)\n",
            "tf.Tensor([0 1 2], shape=(3,), dtype=int32)\n",
            "tf.Tensor([ 5 14], shape=(2,), dtype=int32)\n"
          ],
          "name": "stdout"
        }
      ]
    },
    {
      "cell_type": "markdown",
      "metadata": {
        "colab_type": "text",
        "id": "qFoxQgi4U4B-"
      },
      "source": [
        "### 2.6 MATRIX-MATRIX MULTIPLICATION\n",
        "${\\color{green}C_{ij}} = \\sum_k {\\color{red}A_{ik}}{\\color{blue}B_{kj}} =  {\\color{red}A_{ik}}{\\color{blue}B_{kj}}$"
      ]
    },
    {
      "cell_type": "code",
      "metadata": {
        "id": "_mcjKhCw1JIb",
        "colab_type": "code",
        "colab": {
          "base_uri": "https://localhost:8080/",
          "height": 145
        },
        "outputId": "434acaee-e816-433e-d179-23cd639ec928"
      },
      "source": [
        "## Numpy\n",
        "a = np.arange(6).reshape(2, 3)\n",
        "b = np.arange(15).reshape(3, 5)\n",
        "c = np.einsum('ik,kj->ij', a, b)\n",
        "'''\n",
        "tensor([[  25.,   28.,   31.,   34.,   37.],\n",
        "        [  70.,   82.,   94.,  106.,  118.]])\n",
        "'''\n",
        "print (a)\n",
        "print (b)\n",
        "print (c)"
      ],
      "execution_count": null,
      "outputs": [
        {
          "output_type": "stream",
          "text": [
            "[[0 1 2]\n",
            " [3 4 5]]\n",
            "[[ 0  1  2  3  4]\n",
            " [ 5  6  7  8  9]\n",
            " [10 11 12 13 14]]\n",
            "[[ 25  28  31  34  37]\n",
            " [ 70  82  94 106 118]]\n"
          ],
          "name": "stdout"
        }
      ]
    },
    {
      "cell_type": "code",
      "metadata": {
        "colab_type": "code",
        "id": "Srl8sLRbU4B_",
        "colab": {
          "base_uri": "https://localhost:8080/",
          "height": 145
        },
        "outputId": "3f2e3017-1db9-41db-b2d3-f42749c61f4f"
      },
      "source": [
        "## PyTorch\n",
        "a = torch.arange(6).reshape(2, 3)\n",
        "b = torch.arange(15).reshape(3, 5)\n",
        "c = torch.einsum('ik,kj->ij', [a, b])\n",
        "'''\n",
        "tensor([[  25.,   28.,   31.,   34.,   37.],\n",
        "        [  70.,   82.,   94.,  106.,  118.]])\n",
        "'''\n",
        "print (a)\n",
        "print (b)\n",
        "print (c)"
      ],
      "execution_count": null,
      "outputs": [
        {
          "output_type": "stream",
          "text": [
            "tensor([[0, 1, 2],\n",
            "        [3, 4, 5]])\n",
            "tensor([[ 0,  1,  2,  3,  4],\n",
            "        [ 5,  6,  7,  8,  9],\n",
            "        [10, 11, 12, 13, 14]])\n",
            "tensor([[ 25,  28,  31,  34,  37],\n",
            "        [ 70,  82,  94, 106, 118]])\n"
          ],
          "name": "stdout"
        }
      ]
    },
    {
      "cell_type": "code",
      "metadata": {
        "colab_type": "code",
        "id": "27ILG_x2U4CC",
        "colab": {
          "base_uri": "https://localhost:8080/",
          "height": 199
        },
        "outputId": "73521809-9cb8-4d21-8d73-d92041e85b26"
      },
      "source": [
        "## Tensorflow \n",
        "a = tf.range(6)\n",
        "a = tf.reshape(a, (2, 3))\n",
        "b = tf.range(15)\n",
        "b = tf.reshape(b, (3, 5))\n",
        "c = tf.einsum('ik,kj->ij', a, b)\n",
        "'''\n",
        "tensor([[  25.,   28.,   31.,   34.,   37.],\n",
        "        [  70.,   82.,   94.,  106.,  118.]])\n",
        "'''\n",
        "print (a)\n",
        "print (b)\n",
        "print (c)"
      ],
      "execution_count": null,
      "outputs": [
        {
          "output_type": "stream",
          "text": [
            "tf.Tensor(\n",
            "[[0 1 2]\n",
            " [3 4 5]], shape=(2, 3), dtype=int32)\n",
            "tf.Tensor(\n",
            "[[ 0  1  2  3  4]\n",
            " [ 5  6  7  8  9]\n",
            " [10 11 12 13 14]], shape=(3, 5), dtype=int32)\n",
            "tf.Tensor(\n",
            "[[ 25  28  31  34  37]\n",
            " [ 70  82  94 106 118]], shape=(2, 5), dtype=int32)\n"
          ],
          "name": "stdout"
        }
      ]
    },
    {
      "cell_type": "markdown",
      "metadata": {
        "colab_type": "text",
        "id": "ar3lifE6U3R8"
      },
      "source": [
        "### 2.7 DOT PRODUCT"
      ]
    },
    {
      "cell_type": "markdown",
      "metadata": {
        "id": "Oll4QGIqXlR8",
        "colab_type": "text"
      },
      "source": [
        "Vector:\n",
        "\n",
        "${\\color{green}c} = \\sum_i {\\color{red}a_i\\color{blue}b_i} = {\\color{red}a_i\\color{blue}b_i}$"
      ]
    },
    {
      "cell_type": "code",
      "metadata": {
        "id": "pqDD9W261Soh",
        "colab_type": "code",
        "colab": {
          "base_uri": "https://localhost:8080/",
          "height": 90
        },
        "outputId": "36edd739-5321-423a-a128-1a8724cb00bb"
      },
      "source": [
        "## Numpy\n",
        "a = np.arange(3)\n",
        "b = np.arange(3,6)  # -- a vector of length 3 containing [3, 4, 5]\n",
        "c = np.einsum('i,i->', a, b)\n",
        "\n",
        "print (a)\n",
        "print (b)\n",
        "print (c)\n",
        "\n",
        "'''\n",
        "tensor(14.)\n",
        "'''"
      ],
      "execution_count": null,
      "outputs": [
        {
          "output_type": "stream",
          "text": [
            "[0 1 2]\n",
            "[3 4 5]\n",
            "14\n"
          ],
          "name": "stdout"
        },
        {
          "output_type": "execute_result",
          "data": {
            "text/plain": [
              "'\\ntensor(14.)\\n'"
            ]
          },
          "metadata": {
            "tags": []
          },
          "execution_count": 10
        }
      ]
    },
    {
      "cell_type": "code",
      "metadata": {
        "colab_type": "code",
        "id": "E_T6jHeiU3R9",
        "colab": {
          "base_uri": "https://localhost:8080/",
          "height": 72
        },
        "outputId": "289f74e0-7dad-4578-ac0d-60c591704494"
      },
      "source": [
        "## PyTorch\n",
        "a = torch.arange(3)\n",
        "b = torch.arange(3,6)  # -- a vector of length 3 containing [3, 4, 5]\n",
        "c = torch.einsum('i,i->', [a, b])\n",
        "\n",
        "print (a)\n",
        "print (b)\n",
        "print (c)\n",
        "\n",
        "'''\n",
        "tensor(14.)\n",
        "'''"
      ],
      "execution_count": null,
      "outputs": [
        {
          "output_type": "stream",
          "text": [
            "tensor([0, 1, 2])\n",
            "tensor([3, 4, 5])\n",
            "tensor(14)\n"
          ],
          "name": "stdout"
        }
      ]
    },
    {
      "cell_type": "code",
      "metadata": {
        "colab_type": "code",
        "id": "YH-dBUijU3SA",
        "colab": {
          "base_uri": "https://localhost:8080/",
          "height": 90
        },
        "outputId": "28910ede-3cf5-4034-bf7c-5939b0cdaa1e"
      },
      "source": [
        "## Tensorflow \n",
        "a = tf.range(3)\n",
        "b = tf.range(3,6)  # -- a vector of length 3 containing [3, 4, 5]\n",
        "c = tf.einsum('i,i->', a, b)\n",
        "\n",
        "print (a)\n",
        "print (b)\n",
        "print (c)\n",
        "\n",
        "'''\n",
        "tensor(14.)\n",
        "'''"
      ],
      "execution_count": null,
      "outputs": [
        {
          "output_type": "stream",
          "text": [
            "tf.Tensor([0 1 2], shape=(3,), dtype=int32)\n",
            "tf.Tensor([3 4 5], shape=(3,), dtype=int32)\n",
            "tf.Tensor(14, shape=(), dtype=int32)\n"
          ],
          "name": "stdout"
        },
        {
          "output_type": "execute_result",
          "data": {
            "text/plain": [
              "'\\ntensor(14.)\\n'"
            ]
          },
          "metadata": {
            "tags": []
          },
          "execution_count": 3
        }
      ]
    },
    {
      "cell_type": "markdown",
      "metadata": {
        "id": "9NUQWDoJXySD",
        "colab_type": "text"
      },
      "source": [
        "Matrix:\n",
        "\n",
        "${\\color{green}c} = \\sum_i\\sum_j {\\color{red}A_{ij}\\color{blue}B_{ij}} = {\\color{red}A_{ij}\\color{blue}B_{ij}}$"
      ]
    },
    {
      "cell_type": "code",
      "metadata": {
        "id": "u6pnFOg61bm0",
        "colab_type": "code",
        "colab": {
          "base_uri": "https://localhost:8080/",
          "height": 108
        },
        "outputId": "c3cdf32d-0ac5-4bc6-a80b-7624c8d141cb"
      },
      "source": [
        "## Numpy\n",
        "a = np.arange(6).reshape(2, 3)\n",
        "b = np.arange(6,12).reshape(2, 3)\n",
        "c = np.einsum('ij,ij->', a, b)\n",
        "'''\n",
        "tensor(145.)\n",
        "'''\n",
        "print (a)\n",
        "print (b)\n",
        "print (c)"
      ],
      "execution_count": null,
      "outputs": [
        {
          "output_type": "stream",
          "text": [
            "[[0 1 2]\n",
            " [3 4 5]]\n",
            "[[ 6  7  8]\n",
            " [ 9 10 11]]\n",
            "145\n"
          ],
          "name": "stdout"
        }
      ]
    },
    {
      "cell_type": "code",
      "metadata": {
        "id": "MtFTEdBuYAp-",
        "colab_type": "code",
        "colab": {
          "base_uri": "https://localhost:8080/",
          "height": 108
        },
        "outputId": "3897b60a-b522-41ca-b645-a7f50b795ad2"
      },
      "source": [
        "## PyTorch\n",
        "a = torch.arange(6).reshape(2, 3)\n",
        "b = torch.arange(6,12).reshape(2, 3)\n",
        "c = torch.einsum('ij,ij->', [a, b])\n",
        "'''\n",
        "tensor(145.)\n",
        "'''\n",
        "print (a)\n",
        "print (b)\n",
        "print (c)"
      ],
      "execution_count": null,
      "outputs": [
        {
          "output_type": "stream",
          "text": [
            "tensor([[0, 1, 2],\n",
            "        [3, 4, 5]])\n",
            "tensor([[ 6,  7,  8],\n",
            "        [ 9, 10, 11]])\n",
            "tensor(145)\n"
          ],
          "name": "stdout"
        }
      ]
    },
    {
      "cell_type": "code",
      "metadata": {
        "id": "mET-WI4TYAhP",
        "colab_type": "code",
        "colab": {
          "base_uri": "https://localhost:8080/",
          "height": 145
        },
        "outputId": "8a0102d0-52cf-4312-c762-20e8f795c54e"
      },
      "source": [
        "## Tensorflow \n",
        "a = tf.range(6)\n",
        "a = tf.reshape(a, (2, 3))\n",
        "b = tf.range(6,12)\n",
        "b = tf.reshape(b, (2, 3))\n",
        "c = tf.einsum('ij,ij->', a, b)\n",
        "'''\n",
        "tensor(145.)\n",
        "'''\n",
        "print (a)\n",
        "print (b)\n",
        "print (c)"
      ],
      "execution_count": null,
      "outputs": [
        {
          "output_type": "stream",
          "text": [
            "tf.Tensor(\n",
            "[[0 1 2]\n",
            " [3 4 5]], shape=(2, 3), dtype=int32)\n",
            "tf.Tensor(\n",
            "[[ 6  7  8]\n",
            " [ 9 10 11]], shape=(2, 3), dtype=int32)\n",
            "tf.Tensor(145, shape=(), dtype=int32)\n"
          ],
          "name": "stdout"
        }
      ]
    },
    {
      "cell_type": "markdown",
      "metadata": {
        "colab_type": "text",
        "id": "EakmKgyNU3wm"
      },
      "source": [
        "### 2.8 HADAMARD PRODUCT\n",
        "${\\color{green}C_{ij}} = {\\color{red}A_{ij}\\color{blue}B_{ij}}$"
      ]
    },
    {
      "cell_type": "code",
      "metadata": {
        "id": "H3WOzfes1iys",
        "colab_type": "code",
        "colab": {
          "base_uri": "https://localhost:8080/",
          "height": 126
        },
        "outputId": "518e41f5-8ae8-46bb-c262-425776bc4db5"
      },
      "source": [
        "## Numpy\n",
        "a = np.arange(6).reshape(2, 3)\n",
        "b = np.arange(6,12).reshape(2, 3)\n",
        "c = np.einsum('ij,ij->ij', a, b)\n",
        "'''\n",
        "tensor([[  0.,   7.,  16.],\n",
        "        [ 27.,  40.,  55.]])\n",
        "'''\n",
        "print (a)\n",
        "print (b)\n",
        "print (c)"
      ],
      "execution_count": null,
      "outputs": [
        {
          "output_type": "stream",
          "text": [
            "[[0 1 2]\n",
            " [3 4 5]]\n",
            "[[ 6  7  8]\n",
            " [ 9 10 11]]\n",
            "[[ 0  7 16]\n",
            " [27 40 55]]\n"
          ],
          "name": "stdout"
        }
      ]
    },
    {
      "cell_type": "code",
      "metadata": {
        "colab_type": "code",
        "id": "KfylKT2wU3wn",
        "colab": {
          "base_uri": "https://localhost:8080/",
          "height": 126
        },
        "outputId": "fb10511f-9c2b-4cab-c538-fbee081f4dcf"
      },
      "source": [
        "## PyTorch\n",
        "a = torch.arange(6).reshape(2, 3)\n",
        "b = torch.arange(6,12).reshape(2, 3)\n",
        "c = torch.einsum('ij,ij->ij', [a, b])\n",
        "'''\n",
        "tensor([[  0.,   7.,  16.],\n",
        "        [ 27.,  40.,  55.]])\n",
        "'''\n",
        "print (a)\n",
        "print (b)\n",
        "print (c)"
      ],
      "execution_count": null,
      "outputs": [
        {
          "output_type": "stream",
          "text": [
            "tensor([[0, 1, 2],\n",
            "        [3, 4, 5]])\n",
            "tensor([[ 6,  7,  8],\n",
            "        [ 9, 10, 11]])\n",
            "tensor([[ 0,  7, 16],\n",
            "        [27, 40, 55]])\n"
          ],
          "name": "stdout"
        }
      ]
    },
    {
      "cell_type": "code",
      "metadata": {
        "colab_type": "code",
        "id": "7tHSvXK3U3wq",
        "colab": {
          "base_uri": "https://localhost:8080/",
          "height": 181
        },
        "outputId": "c8e36631-75ae-47c7-b24b-436a88f7b3ca"
      },
      "source": [
        "## Tensorflow \n",
        "a = tf.range(6)\n",
        "a = tf.reshape(a, (2, 3))\n",
        "b = tf.range(6,12)\n",
        "b = tf.reshape(b, (2, 3))\n",
        "c = tf.einsum('ij,ij->ij', a, b)\n",
        "'''\n",
        "tensor([[  0.,   7.,  16.],\n",
        "        [ 27.,  40.,  55.]])\n",
        "'''\n",
        "print (a)\n",
        "print (b)\n",
        "print (c)"
      ],
      "execution_count": null,
      "outputs": [
        {
          "output_type": "stream",
          "text": [
            "tf.Tensor(\n",
            "[[0 1 2]\n",
            " [3 4 5]], shape=(2, 3), dtype=int32)\n",
            "tf.Tensor(\n",
            "[[ 6  7  8]\n",
            " [ 9 10 11]], shape=(2, 3), dtype=int32)\n",
            "tf.Tensor(\n",
            "[[ 0  7 16]\n",
            " [27 40 55]], shape=(2, 3), dtype=int32)\n"
          ],
          "name": "stdout"
        }
      ]
    },
    {
      "cell_type": "markdown",
      "metadata": {
        "id": "XLRWgzSHYYPv",
        "colab_type": "text"
      },
      "source": [
        "### 2.9 OUTER PRODUCT\n",
        "\n",
        "${\\color{green}C_{ij}} = {\\color{red}a_i\\color{blue}b_j}$"
      ]
    },
    {
      "cell_type": "code",
      "metadata": {
        "id": "FpDVumwp1qEa",
        "colab_type": "code",
        "colab": {
          "base_uri": "https://localhost:8080/",
          "height": 108
        },
        "outputId": "b90f330a-085a-49f3-8f4a-aff6bd9dd75b"
      },
      "source": [
        "## Numpy\n",
        "a = np.arange(3)\n",
        "b = np.arange(3,7)  # -- a vector of length 4 containing [3, 4, 5, 6]\n",
        "c = np.einsum('i,j->ij', a, b)\n",
        "\n",
        "'''\n",
        "tensor([[  0.,   0.,   0.,   0.],\n",
        "        [  3.,   4.,   5.,   6.],\n",
        "        [  6.,   8.,  10.,  12.]])\n",
        "'''\n",
        "print (a)\n",
        "print (b)\n",
        "print (c)"
      ],
      "execution_count": null,
      "outputs": [
        {
          "output_type": "stream",
          "text": [
            "[0 1 2]\n",
            "[3 4 5 6]\n",
            "[[ 0  0  0  0]\n",
            " [ 3  4  5  6]\n",
            " [ 6  8 10 12]]\n"
          ],
          "name": "stdout"
        }
      ]
    },
    {
      "cell_type": "code",
      "metadata": {
        "id": "4t_DsuXvYcBK",
        "colab_type": "code",
        "colab": {
          "base_uri": "https://localhost:8080/",
          "height": 108
        },
        "outputId": "c9095927-bba9-48f2-8622-218ef2b5cecb"
      },
      "source": [
        "## PyTorch\n",
        "a = torch.arange(3)\n",
        "b = torch.arange(3,7)  # -- a vector of length 4 containing [3, 4, 5, 6]\n",
        "c = torch.einsum('i,j->ij', [a, b])\n",
        "\n",
        "'''\n",
        "tensor([[  0.,   0.,   0.,   0.],\n",
        "        [  3.,   4.,   5.,   6.],\n",
        "        [  6.,   8.,  10.,  12.]])\n",
        "'''\n",
        "print (a)\n",
        "print (b)\n",
        "print (c)"
      ],
      "execution_count": null,
      "outputs": [
        {
          "output_type": "stream",
          "text": [
            "tensor([0, 1, 2])\n",
            "tensor([3, 4, 5, 6])\n",
            "tensor([[ 0,  0,  0,  0],\n",
            "        [ 3,  4,  5,  6],\n",
            "        [ 6,  8, 10, 12]])\n"
          ],
          "name": "stdout"
        }
      ]
    },
    {
      "cell_type": "code",
      "metadata": {
        "id": "2SV4pisLYjA5",
        "colab_type": "code",
        "colab": {
          "base_uri": "https://localhost:8080/",
          "height": 126
        },
        "outputId": "8cb87a2e-6dab-4929-d31d-c85a5470d304"
      },
      "source": [
        "## Tensorflow \n",
        "a = tf.range(3)\n",
        "b = tf.range(3,7)  # -- a vector of length 4 containing [3, 4, 5, 6]\n",
        "c = tf.einsum('i,j->ij', a, b)\n",
        "\n",
        "'''\n",
        "tensor([[  0.,   0.,   0.,   0.],\n",
        "        [  3.,   4.,   5.,   6.],\n",
        "        [  6.,   8.,  10.,  12.]])\n",
        "'''\n",
        "print (a)\n",
        "print (b)\n",
        "print (c)"
      ],
      "execution_count": null,
      "outputs": [
        {
          "output_type": "stream",
          "text": [
            "tf.Tensor([0 1 2], shape=(3,), dtype=int32)\n",
            "tf.Tensor([3 4 5 6], shape=(4,), dtype=int32)\n",
            "tf.Tensor(\n",
            "[[ 0  0  0  0]\n",
            " [ 3  4  5  6]\n",
            " [ 6  8 10 12]], shape=(3, 4), dtype=int32)\n"
          ],
          "name": "stdout"
        }
      ]
    },
    {
      "cell_type": "markdown",
      "metadata": {
        "id": "L2xlUb-_Ykmx",
        "colab_type": "text"
      },
      "source": [
        "### 2.10 BATCH MATRIX MULTIPLICATION\n",
        "\n",
        "${\\color{green}C_{ijl}} = \\sum_k{\\color{red}A_{ijk}\\color{blue}B_{ikl}} = {\\color{red}A_{ijk}\\color{blue}B_{ikl}}$"
      ]
    },
    {
      "cell_type": "code",
      "metadata": {
        "id": "qntUh5ig1xEv",
        "colab_type": "code",
        "colab": {
          "base_uri": "https://localhost:8080/",
          "height": 199
        },
        "outputId": "3cbb3f31-337f-4714-fc04-83a8834471fa"
      },
      "source": [
        "## Numpy\n",
        "a = np.random.randn(3,2,5)\n",
        "b = np.random.randn(3,5,3)\n",
        "c = np.einsum('ijk,ikl->ijl', a, b)\n",
        "\n",
        "print (a.shape)\n",
        "print (b.shape)\n",
        "print (c)"
      ],
      "execution_count": null,
      "outputs": [
        {
          "output_type": "stream",
          "text": [
            "(3, 2, 5)\n",
            "(3, 5, 3)\n",
            "[[[-0.95550252  2.93340872 -2.66304665]\n",
            "  [-1.24365154 -2.71546213 -2.1199949 ]]\n",
            "\n",
            " [[-0.55838726 -1.43049071 -0.86375113]\n",
            "  [ 0.68469286 -2.76500144  1.6191076 ]]\n",
            "\n",
            " [[-4.58631627 -0.1202802   2.91707242]\n",
            "  [ 0.46530767 -3.80597532 -1.13911806]]]\n"
          ],
          "name": "stdout"
        }
      ]
    },
    {
      "cell_type": "code",
      "metadata": {
        "id": "zDZkIpmOYqng",
        "colab_type": "code",
        "colab": {
          "base_uri": "https://localhost:8080/",
          "height": 199
        },
        "outputId": "8962e04c-ac9d-44dc-c66f-40d8a22500f5"
      },
      "source": [
        "## PyTorch\n",
        "a = torch.randn(3,2,5)\n",
        "b = torch.randn(3,5,3)\n",
        "c = torch.einsum('ijk,ikl->ijl', [a, b])\n",
        "\n",
        "print (a.shape)\n",
        "print (b.shape)\n",
        "print (c)"
      ],
      "execution_count": null,
      "outputs": [
        {
          "output_type": "stream",
          "text": [
            "torch.Size([3, 2, 5])\n",
            "torch.Size([3, 5, 3])\n",
            "tensor([[[ 1.0160,  0.5631,  0.1172],\n",
            "         [-0.2825, -2.3514, -0.1016]],\n",
            "\n",
            "        [[ 3.1685, -2.4267,  1.8415],\n",
            "         [ 0.8695,  1.9025, -0.6790]],\n",
            "\n",
            "        [[ 0.1533, -8.8327, -2.9347],\n",
            "         [-0.3107,  1.7491,  1.3890]]])\n"
          ],
          "name": "stdout"
        }
      ]
    },
    {
      "cell_type": "code",
      "metadata": {
        "id": "7bVBtcsXYrT4",
        "colab_type": "code",
        "colab": {
          "base_uri": "https://localhost:8080/",
          "height": 217
        },
        "outputId": "4a525d32-609f-48e5-e1a0-53c87c6ce39b"
      },
      "source": [
        "## Tensorflow \n",
        "a = tf.random.normal((3,2,5))\n",
        "b = tf.random.normal((3,5,3))\n",
        "c = tf.einsum('ijk,ikl->ijl', a, b)\n",
        "\n",
        "print (a.shape)\n",
        "print (b.shape)\n",
        "print (c)"
      ],
      "execution_count": null,
      "outputs": [
        {
          "output_type": "stream",
          "text": [
            "(3, 2, 5)\n",
            "(3, 5, 3)\n",
            "tf.Tensor(\n",
            "[[[-2.4720335   6.1345625   1.0750296 ]\n",
            "  [ 0.9897116   0.3400598   1.6981529 ]]\n",
            "\n",
            " [[ 1.9287645  -1.9831697   0.4655583 ]\n",
            "  [-2.8058667   0.9074414  -1.1197346 ]]\n",
            "\n",
            " [[-1.1438993  -0.971941   -0.22273944]\n",
            "  [-0.29590404 -0.22368309 -0.9517663 ]]], shape=(3, 2, 3), dtype=float32)\n"
          ],
          "name": "stdout"
        }
      ]
    },
    {
      "cell_type": "markdown",
      "metadata": {
        "id": "2ki0ycKvY5Gn",
        "colab_type": "text"
      },
      "source": [
        "### 2.11 TENSOR CONTRACTION\n",
        "\n",
        "Batch matrix multiplication is a special case of a tensor contraction. Let's say we have two tensors, an order-n tensor A∈RI1×⋯×In and an order-m tensor B∈RJ1×⋯×Im. As an example, take n=4, m=5 and assume that I2=J3 and I3=J5. We can multiply the two tensors in these two dimensions (2 and 3 for A and 3 and 5 for B) resulting in a new tensor C∈RI1×I4×J1×J2×J4 as follows\n",
        "\n",
        "${\\color{green}C_{pstuv}} = \\sum_q\\sum_r{\\color{red}A_{pqrs}\\color{blue}B_{tuqvr}} = {\\color{red}A_{pqrs}\\color{blue}B_{tuqvr}}$"
      ]
    },
    {
      "cell_type": "code",
      "metadata": {
        "id": "6qDfYimw19Xk",
        "colab_type": "code",
        "colab": {
          "base_uri": "https://localhost:8080/",
          "height": 72
        },
        "outputId": "8acc7348-b8a1-443c-8241-3a7d63470e94"
      },
      "source": [
        "## Numpy\n",
        "a = np.random.randn(2,3,5,7)\n",
        "b = np.random.randn(11,13,3,17,5)\n",
        "c = np.einsum('pqrs,tuqvr->pstuv', a, b).shape\n",
        "\n",
        "print (a.shape)\n",
        "print (b.shape)\n",
        "print (c)"
      ],
      "execution_count": null,
      "outputs": [
        {
          "output_type": "stream",
          "text": [
            "(2, 3, 5, 7)\n",
            "(11, 13, 3, 17, 5)\n",
            "(2, 7, 11, 13, 17)\n"
          ],
          "name": "stdout"
        }
      ]
    },
    {
      "cell_type": "code",
      "metadata": {
        "id": "rFyEq1V5Y9_U",
        "colab_type": "code",
        "colab": {
          "base_uri": "https://localhost:8080/",
          "height": 72
        },
        "outputId": "e3c8fa41-d725-4402-8661-076317fa674d"
      },
      "source": [
        "## PyTorch\n",
        "a = torch.randn(2,3,5,7)\n",
        "b = torch.randn(11,13,3,17,5)\n",
        "c = torch.einsum('pqrs,tuqvr->pstuv', [a, b]).shape\n",
        "\n",
        "print (a.shape)\n",
        "print (b.shape)\n",
        "print (c)"
      ],
      "execution_count": null,
      "outputs": [
        {
          "output_type": "stream",
          "text": [
            "torch.Size([2, 3, 5, 7])\n",
            "torch.Size([11, 13, 3, 17, 5])\n",
            "torch.Size([2, 7, 11, 13, 17])\n"
          ],
          "name": "stdout"
        }
      ]
    },
    {
      "cell_type": "code",
      "metadata": {
        "id": "lcf7tXtaZBV2",
        "colab_type": "code",
        "colab": {
          "base_uri": "https://localhost:8080/",
          "height": 72
        },
        "outputId": "d368cbdd-e75a-4b6c-f5ca-427a98f2b1ca"
      },
      "source": [
        "## Tensorflow \n",
        "a = tf.random.normal((2,3,5,7))\n",
        "b = tf.random.normal((11,13,3,17,5))\n",
        "c = tf.einsum('pqrs,tuqvr->pstuv', a, b).shape\n",
        "\n",
        "print (a.shape)\n",
        "print (b.shape)\n",
        "print (c)"
      ],
      "execution_count": null,
      "outputs": [
        {
          "output_type": "stream",
          "text": [
            "(2, 3, 5, 7)\n",
            "(11, 13, 3, 17, 5)\n",
            "(2, 7, 11, 13, 17)\n"
          ],
          "name": "stdout"
        }
      ]
    },
    {
      "cell_type": "markdown",
      "metadata": {
        "id": "E_OkyVOTZLBC",
        "colab_type": "text"
      },
      "source": [
        "### 2.12 BILINEAR TRANSFORMATION\n",
        "\n",
        "As mentioned earlier, einsum can operate on more than two tensors. One example where this is used is bilinear transformation.\n",
        "\n",
        "${\\color{green}D_{ij}} = \\sum_k\\sum_l{\\color{red}A_{ik}}{\\color{purple}B_{jkl}}{\\color{blue}C_{il}} = {\\color{red}A_{ik}}{\\color{purple}B_{jkl}}{\\color{blue}C_{il}}$\n"
      ]
    },
    {
      "cell_type": "code",
      "metadata": {
        "id": "_r1wAn822E_o",
        "colab_type": "code",
        "colab": {
          "base_uri": "https://localhost:8080/",
          "height": 108
        },
        "outputId": "d121106c-3bed-455f-c75d-1a293e32b52a"
      },
      "source": [
        "## Numpy\n",
        "a = np.random.randn(2,3)\n",
        "b = np.random.randn(5,3,7)\n",
        "c = np.random.randn(2,7)\n",
        "d = np.einsum('ik,jkl,il->ij', a, b, c)\n",
        "\n",
        "print (a.shape)\n",
        "print (b.shape)\n",
        "print (c.shape)\n",
        "print (d)"
      ],
      "execution_count": null,
      "outputs": [
        {
          "output_type": "stream",
          "text": [
            "(2, 3)\n",
            "(5, 3, 7)\n",
            "(2, 7)\n",
            "[[10.95754188 17.36015475 -2.14860697 13.87924475 -2.19096659]\n",
            " [-1.10782111  3.95644448 -0.66453269  0.40203265 -2.73663174]]\n"
          ],
          "name": "stdout"
        }
      ]
    },
    {
      "cell_type": "code",
      "metadata": {
        "id": "7Dlr2thoZP0B",
        "colab_type": "code",
        "colab": {
          "base_uri": "https://localhost:8080/",
          "height": 108
        },
        "outputId": "d83eacd1-c1b8-4f0a-c307-25b2c6b01514"
      },
      "source": [
        "## PyTorch\n",
        "a = torch.randn(2,3)\n",
        "b = torch.randn(5,3,7)\n",
        "c = torch.randn(2,7)\n",
        "d = torch.einsum('ik,jkl,il->ij', [a, b, c])\n",
        "\n",
        "print (a.shape)\n",
        "print (b.shape)\n",
        "print (c.shape)\n",
        "print (d)"
      ],
      "execution_count": null,
      "outputs": [
        {
          "output_type": "stream",
          "text": [
            "torch.Size([2, 3])\n",
            "torch.Size([5, 3, 7])\n",
            "torch.Size([2, 7])\n",
            "tensor([[-6.7528e+00, -8.6984e-01, -4.3319e-03, -5.8195e-02,  6.3494e+00],\n",
            "        [-6.5004e-01,  1.3124e+00,  1.4814e+00,  1.7223e+00,  3.2651e+00]])\n"
          ],
          "name": "stdout"
        }
      ]
    },
    {
      "cell_type": "code",
      "metadata": {
        "id": "zJUsXzQDZSXJ",
        "colab_type": "code",
        "colab": {
          "base_uri": "https://localhost:8080/",
          "height": 126
        },
        "outputId": "e3dac0a2-6c8d-40ec-c507-336e107e9370"
      },
      "source": [
        "## Tensorflow \n",
        "a = tf.random.normal((2,3))\n",
        "b = tf.random.normal((5,3,7))\n",
        "c = tf.random.normal((2,7))\n",
        "d = tf.einsum('ik,jkl,il->ij', a, b, c)\n",
        "\n",
        "print (a.shape)\n",
        "print (b.shape)\n",
        "print (c.shape)\n",
        "print (d)"
      ],
      "execution_count": null,
      "outputs": [
        {
          "output_type": "stream",
          "text": [
            "(2, 3)\n",
            "(5, 3, 7)\n",
            "(2, 7)\n",
            "tf.Tensor(\n",
            "[[-0.08772419  2.6937442   3.023434    0.54483443 -3.9494355 ]\n",
            " [ 1.1517725   0.30645236 -1.321343    2.4934564  -0.03937294]], shape=(2, 5), dtype=float32)\n"
          ],
          "name": "stdout"
        }
      ]
    },
    {
      "cell_type": "code",
      "metadata": {
        "id": "DYCVqIcsT8Oq",
        "colab_type": "code",
        "colab": {}
      },
      "source": [
        ""
      ],
      "execution_count": null,
      "outputs": []
    }
  ]
}