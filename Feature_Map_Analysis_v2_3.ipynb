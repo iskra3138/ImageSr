{
  "nbformat": 4,
  "nbformat_minor": 0,
  "metadata": {
    "colab": {
      "name": "Feature_Map_Analysis_v2.3.ipynb",
      "provenance": [],
      "collapsed_sections": [],
      "include_colab_link": true
    },
    "kernelspec": {
      "name": "python3",
      "display_name": "Python 3"
    },
    "accelerator": "GPU"
  },
  "cells": [
    {
      "cell_type": "markdown",
      "metadata": {
        "id": "view-in-github",
        "colab_type": "text"
      },
      "source": [
        "<a href=\"https://colab.research.google.com/github/iskra3138/ImageSr/blob/master/Feature_Map_Analysis_v2_3.ipynb\" target=\"_parent\"><img src=\"https://colab.research.google.com/assets/colab-badge.svg\" alt=\"Open In Colab\"/></a>"
      ]
    },
    {
      "cell_type": "markdown",
      "metadata": {
        "id": "QFZvDr3Itc5M"
      },
      "source": [
        "v2\r\n",
        "- adaptive frac 추가 : grad_cam값이 0.3보다 큰 비율 적용\r\n",
        "- frac 1.0 추가 : binary화 하지 않고 mask값을 그냥 input에 곱해버림\r\n",
        "\r\n",
        "v2.1\r\n",
        "- out*grad == 0 일 때만 고려\r\n",
        "\r\n",
        "v2.2\r\n",
        "- NMS 적용\r\n",
        "\r\n",
        "v2.3\r\n",
        "- 코드 정리"
      ]
    },
    {
      "cell_type": "code",
      "metadata": {
        "id": "EHUfaYysHuOZ",
        "colab": {
          "base_uri": "https://localhost:8080/"
        },
        "outputId": "64663d96-765d-4970-991a-d9d8839f3ced"
      },
      "source": [
        "!nvidia-smi"
      ],
      "execution_count": 1,
      "outputs": [
        {
          "output_type": "stream",
          "text": [
            "Sun Feb 14 11:54:44 2021       \n",
            "+-----------------------------------------------------------------------------+\n",
            "| NVIDIA-SMI 460.39       Driver Version: 460.32.03    CUDA Version: 11.2     |\n",
            "|-------------------------------+----------------------+----------------------+\n",
            "| GPU  Name        Persistence-M| Bus-Id        Disp.A | Volatile Uncorr. ECC |\n",
            "| Fan  Temp  Perf  Pwr:Usage/Cap|         Memory-Usage | GPU-Util  Compute M. |\n",
            "|                               |                      |               MIG M. |\n",
            "|===============================+======================+======================|\n",
            "|   0  Tesla T4            Off  | 00000000:00:04.0 Off |                    0 |\n",
            "| N/A   50C    P8    10W /  70W |      0MiB / 15109MiB |      0%      Default |\n",
            "|                               |                      |                  N/A |\n",
            "+-------------------------------+----------------------+----------------------+\n",
            "                                                                               \n",
            "+-----------------------------------------------------------------------------+\n",
            "| Processes:                                                                  |\n",
            "|  GPU   GI   CI        PID   Type   Process name                  GPU Memory |\n",
            "|        ID   ID                                                   Usage      |\n",
            "|=============================================================================|\n",
            "|  No running processes found                                                 |\n",
            "+-----------------------------------------------------------------------------+\n"
          ],
          "name": "stdout"
        }
      ]
    },
    {
      "cell_type": "markdown",
      "metadata": {
        "id": "fmQ3e6eY02sA"
      },
      "source": [
        "### Preliminary"
      ]
    },
    {
      "cell_type": "code",
      "metadata": {
        "id": "2ELjiUj0KHQ6"
      },
      "source": [
        "import tensorflow as tf\n",
        "from tensorflow import keras\n",
        "from scipy.ndimage.interpolation import zoom\n",
        "from tensorflow.keras.preprocessing.image import load_img, img_to_array\n",
        "from tensorflow.keras.models import load_model, save_model\n",
        "import tensorflow.keras.backend as K\n",
        "from tensorflow.keras.preprocessing.image import load_img, img_to_array\n",
        "from PIL import Image\n",
        "from tqdm import tqdm\n",
        "import matplotlib.pyplot as plt\n",
        "import ipywidgets\n",
        "from IPython.utils import io\n",
        "physical_devices = tf.config.experimental.list_physical_devices('GPU')\n",
        "tf.config.experimental.set_memory_growth(physical_devices[0], True)\n",
        "import numpy as np\n",
        "import pandas as pd\n",
        "import cv2\n",
        "\n",
        "import seaborn as sns\n",
        "from google.colab import widgets\n",
        "\n",
        "from time import time"
      ],
      "execution_count": 2,
      "outputs": []
    },
    {
      "cell_type": "code",
      "metadata": {
        "id": "En3ryhJYKK3F",
        "colab": {
          "base_uri": "https://localhost:8080/"
        },
        "outputId": "3d67b894-6389-4cfa-9015-4fee0f6bd41b"
      },
      "source": [
        "print(f'Tf version : {tf.__version__}')\n",
        "print(f'Keras version : {keras.__version__}')"
      ],
      "execution_count": 3,
      "outputs": [
        {
          "output_type": "stream",
          "text": [
            "Tf version : 2.4.1\n",
            "Keras version : 2.4.0\n"
          ],
          "name": "stdout"
        }
      ]
    },
    {
      "cell_type": "code",
      "metadata": {
        "id": "aBLd1efwKggO",
        "colab": {
          "base_uri": "https://localhost:8080/"
        },
        "outputId": "e3367548-bb4c-4c55-b5fe-b439b58f6f5d"
      },
      "source": [
        "model = tf.keras.applications.ResNet50V2(\n",
        "    include_top=True, weights='imagenet', input_tensor=None, input_shape=None,\n",
        "    pooling=None, classes=1000, classifier_activation='softmax'\n",
        ")"
      ],
      "execution_count": 4,
      "outputs": [
        {
          "output_type": "stream",
          "text": [
            "Downloading data from https://storage.googleapis.com/tensorflow/keras-applications/resnet/resnet50v2_weights_tf_dim_ordering_tf_kernels.h5\n",
            "102875136/102869336 [==============================] - 1s 0us/step\n"
          ],
          "name": "stdout"
        }
      ]
    },
    {
      "cell_type": "code",
      "metadata": {
        "id": "D0YRxCRZhJpw",
        "colab": {
          "base_uri": "https://localhost:8080/"
        },
        "outputId": "632ed35e-b95c-4e00-dd03-4f5d4ad1107b"
      },
      "source": [
        "!wget -O cat1.jpg https://static.scientificamerican.com/sciam/cache/file/92E141F8-36E4-4331-BB2EE42AC8674DD3_source.jpg\n",
        "Image.open('cat1.jpg').resize((224,224)).save('cat1.jpg')"
      ],
      "execution_count": 5,
      "outputs": [
        {
          "output_type": "stream",
          "text": [
            "--2021-02-14 11:54:58--  https://static.scientificamerican.com/sciam/cache/file/92E141F8-36E4-4331-BB2EE42AC8674DD3_source.jpg\n",
            "Resolving static.scientificamerican.com (static.scientificamerican.com)... 151.101.2.49, 151.101.66.49, 151.101.130.49, ...\n",
            "Connecting to static.scientificamerican.com (static.scientificamerican.com)|151.101.2.49|:443... connected.\n",
            "HTTP request sent, awaiting response... 200 OK\n",
            "Length: 292933 (286K) [image/jpeg]\n",
            "Saving to: ‘cat1.jpg’\n",
            "\n",
            "\rcat1.jpg              0%[                    ]       0  --.-KB/s               \rcat1.jpg            100%[===================>] 286.07K  --.-KB/s    in 0.02s   \n",
            "\n",
            "2021-02-14 11:54:58 (11.3 MB/s) - ‘cat1.jpg’ saved [292933/292933]\n",
            "\n"
          ],
          "name": "stdout"
        }
      ]
    },
    {
      "cell_type": "code",
      "metadata": {
        "colab": {
          "base_uri": "https://localhost:8080/"
        },
        "id": "hWEVlfBW3wj9",
        "outputId": "c020deb5-e3dd-4f37-dd68-4c783bcd338f"
      },
      "source": [
        "!wget -O cat2.jpg https://www.ctvnews.ca/polopoly_fs/1.5098407.1599687805!/httpImage/image.jpg_gen/derivatives/landscape_1020/image.jpg\r\n",
        "Image.open('cat2.jpg').resize((224,224)).save('cat2.jpg')"
      ],
      "execution_count": 6,
      "outputs": [
        {
          "output_type": "stream",
          "text": [
            "--2021-02-14 11:54:58--  https://www.ctvnews.ca/polopoly_fs/1.5098407.1599687805!/httpImage/image.jpg_gen/derivatives/landscape_1020/image.jpg\n",
            "Resolving www.ctvnews.ca (www.ctvnews.ca)... 184.24.190.68\n",
            "Connecting to www.ctvnews.ca (www.ctvnews.ca)|184.24.190.68|:443... connected.\n",
            "HTTP request sent, awaiting response... 200 OK\n",
            "Length: unspecified [image/jpeg]\n",
            "Saving to: ‘cat2.jpg’\n",
            "\n",
            "\rcat2.jpg                [<=>                 ]       0  --.-KB/s               \rcat2.jpg                [ <=>                ] 124.23K  --.-KB/s    in 0.01s   \n",
            "\n",
            "2021-02-14 11:54:58 (8.15 MB/s) - ‘cat2.jpg’ saved [127210]\n",
            "\n"
          ],
          "name": "stdout"
        }
      ]
    },
    {
      "cell_type": "code",
      "metadata": {
        "id": "P_Rzp0Ngxd_A",
        "colab": {
          "base_uri": "https://localhost:8080/"
        },
        "outputId": "c1df89bc-e14b-4938-a14f-b6cecf751a06"
      },
      "source": [
        "!wget -O cat3.jpg https://img.webmd.com/dtmcms/live/webmd/consumer_assets/site_images/article_thumbnails/slideshows/people_foods_cats_can_eat_slideshow/1800x1200_people_foods_cats_can_eat_slideshow.jpg\n",
        "Image.open('cat3.jpg').resize((224,224)).save('cat3.jpg')"
      ],
      "execution_count": 7,
      "outputs": [
        {
          "output_type": "stream",
          "text": [
            "--2021-02-14 11:54:58--  https://img.webmd.com/dtmcms/live/webmd/consumer_assets/site_images/article_thumbnails/slideshows/people_foods_cats_can_eat_slideshow/1800x1200_people_foods_cats_can_eat_slideshow.jpg\n",
            "Resolving img.webmd.com (img.webmd.com)... 104.18.5.176, 104.18.4.176\n",
            "Connecting to img.webmd.com (img.webmd.com)|104.18.5.176|:443... connected.\n",
            "HTTP request sent, awaiting response... 200 OK\n",
            "Length: 388986 (380K) [image/jpeg]\n",
            "Saving to: ‘cat3.jpg’\n",
            "\n",
            "\rcat3.jpg              0%[                    ]       0  --.-KB/s               \rcat3.jpg            100%[===================>] 379.87K  --.-KB/s    in 0.02s   \n",
            "\n",
            "2021-02-14 11:54:58 (15.0 MB/s) - ‘cat3.jpg’ saved [388986/388986]\n",
            "\n"
          ],
          "name": "stdout"
        }
      ]
    },
    {
      "cell_type": "code",
      "metadata": {
        "colab": {
          "base_uri": "https://localhost:8080/"
        },
        "id": "70GR5UZj2nPJ",
        "outputId": "fcc0267d-696e-4107-f20a-30525397f953"
      },
      "source": [
        "!wget -O cat4.jpg https://www.rd.com/wp-content/uploads/2019/05/american-curl-kitten.jpg\r\n",
        "Image.open('cat4.jpg').resize((224,224)).save('cat4.jpg')"
      ],
      "execution_count": 8,
      "outputs": [
        {
          "output_type": "stream",
          "text": [
            "--2021-02-14 11:54:58--  https://www.rd.com/wp-content/uploads/2019/05/american-curl-kitten.jpg\n",
            "Resolving www.rd.com (www.rd.com)... 104.18.24.214, 104.18.25.214, 2606:4700::6812:19d6, ...\n",
            "Connecting to www.rd.com (www.rd.com)|104.18.24.214|:443... connected.\n",
            "HTTP request sent, awaiting response... 200 OK\n",
            "Length: 3143084 (3.0M) [image/jpeg]\n",
            "Saving to: ‘cat4.jpg’\n",
            "\n",
            "cat4.jpg            100%[===================>]   3.00M  --.-KB/s    in 0.05s   \n",
            "\n",
            "2021-02-14 11:54:58 (64.3 MB/s) - ‘cat4.jpg’ saved [3143084/3143084]\n",
            "\n"
          ],
          "name": "stdout"
        }
      ]
    },
    {
      "cell_type": "code",
      "metadata": {
        "id": "Y7Vj0ZoyyYJc",
        "colab": {
          "base_uri": "https://localhost:8080/"
        },
        "outputId": "e7709f86-8833-432e-934c-1d32bf9f2161"
      },
      "source": [
        "!wget -O dog1.jpg https://image.cnbcfm.com/api/v1/image/105992231-1561667465295gettyimages-521697453.jpeg\n",
        "Image.open('dog1.jpg').resize((224,224)).save('dog1.jpg')"
      ],
      "execution_count": 9,
      "outputs": [
        {
          "output_type": "stream",
          "text": [
            "--2021-02-14 11:54:59--  https://image.cnbcfm.com/api/v1/image/105992231-1561667465295gettyimages-521697453.jpeg\n",
            "Resolving image.cnbcfm.com (image.cnbcfm.com)... 2.20.34.117\n",
            "Connecting to image.cnbcfm.com (image.cnbcfm.com)|2.20.34.117|:443... connected.\n",
            "HTTP request sent, awaiting response... 200 OK\n",
            "Length: 218046 (213K) [image/jpeg]\n",
            "Saving to: ‘dog1.jpg’\n",
            "\n",
            "\rdog1.jpg              0%[                    ]       0  --.-KB/s               \rdog1.jpg            100%[===================>] 212.94K  --.-KB/s    in 0.03s   \n",
            "\n",
            "2021-02-14 11:54:59 (7.80 MB/s) - ‘dog1.jpg’ saved [218046/218046]\n",
            "\n"
          ],
          "name": "stdout"
        }
      ]
    },
    {
      "cell_type": "code",
      "metadata": {
        "id": "9nSUWlD1K_gP",
        "colab": {
          "base_uri": "https://localhost:8080/"
        },
        "outputId": "17ec7687-f101-4d9d-8c99-c0d4210a3dd9"
      },
      "source": [
        "!wget -O dog2.jpg https://www.sciencemag.org/sites/default/files/styles/article_main_image_-_1280w__no_aspect_/public/dogs_1280p_0.jpg\n",
        "Image.open('dog2.jpg').resize((224,224)).save('dog2.jpg')"
      ],
      "execution_count": 10,
      "outputs": [
        {
          "output_type": "stream",
          "text": [
            "--2021-02-14 11:55:00--  https://www.sciencemag.org/sites/default/files/styles/article_main_image_-_1280w__no_aspect_/public/dogs_1280p_0.jpg\n",
            "Resolving www.sciencemag.org (www.sciencemag.org)... 52.8.235.68, 52.9.23.109\n",
            "Connecting to www.sciencemag.org (www.sciencemag.org)|52.8.235.68|:443... connected.\n",
            "HTTP request sent, awaiting response... 200 OK\n",
            "Length: 145305 (142K) [image/jpeg]\n",
            "Saving to: ‘dog2.jpg’\n",
            "\n",
            "dog2.jpg            100%[===================>] 141.90K  --.-KB/s    in 0.06s   \n",
            "\n",
            "2021-02-14 11:55:00 (2.13 MB/s) - ‘dog2.jpg’ saved [145305/145305]\n",
            "\n"
          ],
          "name": "stdout"
        }
      ]
    },
    {
      "cell_type": "code",
      "metadata": {
        "id": "ku8BIYfQzNy8",
        "colab": {
          "base_uri": "https://localhost:8080/"
        },
        "outputId": "37ec9196-2be3-4465-d1db-a2efa3c4e82f"
      },
      "source": [
        "!wget -O car.jpg https://www.businessinsider.in/thumb/msid-74437579,width-600,resizemode-4,imgsize-161974/business/auto/news/bs6-deadline-get-discounts-of-up-to-250000-on-bs4-cars-in-india/bs4-car-discounts.jpg\n",
        "Image.open('car.jpg').resize((224,224)).save('car.jpg')"
      ],
      "execution_count": 11,
      "outputs": [
        {
          "output_type": "stream",
          "text": [
            "--2021-02-14 11:55:00--  https://www.businessinsider.in/thumb/msid-74437579,width-600,resizemode-4,imgsize-161974/business/auto/news/bs6-deadline-get-discounts-of-up-to-250000-on-bs4-cars-in-india/bs4-car-discounts.jpg\n",
            "Resolving www.businessinsider.in (www.businessinsider.in)... 104.92.250.49, 2600:1409:12:49d::3621, 2600:1409:12:494::3621\n",
            "Connecting to www.businessinsider.in (www.businessinsider.in)|104.92.250.49|:443... connected.\n",
            "HTTP request sent, awaiting response... 200 OK\n",
            "Length: 24221 (24K) [image/jpeg]\n",
            "Saving to: ‘car.jpg’\n",
            "\n",
            "car.jpg             100%[===================>]  23.65K  --.-KB/s    in 0.007s  \n",
            "\n",
            "2021-02-14 11:55:00 (3.46 MB/s) - ‘car.jpg’ saved [24221/24221]\n",
            "\n"
          ],
          "name": "stdout"
        }
      ]
    },
    {
      "cell_type": "code",
      "metadata": {
        "id": "MSqXABNn1Uyo"
      },
      "source": [
        "# Select layer to use\r\n",
        "layer_widget1 = ipywidgets.Text(value=\"conv2_block1_preact_relu\",\r\n",
        "                                   description='layer 1 선택:',\r\n",
        "                                   style={'description_width':'initial'})\r\n",
        "layer_widget2 = ipywidgets.Text(value=\"conv3_block1_preact_relu\",\r\n",
        "                                   description='layer 2 선택:',\r\n",
        "                                   style={'description_width':'initial'})\r\n",
        "layer_widget3 = ipywidgets.Text(value=\"conv4_block1_preact_relu\",\r\n",
        "                                   description='layer 3 선택:',\r\n",
        "                                   style={'description_width':'initial'})\r\n",
        "layer_widget4 = ipywidgets.Text(value=\"conv5_block1_preact_relu\",\r\n",
        "                                   description='layer 4 선택:',\r\n",
        "                                   style={'description_width':'initial'})\r\n",
        "layer_widget5 = ipywidgets.Text(value=\"post_relu\",\r\n",
        "                                   description='layer 5 선택:',\r\n",
        "                                   style={'description_width':'initial'})\r\n",
        "\r\n",
        "mask_layers = [layer_widget1.value, layer_widget2.value, layer_widget3.value, layer_widget4.value, layer_widget5.value]"
      ],
      "execution_count": 12,
      "outputs": []
    },
    {
      "cell_type": "markdown",
      "metadata": {
        "id": "r2IRYZqD0ZAO"
      },
      "source": [
        "### Util"
      ]
    },
    {
      "cell_type": "code",
      "metadata": {
        "id": "y3GJqdVe8kQv"
      },
      "source": [
        "def make_binary_masked_image(masks, img, frac = 0.15) :\r\n",
        "  w,h,c = masks.shape\r\n",
        "\r\n",
        "  binary_masks = np.transpose(masks, (2, 0, 1))\r\n",
        "  binary_masks_flat = binary_masks.reshape(c,-1)\r\n",
        "  _, top_n_idx = tf.math.top_k(\r\n",
        "      binary_masks_flat, k=int(w*h*frac), sorted=False, name=None\r\n",
        "  )\r\n",
        "  top_n_idx = top_n_idx.numpy()\r\n",
        "  for i in range(c):\r\n",
        "    idx = (top_n_idx[i]//w, top_n_idx[i]%w)\r\n",
        "    binary_masks[i] = 0\r\n",
        "    binary_masks[i][idx] = 1\r\n",
        "  binary_masks = np.transpose(binary_masks, (1, 2, 0))\r\n",
        "  # creates perturbed images to probe model.\r\n",
        "  X = np.einsum('hwc,hwn->nhwc', img, binary_masks)\r\n",
        "  return X"
      ],
      "execution_count": 13,
      "outputs": []
    },
    {
      "cell_type": "code",
      "metadata": {
        "id": "JJ6ceZYLwjzj"
      },
      "source": [
        "def show_scatter_plot(mask_layers, mask_names, l_inputs, l_results):\r\n",
        "  # plot scatter plots\r\n",
        "  #iname = ['outputs', 'outgrads', 'grads']\r\n",
        "  iname = mask_names\r\n",
        "  xname = ['avg', 'max', 'min']\r\n",
        "  n_cols = len(mask_layers)\r\n",
        "  grid = widgets.Grid(3, n_cols)\r\n",
        "\r\n",
        "  for l in range(len(mask_layers)):\r\n",
        "    for i, input in enumerate(l_inputs[l]) :\r\n",
        "      avg = np.mean(input, axis=(0,1))\r\n",
        "      min = np.min(input, axis=(0,1))\r\n",
        "      max = np.max(input, axis=(0,1))\r\n",
        "      for j, x in enumerate([avg,max,min]):\r\n",
        "        with grid.output_to(j, l):\r\n",
        "          plt.figure(figsize = (3,2))\r\n",
        "          sns.regplot(x=x, y=l_results[l][i], fit_reg=False) # no regression line\r\n",
        "          plt.title('{}'.format(mask_layers[l].split('_')[0]), fontsize=14)\r\n",
        "          plt.xlabel('{} of {}'.format(xname[j], iname[i]), fontsize=14)\r\n",
        "          plt.ylabel('preds', fontsize=14)\r\n",
        "          plt.show()"
      ],
      "execution_count": 83,
      "outputs": []
    },
    {
      "cell_type": "code",
      "metadata": {
        "id": "Bp8bingTxEMc"
      },
      "source": [
        "def show_saliency_maps(img, mask_layers, mask_names, l_inputs, l_results, frac=0.15):\r\n",
        "  iname = mask_names\r\n",
        "  xname = ['avg', 'max', 'min']\r\n",
        "  n_cols = len(mask_layers)\r\n",
        "  grid = widgets.Grid(1+len(iname)*2, n_cols)\r\n",
        "\r\n",
        "  for l in range(len(mask_layers)) :\r\n",
        "    with grid.output_to(0, l):\r\n",
        "      print (mask_layers[l])\r\n",
        "    for i, input in enumerate(l_inputs[l]) :\r\n",
        "      avg = np.mean(input, axis=(0,1))\r\n",
        "\r\n",
        "      with grid.output_to(2*i+1, l):\r\n",
        "        idx = np.argmax(l_results[l][i])\r\n",
        "        print (\"index: {}\".format(idx))\r\n",
        "        print (\"avg:{:.2f}, pred{:.2f}\".format(avg[idx], l_results[l][i][idx]))\r\n",
        "        print (\"result of {}\".format(iname[i]))\r\n",
        "\r\n",
        "        masks = input[:,:,idx]\r\n",
        "        masks = tf.image.resize(masks[:,:,np.newaxis], (224,224), method='bilinear').numpy()\r\n",
        "        masks -= np.min(masks, axis=(0,1))\r\n",
        "        masks /= (np.max(masks, axis=(0,1))+10e-30)\r\n",
        "\r\n",
        "        plt.figure(figsize = (3,3))\r\n",
        "        plt.imshow(img)\r\n",
        "        plt.imshow(masks[:,:,0], cmap='jet', alpha=0.5)\r\n",
        "        plt.axis('off')\r\n",
        "      with grid.output_to(2*(i+1), l):\r\n",
        "        if frac == 1.0 :\r\n",
        "          masked_img = np.einsum('hwc,hwn->nhwc', img, masks)[0]\r\n",
        "        else :\r\n",
        "          masked_img = make_binary_masked_image(masks, img, frac = frac)[0]\r\n",
        "        plt.figure(figsize = (3,3))\r\n",
        "        plt.imshow(masked_img)\r\n",
        "        plt.axis('off')"
      ],
      "execution_count": 117,
      "outputs": []
    },
    {
      "cell_type": "code",
      "metadata": {
        "id": "mPIxtEyzxEIt"
      },
      "source": [
        "import pandas as pd\r\n",
        "def maks_result_table(mask_layers, mask_names, pred, l_inputs, l_results):\r\n",
        "  first_index = []\r\n",
        "  for layer in mask_layers :\r\n",
        "    layer_name = layer.split('_')[0]\r\n",
        "    first_index.append(layer_name)\r\n",
        "  second_index = mask_names\r\n",
        "\r\n",
        "  index_list = [[f for f in first_index for _ in range(len(mask_names))],\r\n",
        "                [s for _ in range(5) for s in second_index]]\r\n",
        "\r\n",
        "  feature_list = ['#_map', \"masked_pred\", \"org_pred\", \"avg\", \"min\", \"max\"]\r\n",
        "  result_df = pd.DataFrame(np.zeros((len(index_list[0]),len(feature_list))), \r\n",
        "                          index=index_list, \r\n",
        "                          columns=feature_list)\r\n",
        "  for l in range(len(mask_layers)) :\r\n",
        "    for i, input in enumerate(l_inputs[l]) :\r\n",
        "      idx = np.argmax(l_results[l][i])\r\n",
        "      result_df.loc[first_index[l] , second_index[i]]['#_map'] = idx\r\n",
        "      result_df.loc[first_index[l] , second_index[i]]['masked_pred'] = l_results[l][i][idx]\r\n",
        "      result_df.loc[first_index[l] , second_index[i]]['org_pred'] = pred\r\n",
        "      result_df.loc[first_index[l] , second_index[i]]['avg'] = np.mean(input, axis=(0,1))[idx]\r\n",
        "      result_df.loc[first_index[l] , second_index[i]]['min'] = np.min(input, axis=(0,1))[idx]\r\n",
        "      result_df.loc[first_index[l] , second_index[i]]['max'] = np.max(input, axis=(0,1))[idx]\r\n",
        "      \r\n",
        "  return result_df"
      ],
      "execution_count": 133,
      "outputs": []
    },
    {
      "cell_type": "code",
      "metadata": {
        "id": "wzvq76tD4Y8f"
      },
      "source": [
        "# UTIL\r\n",
        "# Felzenszwalb et al\r\n",
        "from scipy import ndimage\r\n",
        "from skimage.measure import label, regionprops\r\n",
        "import matplotlib.patches as patches\r\n",
        "import numpy as np\r\n",
        "\r\n",
        "def non_max_suppression_fast(boxes, scores, mask_locs, iou_threshold):\r\n",
        "  '''\r\n",
        "  boxes : coordinates of each box\r\n",
        "  scores : score of each box\r\n",
        "  iou_threshold : iou threshold(box with iou larger than threshold will be removed)\r\n",
        "\t'''\r\n",
        "  if len(boxes) == 0:\r\n",
        "    return ([])\r\n",
        "  \r\n",
        "  # Init the picked box info\r\n",
        "  pick = []\r\n",
        "  mask_locs = np.array(mask_locs)\r\n",
        "\r\n",
        "\t# Box coordinate consist of left top and right bottom\r\n",
        "  x1 = boxes[:,0]\r\n",
        "  y1 = boxes[:,1]\r\n",
        "  x2 = boxes[:,2]\r\n",
        "  y2 = boxes[:,3]\r\n",
        "\r\n",
        "  # Compute area of each boxes\r\n",
        "  area = (x2 - x1 + 1) * (y2 - y1 + 1)\r\n",
        "  # Greedily select the order of box to compare iou\r\n",
        "  idxs = np.argsort(scores)\r\n",
        "\t\r\n",
        "  while (len(idxs) > 0):\r\n",
        "    last = len(idxs) - 1\r\n",
        "    i = idxs[last]\r\n",
        "    pick.append(i)\r\n",
        "    \r\n",
        "    # With vector implementation, we can calculate fast\r\n",
        "    xx1 = np.maximum(x1[i], x1[idxs[:last]])\r\n",
        "    yy1 = np.maximum(y1[i], y1[idxs[:last]])\r\n",
        "    xx2 = np.minimum(x2[i], x2[idxs[:last]])\r\n",
        "    yy2 = np.minimum(y2[i], y2[idxs[:last]])\r\n",
        "\r\n",
        "    w = np.maximum(0, xx2 - xx1 + 1)\r\n",
        "    h = np.maximum(0, yy2 - yy1 + 1)\r\n",
        "    intersection = w * h\r\n",
        "        \r\n",
        "    # Calculate the iou\r\n",
        "    iou = intersection / (area[idxs[:last]] + area[idxs[last]] - intersection)\r\n",
        "    \r\n",
        "    idxs = np.delete(idxs, np.concatenate(([last], np.where(iou > iou_threshold)[0])))\r\n",
        "        \r\n",
        "  return mask_locs[pick].astype(\"int\") #pick\t#boxes[pick].astype(\"int\")\r\n",
        "\r\n",
        "\r\n",
        "def generate_bbox(cam, threshold):\r\n",
        "    labeled, nr_objects = ndimage.label(cam > threshold)\r\n",
        "    props = regionprops(labeled)\r\n",
        "    return props\r\n"
      ],
      "execution_count": 134,
      "outputs": []
    },
    {
      "cell_type": "code",
      "metadata": {
        "id": "3Ct1d2ijZhDf"
      },
      "source": [
        ""
      ],
      "execution_count": 134,
      "outputs": []
    },
    {
      "cell_type": "code",
      "metadata": {
        "id": "6I1vJ0fYZg2u"
      },
      "source": [
        "def positive_grads (inputs, grads) :\r\n",
        "  zero_idxs = np.where(np.mean(grads, axis=(0,1)) > 0)[0]\r\n",
        "  print (zero_idxs.shape)\r\n",
        "  positive_inputs = []\r\n",
        "  for input in inputs :\r\n",
        "    positive_inputs.append(input[:,:,zero_idxs])\r\n",
        "  return positive_inputs"
      ],
      "execution_count": 135,
      "outputs": []
    },
    {
      "cell_type": "code",
      "metadata": {
        "id": "yg8nao7xZgix"
      },
      "source": [
        "# nms based selection\r\n",
        "def nms(inputs) :\r\n",
        "  nms_inputs = []\r\n",
        "  for fmap in inputs :\r\n",
        "    fmap -= np.min(fmap, axis=(0,1))\r\n",
        "    fmap /= (np.max(fmap, axis=(0,1))+10e-30)\r\n",
        "\r\n",
        "    boxes=[]\r\n",
        "    scores =[]\r\n",
        "    mask_locs=[]\r\n",
        "\r\n",
        "    for i in range(fmap.shape[2]) :\r\n",
        "      mask = fmap[:,:,i]\r\n",
        "      props = generate_bbox(mask, 0.5)\r\n",
        "      if len(props) != 0 :\r\n",
        "        for k, b in enumerate(props):\r\n",
        "          boxes.append(b.bbox)\r\n",
        "          xmin, ymin, xmax, ymax = b.bbox[0], b.bbox[1], b.bbox[2], b.bbox[3]\r\n",
        "          scores.append(mask[xmin:xmax,ymin:ymax].mean())\r\n",
        "          mask_locs.append(i)\r\n",
        "    boxes  = np.array(boxes)\r\n",
        "    picks = non_max_suppression_fast(boxes, scores, mask_locs, iou_threshold=0.7)\r\n",
        "    picks = list(set(picks))\r\n",
        "    if len(picks) == 0 :\r\n",
        "      picks =[0]\r\n",
        "    fmap = fmap[:,:,picks]\r\n",
        "    print (len(picks))\r\n",
        "    nms_inputs.append(fmap)\r\n",
        "  return nms_inputs    "
      ],
      "execution_count": 136,
      "outputs": []
    },
    {
      "cell_type": "markdown",
      "metadata": {
        "id": "qVFezURL0r9W"
      },
      "source": [
        "### Main"
      ]
    },
    {
      "cell_type": "code",
      "metadata": {
        "id": "GP1MYEfh0zcm"
      },
      "source": [
        "import cv2\r\n",
        "from time import time\r\n",
        "import numpy as np\r\n",
        "\r\n",
        "import tensorflow as tf\r\n",
        "#############################\r\n",
        "\r\n",
        "def sp_xai_layers(images, \r\n",
        "                  model, \r\n",
        "                  layers, \r\n",
        "                  class_index, \r\n",
        "                  mask_names = ['outputs', 'outgrads','grads'], \r\n",
        "                  positive_selection = False,\r\n",
        "                  nms_selection = True,  \r\n",
        "                  interp='bilinear', \r\n",
        "                  frac = None):\r\n",
        "  '''\r\n",
        "  Derives feature maps from one, or a couple of layers, and post-processes them\r\n",
        "  to convert them to attribution masks.\r\n",
        "\r\n",
        "  inputs:\r\n",
        "      images: a 4-D tensor image.\r\n",
        "      model: the classification model\r\n",
        "      layers: list of layers to investigate.\r\n",
        "      class_index: the output class according to whom the layer(s) are visualized.\r\n",
        "      mask_names: mask_names to check \r\n",
        "        It shoud be a combiantion of ['outputs','outgrads','grads']\r\n",
        "      positive_selection: wheter to use only fmaps with positive gradient.\r\n",
        "      nms_selection: wheter to use nms strategy for fmap selection \r\n",
        "      interp: upsampling technique.\r\n",
        "        For now, 'bilinear' and 'nearest' are supported.\r\n",
        "      frac: The fraction of top pixels selected.\r\n",
        "  returns:\r\n",
        "      l_inputs\r\n",
        "      l_results\r\n",
        "      preds\r\n",
        "  '''\r\n",
        "  assert interp in ['bilinear', 'nearest'], 'Selected upsampling type undefined or unsupported.'\r\n",
        "  # Forward pass to get attribution masks.\r\n",
        "\r\n",
        "  ###by LGSP\r\n",
        "  conv_outputs=[]\r\n",
        "  for layer in model.layers:\r\n",
        "    if np.isin(layer.name,layers):\r\n",
        "      conv_outputs.append(layer.output)\r\n",
        "  conv_outputs.append(model.output)\r\n",
        "\r\n",
        "  feedforward1=tf.keras.models.Model([model.input], [conv_outputs], trainable=False)\r\n",
        "  with tf.GradientTape() as tape:\r\n",
        "    ff_results=feedforward1([images])[0]\r\n",
        "    all_fmap_masks, predictions = ff_results[:-1], ff_results[-1]\r\n",
        "    loss = predictions[:, class_index]\r\n",
        "  gradients = tape.gradient(loss, all_fmap_masks)\r\n",
        "  # upsample and normalize masks.\r\n",
        "\r\n",
        "  if frac == None : # choose the ratio of grad_cam bigger than 0.3 as frac\r\n",
        "    weights = np.mean(gradients[-1][0], axis=(0, 1))\r\n",
        "    tmp = np.dot(all_fmap_masks[-1][0].numpy(), weights) \r\n",
        "    tmp = np.maximum(tmp, 0) #relu\r\n",
        "    tmp -= np.min(tmp)\r\n",
        "    tmp /= (np.max(tmp)+1e-10)\r\n",
        "    frac = (np.where(tmp>0.3)[0].shape[0]/(tmp.shape[0]**2)) ##\r\n",
        "  print (\"frac: \", frac)\r\n",
        "\r\n",
        "  #start = time()\r\n",
        "  pred = loss.numpy()\r\n",
        "  l_inputs = []\r\n",
        "  l_results = []\r\n",
        "  l_masked_imgs = []\r\n",
        "\r\n",
        "  input_names = ['outputs','grads','outgrads']\r\n",
        "  \r\n",
        "  for l in range(len(layers)):\r\n",
        "    masks= []\r\n",
        "    masks.append(all_fmap_masks[l][0].numpy()) # outputs\r\n",
        "    masks.append(gradients[l][0].numpy()) # grads\r\n",
        "    masks.append(np.einsum('hwc,hwc->hwc', masks[0], masks[1])) # outgrads\r\n",
        "\r\n",
        "    inputs=[]\r\n",
        "    for name in mask_names :\r\n",
        "      inputs.append(masks[input_names.index(name)])\r\n",
        "\r\n",
        "    ### Selection\r\n",
        "    if positive_selection:\r\n",
        "      inputs = positive_grads(inputs, masks[1])\r\n",
        "    if nms_selection :\r\n",
        "      inputs = nms(inputs)\r\n",
        "\r\n",
        "    results = []\r\n",
        "    for tmp_masks in inputs :\t\r\n",
        "\r\n",
        "      if interp == 'bilinear':\r\n",
        "        masks = tf.image.resize(tmp_masks, (224,224), method='bilinear').numpy()\r\n",
        "      elif interp == 'nearest':\r\n",
        "        masks = tf.image.resize(tmp_masks, (224,224), method='nearest').numpy()\r\n",
        "      else: raise ValueError('You have selected an unsupported interpolation type.')    \r\n",
        "      masks -= np.min(masks, axis=(0,1))\r\n",
        "      masks /= (np.max(masks, axis=(0,1))+10e-30)\r\n",
        "\r\n",
        "      if frac == 1.0 :\r\n",
        "        # creates perturbed images to probe model.\r\n",
        "        img = images[0]\r\n",
        "        X = np.einsum('hwc,hwn->nhwc', img, masks)\r\n",
        "\r\n",
        "      else :\r\n",
        "        X = make_binary_masked_image(masks, images[0], frac = frac)\r\n",
        "\r\n",
        "      # second forward pass to valuate attribution maps  \r\n",
        "      preds_masked = model.predict(X, verbose=0)[:,class_index]\r\n",
        "      results.append(preds_masked)\r\n",
        "    l_inputs.append(inputs)\r\n",
        "    l_results.append(results)\r\n",
        "  return l_inputs, l_results, pred, frac\r\n"
      ],
      "execution_count": 155,
      "outputs": []
    },
    {
      "cell_type": "code",
      "metadata": {
        "id": "TfHpJuYEsFr0"
      },
      "source": [
        ""
      ],
      "execution_count": 155,
      "outputs": []
    },
    {
      "cell_type": "code",
      "metadata": {
        "id": "isBn3wDbCLSK"
      },
      "source": [
        "def main (img_name, \r\n",
        "          model,\r\n",
        "          mask_layers,\r\n",
        "          mask_names, \r\n",
        "          frac=None, \r\n",
        "          positive_selection = False, \r\n",
        "          nms_selection = True,  \r\n",
        "          show_sp=False, \r\n",
        "          show_sm=True, \r\n",
        "          show_table=True): \r\n",
        "\r\n",
        "  image = load_img(img_name, target_size=(224,224,3))\r\n",
        "  image = img_to_array(image)\r\n",
        "  image = np.expand_dims(image, axis=0)\r\n",
        "  image /= 255.\r\n",
        "\r\n",
        "  preds = model.predict(image) \r\n",
        "  pred = np.max(preds)\r\n",
        "  class_index = np.argmax(preds)\r\n",
        "  print(\"Model prediction: class\", class_index, \", {:2.2f}%\".format(pred*100))\r\n",
        "  grid = widgets.Grid(1,1)\r\n",
        "  with grid.output_to(0,0):\r\n",
        "    plt.figure(figsize = (5,5))\r\n",
        "    plt.imshow(image[0])\r\n",
        "\r\n",
        "  l_inputs, l_results, pred, used_frac = sp_xai_layers(images = image, \r\n",
        "                    model=model, \r\n",
        "                    layers = mask_layers, \r\n",
        "                    class_index = class_index,\r\n",
        "                    mask_names = mask_names, \r\n",
        "                    positive_selection = positive_selection,\r\n",
        "                    nms_selection = nms_selection,  \r\n",
        "                    interp='bilinear', \r\n",
        "                    frac = frac\r\n",
        "                    )\r\n",
        "\r\n",
        "  # plot scatter plots\r\n",
        "  if show_sp :  \r\n",
        "    print ('Scatter Plot')\r\n",
        "    show_scatter_plot(mask_layers, mask_names, l_inputs, l_results)\r\n",
        "\r\n",
        "  # show saliency maps\r\n",
        "  if show_sm :\r\n",
        "    print ('Sailiency maps')\r\n",
        "    print ('model pred: {:.2f}'.format(pred[0]))\r\n",
        "    show_saliency_maps(image[0], mask_layers, mask_names, l_inputs, l_results, used_frac)\r\n",
        "\r\n",
        "  if show_table :\r\n",
        "    print ('Results table')\r\n",
        "    result_df = maks_result_table(mask_layers, mask_names, pred, l_inputs, l_results)\r\n",
        "    print (class_index)\r\n",
        "    print (result_df)"
      ],
      "execution_count": 165,
      "outputs": []
    },
    {
      "cell_type": "markdown",
      "metadata": {
        "id": "j7UirwW5EapE"
      },
      "source": [
        "# frac = 0.15"
      ]
    },
    {
      "cell_type": "markdown",
      "metadata": {
        "id": "0UIGm47TE48a"
      },
      "source": [
        "### cat1.jpg"
      ]
    },
    {
      "cell_type": "code",
      "metadata": {
        "colab": {
          "base_uri": "https://localhost:8080/"
        },
        "id": "0DsFfF_gs_-q",
        "outputId": "874e46a6-9f21-48cf-d050-75fb58e48c22"
      },
      "source": [
        "mask_layers[:1] + mask_layers[-2:]"
      ],
      "execution_count": 177,
      "outputs": [
        {
          "output_type": "execute_result",
          "data": {
            "text/plain": [
              "['conv2_block1_preact_relu', 'conv5_block1_preact_relu', 'post_relu']"
            ]
          },
          "metadata": {
            "tags": []
          },
          "execution_count": 177
        }
      ]
    },
    {
      "cell_type": "code",
      "metadata": {
        "colab": {
          "base_uri": "https://localhost:8080/"
        },
        "id": "AMlkiXkCtOyk",
        "outputId": "0450c478-06b7-4778-978b-2ced2cb139f2"
      },
      "source": [
        "[1] + [2]"
      ],
      "execution_count": 175,
      "outputs": [
        {
          "output_type": "execute_result",
          "data": {
            "text/plain": [
              "[1, 2]"
            ]
          },
          "metadata": {
            "tags": []
          },
          "execution_count": 175
        }
      ]
    },
    {
      "cell_type": "code",
      "metadata": {
        "colab": {
          "base_uri": "https://localhost:8080/",
          "height": 887
        },
        "id": "WR27iVsGDD_n",
        "outputId": "d9c7ba75-2511-4ea1-e1c3-19815cd18bd2"
      },
      "source": [
        "masks = ['outputs'] # 'outputs', 'grads', 'outgrads' 중 보고 싶은 것들의 List\r\n",
        "start = time()\r\n",
        "main(img_name='cat1.jpg', \r\n",
        "     model=model,\r\n",
        "     mask_layers = mask_layers[:1] + mask_layers[-2:], \r\n",
        "     mask_names=masks, \r\n",
        "     frac=0.15,\r\n",
        "     positive_selection = False,\r\n",
        "     nms_selection = True,  \r\n",
        "     show_sp=False, \r\n",
        "     show_sm=True, \r\n",
        "     show_table=False)\r\n",
        "\r\n",
        "print (time()-start)"
      ],
      "execution_count": 178,
      "outputs": [
        {
          "output_type": "stream",
          "text": [
            "Model prediction: class 281 , 68.37%\n"
          ],
          "name": "stdout"
        },
        {
          "output_type": "display_data",
          "data": {
            "text/html": [
              "<style>\n",
              "       table#id166, #id166 > tbody > tr > th, #id166 > tbody > tr > td {\n",
              "         border: 1px solid lightgray;\n",
              "         border-collapse:collapse;\n",
              "         \n",
              "        }</style>"
            ],
            "text/plain": [
              "<IPython.core.display.HTML object>"
            ]
          },
          "metadata": {
            "tags": [
              "outputarea_id166"
            ]
          }
        },
        {
          "output_type": "display_data",
          "data": {
            "text/html": [
              "<table id=id166><tr><td id=id166-0-0></td></tr></table>"
            ],
            "text/plain": [
              "<IPython.core.display.HTML object>"
            ]
          },
          "metadata": {
            "tags": [
              "outputarea_id166"
            ]
          }
        },
        {
          "output_type": "display_data",
          "data": {
            "application/javascript": [
              "window[\"c6556876-6ec7-11eb-b696-0242ac1c0002\"] = google.colab.output.getActiveOutputArea();\n",
              "//# sourceURL=js_dced916f87"
            ],
            "text/plain": [
              "<IPython.core.display.Javascript object>"
            ]
          },
          "metadata": {
            "tags": [
              "id166-0-0",
              "outputarea_id166"
            ]
          }
        },
        {
          "output_type": "display_data",
          "data": {
            "application/javascript": [
              "window[\"c655a098-6ec7-11eb-b696-0242ac1c0002\"] = document.querySelector(\"#id166-0-0\");\n",
              "//# sourceURL=js_9aa0d9410c"
            ],
            "text/plain": [
              "<IPython.core.display.Javascript object>"
            ]
          },
          "metadata": {
            "tags": [
              "id166-0-0",
              "outputarea_id166"
            ]
          }
        },
        {
          "output_type": "display_data",
          "data": {
            "application/javascript": [
              "window[\"c655e2ba-6ec7-11eb-b696-0242ac1c0002\"] = google.colab.output.setActiveOutputArea(window[\"c655a098-6ec7-11eb-b696-0242ac1c0002\"]);\n",
              "//# sourceURL=js_eddb7bd4f0"
            ],
            "text/plain": [
              "<IPython.core.display.Javascript object>"
            ]
          },
          "metadata": {
            "tags": [
              "id166-0-0",
              "outputarea_id166"
            ]
          }
        },
        {
          "output_type": "display_data",
          "data": {
            "image/png": "[encoded data removed]",
            "text/plain": [
              "<Figure size 360x360 with 1 Axes>"
            ]
          },
          "metadata": {
            "tags": [
              "id166-0-0",
              "outputarea_id166",
              "user_output"
            ],
            "needs_background": "light"
          }
        },
        {
          "output_type": "display_data",
          "data": {
            "application/javascript": [
              "window[\"c66f8d14-6ec7-11eb-b696-0242ac1c0002\"] = google.colab.output.setActiveOutputArea(window[\"c6556876-6ec7-11eb-b696-0242ac1c0002\"]);\n",
              "//# sourceURL=js_8119ce8b3f"
            ],
            "text/plain": [
              "<IPython.core.display.Javascript object>"
            ]
          },
          "metadata": {
            "tags": [
              "id166-0-0",
              "outputarea_id166"
            ]
          }
        },
        {
          "output_type": "stream",
          "text": [
            "frac:  0.15\n",
            "53\n",
            "176\n",
            "142\n",
            "Sailiency maps\n",
            "model pred: 0.68\n"
          ],
          "name": "stdout"
        },
        {
          "output_type": "display_data",
          "data": {
            "text/html": [
              "<style>\n",
              "       table#id168, #id168 > tbody > tr > th, #id168 > tbody > tr > td {\n",
              "         border: 1px solid lightgray;\n",
              "         border-collapse:collapse;\n",
              "         \n",
              "        }</style>"
            ],
            "text/plain": [
              "<IPython.core.display.HTML object>"
            ]
          },
          "metadata": {
            "tags": [
              "outputarea_id168"
            ]
          }
        },
        {
          "output_type": "display_data",
          "data": {
            "text/html": [
              "<table id=id168><tr><td id=id168-0-0></td><td id=id168-0-1></td><td id=id168-0-2></td></tr><tr><td id=id168-1-0></td><td id=id168-1-1></td><td id=id168-1-2></td></tr><tr><td id=id168-2-0></td><td id=id168-2-1></td><td id=id168-2-2></td></tr></table>"
            ],
            "text/plain": [
              "<IPython.core.display.HTML object>"
            ]
          },
          "metadata": {
            "tags": [
              "outputarea_id168"
            ]
          }
        },
        {
          "output_type": "display_data",
          "data": {
            "application/javascript": [
              "window[\"c7f51384-6ec7-11eb-b696-0242ac1c0002\"] = google.colab.output.getActiveOutputArea();\n",
              "//# sourceURL=js_20107a878b"
            ],
            "text/plain": [
              "<IPython.core.display.Javascript object>"
            ]
          },
          "metadata": {
            "tags": [
              "id168-0-0",
              "outputarea_id168"
            ]
          }
        },
        {
          "output_type": "display_data",
          "data": {
            "application/javascript": [
              "window[\"c7f54fa2-6ec7-11eb-b696-0242ac1c0002\"] = document.querySelector(\"#id168-0-0\");\n",
              "//# sourceURL=js_e2ecfaa542"
            ],
            "text/plain": [
              "<IPython.core.display.Javascript object>"
            ]
          },
          "metadata": {
            "tags": [
              "id168-0-0",
              "outputarea_id168"
            ]
          }
        },
        {
          "output_type": "display_data",
          "data": {
            "application/javascript": [
              "window[\"c7f58904-6ec7-11eb-b696-0242ac1c0002\"] = google.colab.output.setActiveOutputArea(window[\"c7f54fa2-6ec7-11eb-b696-0242ac1c0002\"]);\n",
              "//# sourceURL=js_90d80a1402"
            ],
            "text/plain": [
              "<IPython.core.display.Javascript object>"
            ]
          },
          "metadata": {
            "tags": [
              "id168-0-0",
              "outputarea_id168"
            ]
          }
        },
        {
          "output_type": "stream",
          "text": [
            "conv2_block1_preact_relu\n"
          ],
          "name": "stdout"
        },
        {
          "output_type": "display_data",
          "data": {
            "application/javascript": [
              "window[\"c7f65a78-6ec7-11eb-b696-0242ac1c0002\"] = google.colab.output.setActiveOutputArea(window[\"c7f51384-6ec7-11eb-b696-0242ac1c0002\"]);\n",
              "//# sourceURL=js_d9443a1dba"
            ],
            "text/plain": [
              "<IPython.core.display.Javascript object>"
            ]
          },
          "metadata": {
            "tags": [
              "id168-0-0",
              "outputarea_id168"
            ]
          }
        },
        {
          "output_type": "display_data",
          "data": {
            "application/javascript": [
              "window[\"c7f782c2-6ec7-11eb-b696-0242ac1c0002\"] = google.colab.output.getActiveOutputArea();\n",
              "//# sourceURL=js_8818842ff2"
            ],
            "text/plain": [
              "<IPython.core.display.Javascript object>"
            ]
          },
          "metadata": {
            "tags": [
              "id168-1-0",
              "outputarea_id168"
            ]
          }
        },
        {
          "output_type": "display_data",
          "data": {
            "application/javascript": [
              "window[\"c7f7c322-6ec7-11eb-b696-0242ac1c0002\"] = document.querySelector(\"#id168-1-0\");\n",
              "//# sourceURL=js_536b0eb475"
            ],
            "text/plain": [
              "<IPython.core.display.Javascript object>"
            ]
          },
          "metadata": {
            "tags": [
              "id168-1-0",
              "outputarea_id168"
            ]
          }
        },
        {
          "output_type": "display_data",
          "data": {
            "application/javascript": [
              "window[\"c7f7fcd4-6ec7-11eb-b696-0242ac1c0002\"] = google.colab.output.setActiveOutputArea(window[\"c7f7c322-6ec7-11eb-b696-0242ac1c0002\"]);\n",
              "//# sourceURL=js_8024501da8"
            ],
            "text/plain": [
              "<IPython.core.display.Javascript object>"
            ]
          },
          "metadata": {
            "tags": [
              "id168-1-0",
              "outputarea_id168"
            ]
          }
        },
        {
          "output_type": "stream",
          "text": [
            "index: 10\n",
            "avg:0.12, pred0.34\n",
            "result of outputs\n"
          ],
          "name": "stdout"
        },
        {
          "output_type": "display_data",
          "data": {
            "image/png": "[encoded data removed]",
            "text/plain": [
              "<Figure size 216x216 with 1 Axes>"
            ]
          },
          "metadata": {
            "tags": [
              "id168-1-0",
              "outputarea_id168",
              "user_output"
            ],
            "needs_background": "light"
          }
        },
        {
          "output_type": "display_data",
          "data": {
            "application/javascript": [
              "window[\"c8082442-6ec7-11eb-b696-0242ac1c0002\"] = google.colab.output.setActiveOutputArea(window[\"c7f782c2-6ec7-11eb-b696-0242ac1c0002\"]);\n",
              "//# sourceURL=js_1bd33378de"
            ],
            "text/plain": [
              "<IPython.core.display.Javascript object>"
            ]
          },
          "metadata": {
            "tags": [
              "id168-1-0",
              "outputarea_id168"
            ]
          }
        },
        {
          "output_type": "display_data",
          "data": {
            "application/javascript": [
              "window[\"c809e7aa-6ec7-11eb-b696-0242ac1c0002\"] = google.colab.output.getActiveOutputArea();\n",
              "//# sourceURL=js_d7400ef638"
            ],
            "text/plain": [
              "<IPython.core.display.Javascript object>"
            ]
          },
          "metadata": {
            "tags": [
              "id168-2-0",
              "outputarea_id168"
            ]
          }
        },
        {
          "output_type": "display_data",
          "data": {
            "application/javascript": [
              "window[\"c80a1fe0-6ec7-11eb-b696-0242ac1c0002\"] = document.querySelector(\"#id168-2-0\");\n",
              "//# sourceURL=js_b7d40f5c15"
            ],
            "text/plain": [
              "<IPython.core.display.Javascript object>"
            ]
          },
          "metadata": {
            "tags": [
              "id168-2-0",
              "outputarea_id168"
            ]
          }
        },
        {
          "output_type": "display_data",
          "data": {
            "application/javascript": [
              "window[\"c80a541a-6ec7-11eb-b696-0242ac1c0002\"] = google.colab.output.setActiveOutputArea(window[\"c80a1fe0-6ec7-11eb-b696-0242ac1c0002\"]);\n",
              "//# sourceURL=js_3350c63189"
            ],
            "text/plain": [
              "<IPython.core.display.Javascript object>"
            ]
          },
          "metadata": {
            "tags": [
              "id168-2-0",
              "outputarea_id168"
            ]
          }
        },
        {
          "output_type": "display_data",
          "data": {
            "image/png": "[encoded data removed]",
            "text/plain": [
              "<Figure size 216x216 with 1 Axes>"
            ]
          },
          "metadata": {
            "tags": [
              "id168-2-0",
              "outputarea_id168",
              "user_output"
            ],
            "needs_background": "light"
          }
        },
        {
          "output_type": "display_data",
          "data": {
            "application/javascript": [
              "window[\"c814c2f6-6ec7-11eb-b696-0242ac1c0002\"] = google.colab.output.setActiveOutputArea(window[\"c809e7aa-6ec7-11eb-b696-0242ac1c0002\"]);\n",
              "//# sourceURL=js_50b14b9ef5"
            ],
            "text/plain": [
              "<IPython.core.display.Javascript object>"
            ]
          },
          "metadata": {
            "tags": [
              "id168-2-0",
              "outputarea_id168"
            ]
          }
        },
        {
          "output_type": "display_data",
          "data": {
            "application/javascript": [
              "window[\"c817e968-6ec7-11eb-b696-0242ac1c0002\"] = google.colab.output.getActiveOutputArea();\n",
              "//# sourceURL=js_bcaf83c411"
            ],
            "text/plain": [
              "<IPython.core.display.Javascript object>"
            ]
          },
          "metadata": {
            "tags": [
              "id168-0-1",
              "outputarea_id168"
            ]
          }
        },
        {
          "output_type": "display_data",
          "data": {
            "application/javascript": [
              "window[\"c81879fa-6ec7-11eb-b696-0242ac1c0002\"] = document.querySelector(\"#id168-0-1\");\n",
              "//# sourceURL=js_0af583a29c"
            ],
            "text/plain": [
              "<IPython.core.display.Javascript object>"
            ]
          },
          "metadata": {
            "tags": [
              "id168-0-1",
              "outputarea_id168"
            ]
          }
        },
        {
          "output_type": "display_data",
          "data": {
            "application/javascript": [
              "window[\"c818c0fe-6ec7-11eb-b696-0242ac1c0002\"] = google.colab.output.setActiveOutputArea(window[\"c81879fa-6ec7-11eb-b696-0242ac1c0002\"]);\n",
              "//# sourceURL=js_c7700465fc"
            ],
            "text/plain": [
              "<IPython.core.display.Javascript object>"
            ]
          },
          "metadata": {
            "tags": [
              "id168-0-1",
              "outputarea_id168"
            ]
          }
        },
        {
          "output_type": "stream",
          "text": [
            "conv5_block1_preact_relu\n"
          ],
          "name": "stdout"
        },
        {
          "output_type": "display_data",
          "data": {
            "application/javascript": [
              "window[\"c819b13a-6ec7-11eb-b696-0242ac1c0002\"] = google.colab.output.setActiveOutputArea(window[\"c817e968-6ec7-11eb-b696-0242ac1c0002\"]);\n",
              "//# sourceURL=js_9e3e919f98"
            ],
            "text/plain": [
              "<IPython.core.display.Javascript object>"
            ]
          },
          "metadata": {
            "tags": [
              "id168-0-1",
              "outputarea_id168"
            ]
          }
        },
        {
          "output_type": "display_data",
          "data": {
            "application/javascript": [
              "window[\"c81d1ef6-6ec7-11eb-b696-0242ac1c0002\"] = google.colab.output.getActiveOutputArea();\n",
              "//# sourceURL=js_8f533d4c2c"
            ],
            "text/plain": [
              "<IPython.core.display.Javascript object>"
            ]
          },
          "metadata": {
            "tags": [
              "id168-1-1",
              "outputarea_id168"
            ]
          }
        },
        {
          "output_type": "display_data",
          "data": {
            "application/javascript": [
              "window[\"c81de5d4-6ec7-11eb-b696-0242ac1c0002\"] = document.querySelector(\"#id168-1-1\");\n",
              "//# sourceURL=js_bbff1ee153"
            ],
            "text/plain": [
              "<IPython.core.display.Javascript object>"
            ]
          },
          "metadata": {
            "tags": [
              "id168-1-1",
              "outputarea_id168"
            ]
          }
        },
        {
          "output_type": "display_data",
          "data": {
            "application/javascript": [
              "window[\"c81e6676-6ec7-11eb-b696-0242ac1c0002\"] = google.colab.output.setActiveOutputArea(window[\"c81de5d4-6ec7-11eb-b696-0242ac1c0002\"]);\n",
              "//# sourceURL=js_a777399e19"
            ],
            "text/plain": [
              "<IPython.core.display.Javascript object>"
            ]
          },
          "metadata": {
            "tags": [
              "id168-1-1",
              "outputarea_id168"
            ]
          }
        },
        {
          "output_type": "stream",
          "text": [
            "index: 130\n",
            "avg:0.12, pred0.70\n",
            "result of outputs\n"
          ],
          "name": "stdout"
        },
        {
          "output_type": "display_data",
          "data": {
            "image/png": "[encoded data removed]",
            "text/plain": [
              "<Figure size 216x216 with 1 Axes>"
            ]
          },
          "metadata": {
            "tags": [
              "id168-1-1",
              "outputarea_id168",
              "user_output"
            ],
            "needs_background": "light"
          }
        },
        {
          "output_type": "display_data",
          "data": {
            "application/javascript": [
              "window[\"c82cecd2-6ec7-11eb-b696-0242ac1c0002\"] = google.colab.output.setActiveOutputArea(window[\"c81d1ef6-6ec7-11eb-b696-0242ac1c0002\"]);\n",
              "//# sourceURL=js_d0f288d4c2"
            ],
            "text/plain": [
              "<IPython.core.display.Javascript object>"
            ]
          },
          "metadata": {
            "tags": [
              "id168-1-1",
              "outputarea_id168"
            ]
          }
        },
        {
          "output_type": "display_data",
          "data": {
            "application/javascript": [
              "window[\"c82dda7a-6ec7-11eb-b696-0242ac1c0002\"] = google.colab.output.getActiveOutputArea();\n",
              "//# sourceURL=js_9e99c5a8a9"
            ],
            "text/plain": [
              "<IPython.core.display.Javascript object>"
            ]
          },
          "metadata": {
            "tags": [
              "id168-2-1",
              "outputarea_id168"
            ]
          }
        },
        {
          "output_type": "display_data",
          "data": {
            "application/javascript": [
              "window[\"c82e1dfa-6ec7-11eb-b696-0242ac1c0002\"] = document.querySelector(\"#id168-2-1\");\n",
              "//# sourceURL=js_6dcf225168"
            ],
            "text/plain": [
              "<IPython.core.display.Javascript object>"
            ]
          },
          "metadata": {
            "tags": [
              "id168-2-1",
              "outputarea_id168"
            ]
          }
        },
        {
          "output_type": "display_data",
          "data": {
            "application/javascript": [
              "window[\"c82e662a-6ec7-11eb-b696-0242ac1c0002\"] = google.colab.output.setActiveOutputArea(window[\"c82e1dfa-6ec7-11eb-b696-0242ac1c0002\"]);\n",
              "//# sourceURL=js_fef09bce21"
            ],
            "text/plain": [
              "<IPython.core.display.Javascript object>"
            ]
          },
          "metadata": {
            "tags": [
              "id168-2-1",
              "outputarea_id168"
            ]
          }
        },
        {
          "output_type": "display_data",
          "data": {
            "image/png": "[encoded data removed]",
            "text/plain": [
              "<Figure size 216x216 with 1 Axes>"
            ]
          },
          "metadata": {
            "tags": [
              "id168-2-1",
              "outputarea_id168",
              "user_output"
            ],
            "needs_background": "light"
          }
        },
        {
          "output_type": "display_data",
          "data": {
            "application/javascript": [
              "window[\"c83a6aba-6ec7-11eb-b696-0242ac1c0002\"] = google.colab.output.setActiveOutputArea(window[\"c82dda7a-6ec7-11eb-b696-0242ac1c0002\"]);\n",
              "//# sourceURL=js_be6599cb9c"
            ],
            "text/plain": [
              "<IPython.core.display.Javascript object>"
            ]
          },
          "metadata": {
            "tags": [
              "id168-2-1",
              "outputarea_id168"
            ]
          }
        },
        {
          "output_type": "display_data",
          "data": {
            "application/javascript": [
              "window[\"c83db4b8-6ec7-11eb-b696-0242ac1c0002\"] = google.colab.output.getActiveOutputArea();\n",
              "//# sourceURL=js_1d895a7ee6"
            ],
            "text/plain": [
              "<IPython.core.display.Javascript object>"
            ]
          },
          "metadata": {
            "tags": [
              "id168-0-2",
              "outputarea_id168"
            ]
          }
        },
        {
          "output_type": "display_data",
          "data": {
            "application/javascript": [
              "window[\"c83e4518-6ec7-11eb-b696-0242ac1c0002\"] = document.querySelector(\"#id168-0-2\");\n",
              "//# sourceURL=js_5adb6ca528"
            ],
            "text/plain": [
              "<IPython.core.display.Javascript object>"
            ]
          },
          "metadata": {
            "tags": [
              "id168-0-2",
              "outputarea_id168"
            ]
          }
        },
        {
          "output_type": "display_data",
          "data": {
            "application/javascript": [
              "window[\"c83edf78-6ec7-11eb-b696-0242ac1c0002\"] = google.colab.output.setActiveOutputArea(window[\"c83e4518-6ec7-11eb-b696-0242ac1c0002\"]);\n",
              "//# sourceURL=js_15e79c026a"
            ],
            "text/plain": [
              "<IPython.core.display.Javascript object>"
            ]
          },
          "metadata": {
            "tags": [
              "id168-0-2",
              "outputarea_id168"
            ]
          }
        },
        {
          "output_type": "stream",
          "text": [
            "post_relu\n"
          ],
          "name": "stdout"
        },
        {
          "output_type": "display_data",
          "data": {
            "application/javascript": [
              "window[\"c83feeea-6ec7-11eb-b696-0242ac1c0002\"] = google.colab.output.setActiveOutputArea(window[\"c83db4b8-6ec7-11eb-b696-0242ac1c0002\"]);\n",
              "//# sourceURL=js_e86daae3ba"
            ],
            "text/plain": [
              "<IPython.core.display.Javascript object>"
            ]
          },
          "metadata": {
            "tags": [
              "id168-0-2",
              "outputarea_id168"
            ]
          }
        },
        {
          "output_type": "display_data",
          "data": {
            "application/javascript": [
              "window[\"c841d26e-6ec7-11eb-b696-0242ac1c0002\"] = google.colab.output.getActiveOutputArea();\n",
              "//# sourceURL=js_dbd7ba30a3"
            ],
            "text/plain": [
              "<IPython.core.display.Javascript object>"
            ]
          },
          "metadata": {
            "tags": [
              "id168-1-2",
              "outputarea_id168"
            ]
          }
        },
        {
          "output_type": "display_data",
          "data": {
            "application/javascript": [
              "window[\"c8420d56-6ec7-11eb-b696-0242ac1c0002\"] = document.querySelector(\"#id168-1-2\");\n",
              "//# sourceURL=js_1223e56b88"
            ],
            "text/plain": [
              "<IPython.core.display.Javascript object>"
            ]
          },
          "metadata": {
            "tags": [
              "id168-1-2",
              "outputarea_id168"
            ]
          }
        },
        {
          "output_type": "display_data",
          "data": {
            "application/javascript": [
              "window[\"c8425856-6ec7-11eb-b696-0242ac1c0002\"] = google.colab.output.setActiveOutputArea(window[\"c8420d56-6ec7-11eb-b696-0242ac1c0002\"]);\n",
              "//# sourceURL=js_8168d0db9c"
            ],
            "text/plain": [
              "<IPython.core.display.Javascript object>"
            ]
          },
          "metadata": {
            "tags": [
              "id168-1-2",
              "outputarea_id168"
            ]
          }
        },
        {
          "output_type": "stream",
          "text": [
            "index: 59\n",
            "avg:0.03, pred0.72\n",
            "result of outputs\n"
          ],
          "name": "stdout"
        },
        {
          "output_type": "display_data",
          "data": {
            "image/png": "[encoded data removed]",
            "text/plain": [
              "<Figure size 216x216 with 1 Axes>"
            ]
          },
          "metadata": {
            "tags": [
              "id168-1-2",
              "outputarea_id168",
              "user_output"
            ],
            "needs_background": "light"
          }
        },
        {
          "output_type": "display_data",
          "data": {
            "application/javascript": [
              "window[\"c854e002-6ec7-11eb-b696-0242ac1c0002\"] = google.colab.output.setActiveOutputArea(window[\"c841d26e-6ec7-11eb-b696-0242ac1c0002\"]);\n",
              "//# sourceURL=js_a8053862ad"
            ],
            "text/plain": [
              "<IPython.core.display.Javascript object>"
            ]
          },
          "metadata": {
            "tags": [
              "id168-1-2",
              "outputarea_id168"
            ]
          }
        },
        {
          "output_type": "display_data",
          "data": {
            "application/javascript": [
              "window[\"c8573fe6-6ec7-11eb-b696-0242ac1c0002\"] = google.colab.output.getActiveOutputArea();\n",
              "//# sourceURL=js_112e3a3cda"
            ],
            "text/plain": [
              "<IPython.core.display.Javascript object>"
            ]
          },
          "metadata": {
            "tags": [
              "id168-2-2",
              "outputarea_id168"
            ]
          }
        },
        {
          "output_type": "display_data",
          "data": {
            "application/javascript": [
              "window[\"c857b21e-6ec7-11eb-b696-0242ac1c0002\"] = document.querySelector(\"#id168-2-2\");\n",
              "//# sourceURL=js_361cb717bf"
            ],
            "text/plain": [
              "<IPython.core.display.Javascript object>"
            ]
          },
          "metadata": {
            "tags": [
              "id168-2-2",
              "outputarea_id168"
            ]
          }
        },
        {
          "output_type": "display_data",
          "data": {
            "application/javascript": [
              "window[\"c8582b5e-6ec7-11eb-b696-0242ac1c0002\"] = google.colab.output.setActiveOutputArea(window[\"c857b21e-6ec7-11eb-b696-0242ac1c0002\"]);\n",
              "//# sourceURL=js_969600f34d"
            ],
            "text/plain": [
              "<IPython.core.display.Javascript object>"
            ]
          },
          "metadata": {
            "tags": [
              "id168-2-2",
              "outputarea_id168"
            ]
          }
        },
        {
          "output_type": "display_data",
          "data": {
            "image/png": "[encoded data removed]",
            "text/plain": [
              "<Figure size 216x216 with 1 Axes>"
            ]
          },
          "metadata": {
            "tags": [
              "id168-2-2",
              "outputarea_id168",
              "user_output"
            ],
            "needs_background": "light"
          }
        },
        {
          "output_type": "display_data",
          "data": {
            "application/javascript": [
              "window[\"c863dee0-6ec7-11eb-b696-0242ac1c0002\"] = google.colab.output.setActiveOutputArea(window[\"c8573fe6-6ec7-11eb-b696-0242ac1c0002\"]);\n",
              "//# sourceURL=js_056fd80ca4"
            ],
            "text/plain": [
              "<IPython.core.display.Javascript object>"
            ]
          },
          "metadata": {
            "tags": [
              "id168-2-2",
              "outputarea_id168"
            ]
          }
        },
        {
          "output_type": "stream",
          "text": [
            "3.5320022106170654\n"
          ],
          "name": "stdout"
        }
      ]
    }
  ]
}