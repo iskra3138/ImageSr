{
  "nbformat": 4,
  "nbformat_minor": 0,
  "metadata": {
    "colab": {
      "name": "3. DataSet",
      "provenance": [],
      "collapsed_sections": [],
      "authorship_tag": "ABX9TyOTTgA3vaDjoBIWugiGYaOk",
      "include_colab_link": true
    },
    "kernelspec": {
      "name": "python3",
      "display_name": "Python 3"
    }
  },
  "cells": [
    {
      "cell_type": "markdown",
      "metadata": {
        "id": "view-in-github",
        "colab_type": "text"
      },
      "source": [
        "<a href=\"https://colab.research.google.com/github/iskra3138/ImageSr/blob/master/3_DataSet.ipynb\" target=\"_parent\"><img src=\"https://colab.research.google.com/assets/colab-badge.svg\" alt=\"Open In Colab\"/></a>"
      ]
    },
    {
      "cell_type": "code",
      "metadata": {
        "id": "6bu8xxiSBOVk",
        "colab_type": "code",
        "colab": {
          "base_uri": "https://localhost:8080/",
          "height": 34
        },
        "outputId": "7879e1a6-5efd-4f98-aa30-77adb5f6a27e"
      },
      "source": [
        "%tensorflow_version 2.x\n",
        "\n",
        "import tensorflow as tf"
      ],
      "execution_count": 2,
      "outputs": [
        {
          "output_type": "stream",
          "text": [
            "TensorFlow 2.x selected.\n"
          ],
          "name": "stdout"
        }
      ]
    },
    {
      "cell_type": "code",
      "metadata": {
        "id": "ekIoYkbefOWz",
        "colab_type": "code",
        "colab": {}
      },
      "source": [
        "import numpy as np"
      ],
      "execution_count": 0,
      "outputs": []
    },
    {
      "cell_type": "code",
      "metadata": {
        "id": "qNegY3FQBQXb",
        "colab_type": "code",
        "colab": {}
      },
      "source": [
        "CLASSES = ['daisy', 'dandelion', 'roses', 'sunflowers', 'tulips']"
      ],
      "execution_count": 0,
      "outputs": []
    },
    {
      "cell_type": "code",
      "metadata": {
        "id": "sGIOYhjZBQUx",
        "colab_type": "code",
        "colab": {}
      },
      "source": [
        "import os\n",
        "\n",
        "# TFRecord Parsing을 위한 함수 정의  \n",
        "AUTO = tf.data.experimental.AUTOTUNE\n",
        "\n",
        "IMG_WIDTH = 224\n",
        "IMG_HEIGHT = 224\n",
        "IMAGE_SIZE =  [IMG_HEIGHT, IMG_WIDTH]\n",
        "\n",
        "batch_size = 64\n",
        "\n",
        "## 본 실험에서는 16개의 tfrecord파일을 train/validation용으로 나눠서 사용합니다.\n",
        "## train전용, validation전용 tfrecord 파일들이 있으면 특정해서 list 로 넘기시면 됩니다.\n",
        "BUCKET = \"gs://iskra3138_share\"\n",
        "gcs_pattern = os.path.join(BUCKET, '*.tfrec')\n",
        "validation_split = 0.19\n",
        "filenames = tf.io.gfile.glob(gcs_pattern)\n",
        "split = len(filenames) - int(len(filenames) * validation_split)\n",
        "train_fns = filenames[:split]\n",
        "validation_fns = filenames[split:]\n",
        "\n",
        "## TFRecord Parsing 함수 (TFRecord 생성함수를 참고해서 만들어줍니다.)\n",
        "def parse_tfrecord(example):\n",
        "    features = {\n",
        "        \"image\": tf.io.FixedLenFeature([], tf.string),  # tf.string = bytestring (not text string)\n",
        "        \"file_name\": tf.io.FixedLenFeature([], tf.string),  # one bytestring\n",
        "        \"label_name\": tf.io.FixedLenFeature([], tf.string),  # one bytestring\n",
        "        \"label\": tf.io.FixedLenFeature([], tf.int64),  # shape [] means scalar, one integer\n",
        "    }\n",
        "    # decode the TFRecord\n",
        "    example = tf.io.parse_single_example(example, features)\n",
        "    \n",
        "    \n",
        "    label = example['label']\n",
        "    label = tf.one_hot(indices=label, depth=5)   \n",
        "    image = tf.image.decode_jpeg(example['image'], channels=3)\n",
        "    image = tf.image.convert_image_dtype(image, tf.float32) ## make [0,255] to [0,1) resize 앞에 위치할 때만 [0,1), 즉 input이 float32가 아니어야 작동\n",
        "    image = tf.image.resize(image, IMAGE_SIZE) ## method가 tf.image.ResizeMethod.NEAREST_NEIGHBOR 가 아니면 출력은 무조건 float32\n",
        "    \n",
        "    file_name  = example['file_name']\n",
        "    label_name  = example['label_name']\n",
        "    \n",
        "    return image, label, file_name, label_name\n",
        "\n",
        "def load_dataset(filenames):\n",
        "  # Read from TFRecords. For optimal performance, we interleave reads from multiple files.\n",
        "  records = tf.data.TFRecordDataset(filenames, num_parallel_reads=AUTO)\n",
        "  return records.map(parse_tfrecord, num_parallel_calls=AUTO)\n",
        "\n",
        "def get_training_dataset():\n",
        "  dataset = load_dataset(train_fns)\n",
        "\n",
        "  # Create some additional training images by randomly flipping and\n",
        "  # increasing/decreasing the saturation of images in the training set. \n",
        "  def data_augment(image, label, file_name, label_name):\n",
        "    modified = tf.image.random_flip_left_right(image)\n",
        "    modified = tf.image.random_flip_up_down(modified)\n",
        "    return modified, label, file_name, label_name\n",
        "  augmented = dataset.map(data_augment, num_parallel_calls=AUTO)\n",
        "\n",
        "  # Prefetch the next batch while training (autotune prefetch buffer size).\n",
        "  return augmented.repeat().shuffle(2048).batch(batch_size).prefetch(AUTO) \n",
        "\n",
        "training_dataset = get_training_dataset()\n",
        "validation_dataset = load_dataset(validation_fns).batch(batch_size).prefetch(AUTO)"
      ],
      "execution_count": 0,
      "outputs": []
    },
    {
      "cell_type": "markdown",
      "metadata": {
        "id": "_J9m6MIOcR0h",
        "colab_type": "text"
      },
      "source": [
        "위 코드를 실행시키면, training_dataset, validation_dataset 모두 (image, label, file_name, label_name)구조로 element들이 구성됨\n",
        "\n",
        "training_dataset은 \n",
        "- augmented = dataset.map(data_augment, num_parallel_calls=AUTO)에서 랜덤으로 좌우플립/상하플립이 적용되고, \n",
        "- augmented.repeat().shuffle(2048).batch(batch_size).prefetch(AUTO) 에서 무한 반복으로, 섞고, batch_size만큼 생성됨\n",
        "\n",
        "validation_dataset은 \n",
        "- batch_size만큼 뽑히는 데, 전체 element들이 다 뽑히면 끝남"
      ]
    },
    {
      "cell_type": "code",
      "metadata": {
        "id": "VDd47OjnBQSI",
        "colab_type": "code",
        "colab": {
          "base_uri": "https://localhost:8080/",
          "height": 34
        },
        "outputId": "42fd37d1-884f-41ad-e777-9e7e0dbcb3b9"
      },
      "source": [
        "## tfrecord 파일 내 데이터 개수 세기\n",
        "#### tfrecord 이름이 아니라 직접 데이터 개수를 확인하고 싶다면 아래 코드 실행\n",
        "#sum([1 for _ in tf.data.TFRecordDataset({TFRecord 파일 이름})])\n",
        "sum([1 for _ in tf.data.TFRecordDataset(filenames[0])])"
      ],
      "execution_count": 16,
      "outputs": [
        {
          "output_type": "execute_result",
          "data": {
            "text/plain": [
              "230"
            ]
          },
          "metadata": {
            "tags": []
          },
          "execution_count": 16
        }
      ]
    },
    {
      "cell_type": "code",
      "metadata": {
        "id": "MJcmn9vfXWnT",
        "colab_type": "code",
        "colab": {
          "base_uri": "https://localhost:8080/",
          "height": 34
        },
        "outputId": "e18286e3-b792-423c-ec22-866d54f43bed"
      },
      "source": [
        "## tfrecord 파일 내 데이터 개수 세기\n",
        "#### tfrecord 이름이 아니라 직접 데이터 개수를 확인하고 싶다면 아래 코드 실행\n",
        "#### 여러 개의 tfrecord를 list로 넘겨도 됨\n",
        "\n",
        "#sum([1 for _ in tf.data.TFRecordDataset([TFRecord 파일 리스트])])\n",
        "sum([1 for _ in tf.data.TFRecordDataset(filenames[0:3])])"
      ],
      "execution_count": 17,
      "outputs": [
        {
          "output_type": "execute_result",
          "data": {
            "text/plain": [
              "690"
            ]
          },
          "metadata": {
            "tags": []
          },
          "execution_count": 17
        }
      ]
    },
    {
      "cell_type": "code",
      "metadata": {
        "id": "E_5BHOMJdW1c",
        "colab_type": "code",
        "colab": {
          "base_uri": "https://localhost:8080/",
          "height": 72
        },
        "outputId": "bfa1cda6-34db-4cee-857c-242691ed2c76"
      },
      "source": [
        "## train_fns list로 traind_data 개수 세기\n",
        "print (train_fns)\n",
        "print (sum([1 for _ in tf.data.TFRecordDataset(train_fns)]))"
      ],
      "execution_count": 21,
      "outputs": [
        {
          "output_type": "stream",
          "text": [
            "['gs://iskra3138_share/00-230.tfrec', 'gs://iskra3138_share/01-230.tfrec', 'gs://iskra3138_share/02-230.tfrec', 'gs://iskra3138_share/03-230.tfrec', 'gs://iskra3138_share/04-230.tfrec', 'gs://iskra3138_share/05-230.tfrec', 'gs://iskra3138_share/06-230.tfrec', 'gs://iskra3138_share/07-230.tfrec', 'gs://iskra3138_share/08-230.tfrec', 'gs://iskra3138_share/09-230.tfrec', 'gs://iskra3138_share/10-230.tfrec', 'gs://iskra3138_share/11-230.tfrec', 'gs://iskra3138_share/12-230.tfrec']\n",
            "2990\n"
          ],
          "name": "stdout"
        }
      ]
    },
    {
      "cell_type": "code",
      "metadata": {
        "id": "q7D8TS0odWxA",
        "colab_type": "code",
        "colab": {
          "base_uri": "https://localhost:8080/",
          "height": 52
        },
        "outputId": "ddbc9e3a-6a40-4a02-847b-62e36814e80d"
      },
      "source": [
        "## validation_fns list로 traind_data 개수 세기\n",
        "print (validation_fns)\n",
        "print (sum([1 for _ in tf.data.TFRecordDataset(validation_fns)]))"
      ],
      "execution_count": 22,
      "outputs": [
        {
          "output_type": "stream",
          "text": [
            "['gs://iskra3138_share/13-230.tfrec', 'gs://iskra3138_share/14-230.tfrec', 'gs://iskra3138_share/15-220.tfrec']\n",
            "680\n"
          ],
          "name": "stdout"
        }
      ]
    },
    {
      "cell_type": "markdown",
      "metadata": {
        "id": "XA2I8cJcdwBy",
        "colab_type": "text"
      },
      "source": [
        "train data는 2990장, validation data는 680장임"
      ]
    },
    {
      "cell_type": "code",
      "metadata": {
        "id": "9m9gIeNnDHS7",
        "colab_type": "code",
        "colab": {
          "base_uri": "https://localhost:8080/",
          "height": 34
        },
        "outputId": "24fec2ad-7438-4b89-b64d-fe472cc34e86"
      },
      "source": [
        "## dataset 랜덤으로 1batch 데이터 뽑기 1\n",
        "### take() 사용\n",
        "### take(n)을 쓰면 사전에 정의된 배치사이즈 크기의 데이터를 n번 샘플링 해옴\n",
        "for img, label, file_name, label_name in validation_dataset.take(1):\n",
        "  label1 = label\n",
        "  print (label.shape)"
      ],
      "execution_count": 65,
      "outputs": [
        {
          "output_type": "stream",
          "text": [
            "(64, 5)\n"
          ],
          "name": "stdout"
        }
      ]
    },
    {
      "cell_type": "code",
      "metadata": {
        "id": "72xqsmsqeHXP",
        "colab_type": "code",
        "colab": {
          "base_uri": "https://localhost:8080/",
          "height": 34
        },
        "outputId": "4f16bdc5-5376-495a-fc3f-3107e1e5bff2"
      },
      "source": [
        "## dataset 랜덤으로 1batch 데이터 뽑기 2\n",
        "## as_numpy_iterator()를 써서 next로 뽑기\n",
        "iter = validation_dataset.as_numpy_iterator()\n",
        "img, label, file_name, label_name = next(iter)\n",
        "label2 = label\n",
        "print (label.shape)"
      ],
      "execution_count": 66,
      "outputs": [
        {
          "output_type": "stream",
          "text": [
            "(64, 5)\n"
          ],
          "name": "stdout"
        }
      ]
    },
    {
      "cell_type": "code",
      "metadata": {
        "id": "wirzpbU2fv3F",
        "colab_type": "code",
        "colab": {
          "base_uri": "https://localhost:8080/",
          "height": 34
        },
        "outputId": "4a61fa89-fb76-4792-add4-bca5b3c658bd"
      },
      "source": [
        "np.where ((label1 == label2)==False)"
      ],
      "execution_count": 68,
      "outputs": [
        {
          "output_type": "execute_result",
          "data": {
            "text/plain": [
              "(array([], dtype=int64), array([], dtype=int64))"
            ]
          },
          "metadata": {
            "tags": []
          },
          "execution_count": 68
        }
      ]
    },
    {
      "cell_type": "markdown",
      "metadata": {
        "id": "cRe0k2i0e4db",
        "colab_type": "text"
      },
      "source": [
        "- 두 방법 모두 생성되는 순서는 같은 것 같음"
      ]
    },
    {
      "cell_type": "code",
      "metadata": {
        "id": "i7KeHF5nfBNU",
        "colab_type": "code",
        "colab": {
          "base_uri": "https://localhost:8080/",
          "height": 230
        },
        "outputId": "816e7804-bfcb-4e4c-ee1d-27ff0dbdad20"
      },
      "source": [
        "## 하지만 두 코드가 연속적으로 실행되면 그 결과값은 달라짐 \n",
        "for img, label, file_name, label_name in validation_dataset.take(1):\n",
        "  label1 = label\n",
        "img2, label2, file_name2, label_name2 = next(iter)\n",
        "\n",
        "np.where ((label1 == label2)==False)"
      ],
      "execution_count": 69,
      "outputs": [
        {
          "output_type": "execute_result",
          "data": {
            "text/plain": [
              "(array([ 1,  1,  2,  2,  3,  3,  4,  4,  5,  5,  6,  6,  7,  7, 10, 10, 11,\n",
              "        11, 12, 12, 13, 13, 14, 14, 15, 15, 19, 19, 21, 21, 22, 22, 24, 24,\n",
              "        25, 25, 26, 26, 27, 27, 29, 29, 30, 30, 31, 31, 32, 32, 33, 33, 34,\n",
              "        34, 35, 35, 36, 36, 37, 37, 38, 38, 39, 39, 40, 40, 41, 41, 42, 42,\n",
              "        43, 43, 44, 44, 45, 45, 46, 46, 47, 47, 48, 48, 49, 49, 51, 51, 52,\n",
              "        52, 54, 54, 56, 56, 57, 57, 58, 58, 59, 59, 60, 60, 61, 61, 62, 62,\n",
              "        63, 63]),\n",
              " array([1, 4, 0, 4, 0, 2, 0, 4, 2, 4, 1, 2, 0, 1, 1, 2, 0, 1, 2, 4, 0, 2,\n",
              "        1, 3, 1, 3, 2, 3, 0, 1, 2, 3, 2, 3, 2, 4, 3, 4, 1, 3, 3, 4, 3, 4,\n",
              "        0, 1, 1, 4, 3, 4, 1, 3, 3, 4, 1, 4, 1, 3, 1, 3, 1, 3, 2, 3, 1, 2,\n",
              "        1, 4, 0, 2, 0, 4, 1, 3, 0, 2, 0, 1, 0, 1, 2, 4, 1, 2, 1, 3, 3, 4,\n",
              "        0, 3, 2, 4, 1, 4, 1, 4, 0, 3, 0, 1, 0, 3, 1, 2]))"
            ]
          },
          "metadata": {
            "tags": []
          },
          "execution_count": 69
        }
      ]
    },
    {
      "cell_type": "code",
      "metadata": {
        "id": "ukXBDo2ugBId",
        "colab_type": "code",
        "colab": {
          "base_uri": "https://localhost:8080/",
          "height": 34
        },
        "outputId": "8d0d90cd-21ae-4c64-d969-116a9df5e068"
      },
      "source": [
        "## as_numpy_iterator()를 쓰면 딱 1epoch만큼 샘플링할 수 있음\n",
        "num_samples = 0\n",
        "for img, label, file_name, label_name in validation_dataset.as_numpy_iterator():\n",
        "  num_samples += label.shape[0]\n",
        "print (num_samples)"
      ],
      "execution_count": 75,
      "outputs": [
        {
          "output_type": "stream",
          "text": [
            "680\n"
          ],
          "name": "stdout"
        }
      ]
    },
    {
      "cell_type": "markdown",
      "metadata": {
        "id": "J3cZnl8CgzBm",
        "colab_type": "text"
      },
      "source": [
        "전체 데이터 개수와 똑같아졌음"
      ]
    },
    {
      "cell_type": "code",
      "metadata": {
        "id": "ze39cenXgWLk",
        "colab_type": "code",
        "colab": {
          "base_uri": "https://localhost:8080/",
          "height": 283
        },
        "outputId": "2d87db71-1835-4ff1-b746-c9c207d75351"
      },
      "source": [
        "## take(n)를 쓰면 계속해서 증가하다가 1epoch 샘플링에서 끝남\n",
        "for i in range(15) :\n",
        "  num_samples = 0\n",
        "  for img, label, file_name, label_name in validation_dataset.take(i):\n",
        "    num_samples += label.shape[0]\n",
        "  print (i, num_samples)"
      ],
      "execution_count": 83,
      "outputs": [
        {
          "output_type": "stream",
          "text": [
            "0 0\n",
            "1 64\n",
            "2 128\n",
            "3 192\n",
            "4 256\n",
            "5 320\n",
            "6 384\n",
            "7 448\n",
            "8 512\n",
            "9 576\n",
            "10 640\n",
            "11 680\n",
            "12 680\n",
            "13 680\n",
            "14 680\n"
          ],
          "name": "stdout"
        }
      ]
    },
    {
      "cell_type": "markdown",
      "metadata": {
        "id": "WIoqFiCYhkMS",
        "colab_type": "text"
      },
      "source": [
        "계속해서 64개씩 늘어나다 11번째는 남은 40만큼 늘어나고 그 이후는 변화가 없음"
      ]
    },
    {
      "cell_type": "code",
      "metadata": {
        "id": "U58DiBQMDHNl",
        "colab_type": "code",
        "colab": {}
      },
      "source": [
        "# class별 데이터세트 만들기\n",
        "## 원하는 클래스끼리만 모아 놓고 싶을 때는 fliter를 적용하면 됨\n",
        "### label이 1인 데이터세트를 만드는 예제\n",
        "\n",
        "def select_label1 (img, label, file_name, label_name):\n",
        "  return tf.math.equal(tf.argmax(label), 1) ## label이 one-hot 형태임\n",
        "\n",
        "label1dataset = validation_dataset.unbatch().filter(select_label1) ## 한 장씩 평가해야 해서 unbatch 해줌"
      ],
      "execution_count": 0,
      "outputs": []
    },
    {
      "cell_type": "code",
      "metadata": {
        "id": "9ftcVWPTBH3C",
        "colab_type": "code",
        "colab": {
          "base_uri": "https://localhost:8080/",
          "height": 1000
        },
        "outputId": "48caaf21-74a2-41af-fb02-6581208cea16"
      },
      "source": [
        "for img, label, file_name, label_name in label1dataset.as_numpy_iterator():\n",
        "  print (label)"
      ],
      "execution_count": 96,
      "outputs": [
        {
          "output_type": "stream",
          "text": [
            "[0. 1. 0. 0. 0.]\n",
            "[0. 1. 0. 0. 0.]\n",
            "[0. 1. 0. 0. 0.]\n",
            "[0. 1. 0. 0. 0.]\n",
            "[0. 1. 0. 0. 0.]\n",
            "[0. 1. 0. 0. 0.]\n",
            "[0. 1. 0. 0. 0.]\n",
            "[0. 1. 0. 0. 0.]\n",
            "[0. 1. 0. 0. 0.]\n",
            "[0. 1. 0. 0. 0.]\n",
            "[0. 1. 0. 0. 0.]\n",
            "[0. 1. 0. 0. 0.]\n",
            "[0. 1. 0. 0. 0.]\n",
            "[0. 1. 0. 0. 0.]\n",
            "[0. 1. 0. 0. 0.]\n",
            "[0. 1. 0. 0. 0.]\n",
            "[0. 1. 0. 0. 0.]\n",
            "[0. 1. 0. 0. 0.]\n",
            "[0. 1. 0. 0. 0.]\n",
            "[0. 1. 0. 0. 0.]\n",
            "[0. 1. 0. 0. 0.]\n",
            "[0. 1. 0. 0. 0.]\n",
            "[0. 1. 0. 0. 0.]\n",
            "[0. 1. 0. 0. 0.]\n",
            "[0. 1. 0. 0. 0.]\n",
            "[0. 1. 0. 0. 0.]\n",
            "[0. 1. 0. 0. 0.]\n",
            "[0. 1. 0. 0. 0.]\n",
            "[0. 1. 0. 0. 0.]\n",
            "[0. 1. 0. 0. 0.]\n",
            "[0. 1. 0. 0. 0.]\n",
            "[0. 1. 0. 0. 0.]\n",
            "[0. 1. 0. 0. 0.]\n",
            "[0. 1. 0. 0. 0.]\n",
            "[0. 1. 0. 0. 0.]\n",
            "[0. 1. 0. 0. 0.]\n",
            "[0. 1. 0. 0. 0.]\n",
            "[0. 1. 0. 0. 0.]\n",
            "[0. 1. 0. 0. 0.]\n",
            "[0. 1. 0. 0. 0.]\n",
            "[0. 1. 0. 0. 0.]\n",
            "[0. 1. 0. 0. 0.]\n",
            "[0. 1. 0. 0. 0.]\n",
            "[0. 1. 0. 0. 0.]\n",
            "[0. 1. 0. 0. 0.]\n",
            "[0. 1. 0. 0. 0.]\n",
            "[0. 1. 0. 0. 0.]\n",
            "[0. 1. 0. 0. 0.]\n",
            "[0. 1. 0. 0. 0.]\n",
            "[0. 1. 0. 0. 0.]\n",
            "[0. 1. 0. 0. 0.]\n",
            "[0. 1. 0. 0. 0.]\n",
            "[0. 1. 0. 0. 0.]\n",
            "[0. 1. 0. 0. 0.]\n",
            "[0. 1. 0. 0. 0.]\n",
            "[0. 1. 0. 0. 0.]\n",
            "[0. 1. 0. 0. 0.]\n",
            "[0. 1. 0. 0. 0.]\n",
            "[0. 1. 0. 0. 0.]\n",
            "[0. 1. 0. 0. 0.]\n",
            "[0. 1. 0. 0. 0.]\n",
            "[0. 1. 0. 0. 0.]\n",
            "[0. 1. 0. 0. 0.]\n",
            "[0. 1. 0. 0. 0.]\n",
            "[0. 1. 0. 0. 0.]\n",
            "[0. 1. 0. 0. 0.]\n",
            "[0. 1. 0. 0. 0.]\n",
            "[0. 1. 0. 0. 0.]\n",
            "[0. 1. 0. 0. 0.]\n",
            "[0. 1. 0. 0. 0.]\n",
            "[0. 1. 0. 0. 0.]\n",
            "[0. 1. 0. 0. 0.]\n",
            "[0. 1. 0. 0. 0.]\n",
            "[0. 1. 0. 0. 0.]\n",
            "[0. 1. 0. 0. 0.]\n",
            "[0. 1. 0. 0. 0.]\n",
            "[0. 1. 0. 0. 0.]\n",
            "[0. 1. 0. 0. 0.]\n",
            "[0. 1. 0. 0. 0.]\n",
            "[0. 1. 0. 0. 0.]\n",
            "[0. 1. 0. 0. 0.]\n",
            "[0. 1. 0. 0. 0.]\n",
            "[0. 1. 0. 0. 0.]\n",
            "[0. 1. 0. 0. 0.]\n",
            "[0. 1. 0. 0. 0.]\n",
            "[0. 1. 0. 0. 0.]\n",
            "[0. 1. 0. 0. 0.]\n",
            "[0. 1. 0. 0. 0.]\n",
            "[0. 1. 0. 0. 0.]\n",
            "[0. 1. 0. 0. 0.]\n",
            "[0. 1. 0. 0. 0.]\n",
            "[0. 1. 0. 0. 0.]\n",
            "[0. 1. 0. 0. 0.]\n",
            "[0. 1. 0. 0. 0.]\n",
            "[0. 1. 0. 0. 0.]\n",
            "[0. 1. 0. 0. 0.]\n",
            "[0. 1. 0. 0. 0.]\n",
            "[0. 1. 0. 0. 0.]\n",
            "[0. 1. 0. 0. 0.]\n",
            "[0. 1. 0. 0. 0.]\n",
            "[0. 1. 0. 0. 0.]\n",
            "[0. 1. 0. 0. 0.]\n",
            "[0. 1. 0. 0. 0.]\n",
            "[0. 1. 0. 0. 0.]\n",
            "[0. 1. 0. 0. 0.]\n",
            "[0. 1. 0. 0. 0.]\n",
            "[0. 1. 0. 0. 0.]\n",
            "[0. 1. 0. 0. 0.]\n",
            "[0. 1. 0. 0. 0.]\n",
            "[0. 1. 0. 0. 0.]\n",
            "[0. 1. 0. 0. 0.]\n",
            "[0. 1. 0. 0. 0.]\n",
            "[0. 1. 0. 0. 0.]\n",
            "[0. 1. 0. 0. 0.]\n",
            "[0. 1. 0. 0. 0.]\n",
            "[0. 1. 0. 0. 0.]\n",
            "[0. 1. 0. 0. 0.]\n",
            "[0. 1. 0. 0. 0.]\n",
            "[0. 1. 0. 0. 0.]\n",
            "[0. 1. 0. 0. 0.]\n",
            "[0. 1. 0. 0. 0.]\n",
            "[0. 1. 0. 0. 0.]\n",
            "[0. 1. 0. 0. 0.]\n",
            "[0. 1. 0. 0. 0.]\n",
            "[0. 1. 0. 0. 0.]\n",
            "[0. 1. 0. 0. 0.]\n",
            "[0. 1. 0. 0. 0.]\n",
            "[0. 1. 0. 0. 0.]\n",
            "[0. 1. 0. 0. 0.]\n",
            "[0. 1. 0. 0. 0.]\n",
            "[0. 1. 0. 0. 0.]\n",
            "[0. 1. 0. 0. 0.]\n",
            "[0. 1. 0. 0. 0.]\n",
            "[0. 1. 0. 0. 0.]\n",
            "[0. 1. 0. 0. 0.]\n",
            "[0. 1. 0. 0. 0.]\n",
            "[0. 1. 0. 0. 0.]\n",
            "[0. 1. 0. 0. 0.]\n",
            "[0. 1. 0. 0. 0.]\n",
            "[0. 1. 0. 0. 0.]\n",
            "[0. 1. 0. 0. 0.]\n",
            "[0. 1. 0. 0. 0.]\n",
            "[0. 1. 0. 0. 0.]\n",
            "[0. 1. 0. 0. 0.]\n",
            "[0. 1. 0. 0. 0.]\n",
            "[0. 1. 0. 0. 0.]\n",
            "[0. 1. 0. 0. 0.]\n",
            "[0. 1. 0. 0. 0.]\n",
            "[0. 1. 0. 0. 0.]\n",
            "[0. 1. 0. 0. 0.]\n",
            "[0. 1. 0. 0. 0.]\n",
            "[0. 1. 0. 0. 0.]\n",
            "[0. 1. 0. 0. 0.]\n",
            "[0. 1. 0. 0. 0.]\n",
            "[0. 1. 0. 0. 0.]\n",
            "[0. 1. 0. 0. 0.]\n",
            "[0. 1. 0. 0. 0.]\n",
            "[0. 1. 0. 0. 0.]\n",
            "[0. 1. 0. 0. 0.]\n",
            "[0. 1. 0. 0. 0.]\n",
            "[0. 1. 0. 0. 0.]\n",
            "[0. 1. 0. 0. 0.]\n",
            "[0. 1. 0. 0. 0.]\n",
            "[0. 1. 0. 0. 0.]\n",
            "[0. 1. 0. 0. 0.]\n",
            "[0. 1. 0. 0. 0.]\n",
            "[0. 1. 0. 0. 0.]\n",
            "[0. 1. 0. 0. 0.]\n"
          ],
          "name": "stdout"
        }
      ]
    },
    {
      "cell_type": "code",
      "metadata": {
        "id": "bSBXuTc3ioj_",
        "colab_type": "code",
        "colab": {
          "base_uri": "https://localhost:8080/",
          "height": 34
        },
        "outputId": "5665c4e1-28a0-4566-9959-c6a33aa48497"
      },
      "source": [
        "label.numpy().shape"
      ],
      "execution_count": 92,
      "outputs": [
        {
          "output_type": "execute_result",
          "data": {
            "text/plain": [
              "(64, 5)"
            ]
          },
          "metadata": {
            "tags": []
          },
          "execution_count": 92
        }
      ]
    },
    {
      "cell_type": "code",
      "metadata": {
        "id": "XakRBCkSipQF",
        "colab_type": "code",
        "colab": {}
      },
      "source": [
        ""
      ],
      "execution_count": 0,
      "outputs": []
    }
  ]
}