{
  "nbformat": 4,
  "nbformat_minor": 0,
  "metadata": {
    "colab": {
      "name": "1. Image_Loading_Methods 비교",
      "provenance": [],
      "collapsed_sections": [],
      "toc_visible": true,
      "include_colab_link": true
    },
    "kernelspec": {
      "name": "python3",
      "display_name": "Python 3"
    }
  },
  "cells": [
    {
      "cell_type": "markdown",
      "metadata": {
        "id": "view-in-github",
        "colab_type": "text"
      },
      "source": [
        "<a href=\"https://colab.research.google.com/github/iskra3138/ImageSr/blob/master/1_Image_Loading_Methods_%EB%B9%84%EA%B5%90.ipynb\" target=\"_parent\"><img src=\"https://colab.research.google.com/assets/colab-badge.svg\" alt=\"Open In Colab\"/></a>"
      ]
    },
    {
      "cell_type": "markdown",
      "metadata": {
        "id": "_00k58w_uslo",
        "colab_type": "text"
      },
      "source": [
        "Image를 loading 하는 몇 가지 방법에 대한 성능 비교를 위한 노트입니다.\n",
        "- GPU를 사용하지 않으므로 가속기 없이 실행해도 됩니다."
      ]
    },
    {
      "cell_type": "markdown",
      "metadata": {
        "id": "VxLTQzAgCZjm",
        "colab_type": "text"
      },
      "source": [
        "# Import Libraries"
      ]
    },
    {
      "cell_type": "code",
      "metadata": {
        "id": "LuT28koGwHxm",
        "colab_type": "code",
        "outputId": "b21fcfa7-13eb-4b37-e0c0-87f0d107a43c",
        "colab": {
          "base_uri": "https://localhost:8080/",
          "height": 34
        }
      },
      "source": [
        "## Tensorflow 2.X를 사용하면 첫번째 방법인 tf.io.read_file(path)의 속도가 더 빨라집니다. (나머지 세 방법은 큰 차이 없음)\n",
        "%tensorflow_version 2.x"
      ],
      "execution_count": 0,
      "outputs": [
        {
          "output_type": "stream",
          "text": [
            "TensorFlow 2.x selected.\n"
          ],
          "name": "stdout"
        }
      ]
    },
    {
      "cell_type": "markdown",
      "metadata": {
        "id": "HhcJaMj0wKoT",
        "colab_type": "text"
      },
      "source": [
        "성능 방법 비교를 위한 Library들을 불러오고, 각 라이브러리의 버전을 확인합니다."
      ]
    },
    {
      "cell_type": "code",
      "metadata": {
        "id": "jTmygg6ltuFh",
        "colab_type": "code",
        "outputId": "27c4972c-ec75-48fb-b1b1-f7111b6f58fa",
        "colab": {
          "base_uri": "https://localhost:8080/",
          "height": 34
        }
      },
      "source": [
        "import tensorflow as tf\n",
        "print ('tensorflow vesrion: {}'.format(tf.__version__))"
      ],
      "execution_count": 0,
      "outputs": [
        {
          "output_type": "stream",
          "text": [
            "tensorflow vesrion: 2.1.0\n"
          ],
          "name": "stdout"
        }
      ]
    },
    {
      "cell_type": "code",
      "metadata": {
        "id": "Qnw3lstjtcP3",
        "colab_type": "code",
        "outputId": "4d873a2f-34ed-48ac-9849-92cf076f7381",
        "colab": {
          "base_uri": "https://localhost:8080/",
          "height": 34
        }
      },
      "source": [
        "import cv2\n",
        "print ('opencv vesrion: {}'.format(cv2.__version__))"
      ],
      "execution_count": 0,
      "outputs": [
        {
          "output_type": "stream",
          "text": [
            "opencv vesrion: 4.1.2\n"
          ],
          "name": "stdout"
        }
      ]
    },
    {
      "cell_type": "code",
      "metadata": {
        "id": "YaRyMfBqfnMq",
        "colab_type": "code",
        "outputId": "496b985b-1cf0-4fbe-cb8c-b1a02648035c",
        "colab": {
          "base_uri": "https://localhost:8080/",
          "height": 52
        }
      },
      "source": [
        "### pillow의 경우 일반적으로 numpy를 통해 array\n",
        "import PIL\n",
        "from PIL import Image\n",
        "import numpy as np\n",
        "print ('pillow version: {}'.format(PIL.__version__))\n",
        "print ('numpy vesrion: {}'.format(np.__version__))"
      ],
      "execution_count": 0,
      "outputs": [
        {
          "output_type": "stream",
          "text": [
            "pillow version: 6.2.2\n",
            "numpy vesrion: 1.17.5\n"
          ],
          "name": "stdout"
        }
      ]
    },
    {
      "cell_type": "markdown",
      "metadata": {
        "id": "rWO0S3iXdhh0",
        "colab_type": "text"
      },
      "source": [
        "test를 위해 아래 셀을 실행하고 이미지를 다운받습니다. (Flowers DataSet)"
      ]
    },
    {
      "cell_type": "code",
      "metadata": {
        "id": "eXFlIXH1fQ_c",
        "colab_type": "code",
        "cellView": "form",
        "outputId": "7ab71730-8fac-4714-93c9-68737b4a7e95",
        "colab": {
          "base_uri": "https://localhost:8080/",
          "height": 52
        }
      },
      "source": [
        "#@title Download Flowers Image Data and define image path [Run Me!!!]\n",
        "import pathlib\n",
        "data_dir = tf.keras.utils.get_file(origin='https://storage.googleapis.com/download.tensorflow.org/example_images/flower_photos.tgz',\n",
        "                                         fname='flower_photos', untar=True)\n",
        "data_dir = pathlib.Path(data_dir)\n",
        "\n",
        "path = '/root/.keras/datasets/flower_photos/daisy/100080576_f52e8ee070_n.jpg'"
      ],
      "execution_count": 0,
      "outputs": [
        {
          "output_type": "stream",
          "text": [
            "Downloading data from https://storage.googleapis.com/download.tensorflow.org/example_images/flower_photos.tgz\n",
            "228818944/228813984 [==============================] - 3s 0us/step\n"
          ],
          "name": "stdout"
        }
      ]
    },
    {
      "cell_type": "markdown",
      "metadata": {
        "id": "-81lgXO2Cd94",
        "colab_type": "text"
      },
      "source": [
        "# 이미지 로딩 방법 비교\n",
        "- 각 이미지를 로딩해서 float32형 numpy array로 만드는 데까지 걸리는 시간과 값을 측정\n",
        "- 다른 모든 방법의 output은 uint8이나, Keras API를 사용하면 결과값이 float32가 되므로 각 방법에 float변환 추가"
      ]
    },
    {
      "cell_type": "markdown",
      "metadata": {
        "id": "N-dQXBtCxq5W",
        "colab_type": "text"
      },
      "source": [
        "### 속도 측정"
      ]
    },
    {
      "cell_type": "code",
      "metadata": {
        "id": "uU8Xk11cyQ6I",
        "colab_type": "code",
        "colab": {}
      },
      "source": [
        "import time"
      ],
      "execution_count": 0,
      "outputs": []
    },
    {
      "cell_type": "markdown",
      "metadata": {
        "id": "dyhhrndOjzfe",
        "colab_type": "text"
      },
      "source": [
        "##### 1. tensorflow - tf.io.read_file(path)\n",
        "- 첫 번째 실행방법은 tf.io.read_file을 사용하는 방법입니다.\n",
        "- [tf.io.read_file](https://www.tensorflow.org/api_docs/python/tf/io/read_file)의 output은 string입니다.\n",
        "- 본 예제는 jpeg파일을 사용하므로, array형태로 바꿔주기 위해서 [tf.image.decode_jpeg](https://www.tensorflow.org/api_docs/python/tf/io/decode_jpeg) 를 이용합니다. \n"
      ]
    },
    {
      "cell_type": "code",
      "metadata": {
        "id": "TkQLQHa5jpVF",
        "colab_type": "code",
        "outputId": "765a5da0-0654-4752-a86d-20c03527c010",
        "colab": {
          "base_uri": "https://localhost:8080/",
          "height": 34
        }
      },
      "source": [
        "times = []\n",
        "for i in range(1000):\n",
        "  start = time.time()\n",
        "  tf_io_img = tf.io.read_file(path) ## TFRecord 파일을 만들때는 여기까지만 있어도 되므로 더 빠름\n",
        "  tf_io_img = tf.image.decode_jpeg(tf_io_img).numpy()\n",
        "  tf_io_img = tf_io_img.astype(np.float32)\n",
        "  end = time.time()\n",
        "  times.append(end - start)\n",
        "print ('average time: {:.3}'.format(sum(times) / len(times)))"
      ],
      "execution_count": 0,
      "outputs": [
        {
          "output_type": "stream",
          "text": [
            "average time: 0.00151\n"
          ],
          "name": "stdout"
        }
      ]
    },
    {
      "cell_type": "markdown",
      "metadata": {
        "id": "WPhBjNXokGfl",
        "colab_type": "text"
      },
      "source": [
        "##### 2. tensorflow - keras\n",
        "- keras api를 사용해서도 이미지를 불러올 수 있습니다\n",
        "  - tf.keras.preprocessing.image.load_img 의 아웃풋은 piilow Image 객체가 되고\n",
        "  - tf.keras.preprocessing.image.img_to_arra의 아웃풋은 float32가 됩니다."
      ]
    },
    {
      "cell_type": "code",
      "metadata": {
        "id": "zszPD-kbkA2v",
        "colab_type": "code",
        "outputId": "1d4603ae-4000-4d8b-9b32-cd771756787e",
        "colab": {
          "base_uri": "https://localhost:8080/",
          "height": 34
        }
      },
      "source": [
        "times = []\n",
        "for i in range(1000):\n",
        "  start = time.time()\n",
        "  keras_img = tf.keras.preprocessing.image.load_img(path)\n",
        "  keras_img = tf.keras.preprocessing.image.img_to_array(keras_img)\n",
        "  end = time.time()\n",
        "  times.append(end - start)\n",
        "print ('average time: {:.3}'.format(sum(times) / len(times)))"
      ],
      "execution_count": 0,
      "outputs": [
        {
          "output_type": "stream",
          "text": [
            "average time: 0.00233\n"
          ],
          "name": "stdout"
        }
      ]
    },
    {
      "cell_type": "markdown",
      "metadata": {
        "id": "5TnTRB3Yjx0W",
        "colab_type": "text"
      },
      "source": [
        "##### 3. pillow"
      ]
    },
    {
      "cell_type": "code",
      "metadata": {
        "id": "6KOCJKdPfnQB",
        "colab_type": "code",
        "outputId": "6e11947c-213f-402a-c4b8-039192054673",
        "colab": {
          "base_uri": "https://localhost:8080/",
          "height": 34
        }
      },
      "source": [
        "times = []\n",
        "for i in range(1000):\n",
        "  start = time.time()\n",
        "  pil_img = Image.open(path)\n",
        "  pil_npimg = np.array(pil_img)\n",
        "  pil_npimg = pil_npimg.astype(np.float32)\n",
        "  end = time.time()\n",
        "  times.append(end - start)\n",
        "print ('average time: {:.3}'.format(sum(times) / len(times)))"
      ],
      "execution_count": 0,
      "outputs": [
        {
          "output_type": "stream",
          "text": [
            "average time: 0.00218\n"
          ],
          "name": "stdout"
        }
      ]
    },
    {
      "cell_type": "markdown",
      "metadata": {
        "id": "SIlALsQDkogv",
        "colab_type": "text"
      },
      "source": [
        "##### 4. opencv\n",
        "- opencv로 이미지를 불러오면 [BGR] 순서가 되므로, 반드시 [RGB] 순서로 변경해야 합니다."
      ]
    },
    {
      "cell_type": "code",
      "metadata": {
        "id": "h92DX9LIkr5s",
        "colab_type": "code",
        "outputId": "26ce6fb3-7874-4584-9725-05c19ef7a6bb",
        "colab": {
          "base_uri": "https://localhost:8080/",
          "height": 34
        }
      },
      "source": [
        "times = []\n",
        "for i in range(1000):\n",
        "  start = time.time()\n",
        "  cv_img = cv2.imread(path) # BGR\n",
        "  cv_img = cv2.cvtColor(cv_img,cv2.COLOR_BGR2RGB)\n",
        "  cv_img = cv_img.astype(np.float32)\n",
        "  end = time.time()\n",
        "  times.append(end - start)\n",
        "print ('average time: {:.3}'.format(sum(times) / len(times)))"
      ],
      "execution_count": 0,
      "outputs": [
        {
          "output_type": "stream",
          "text": [
            "average time: 0.00193\n"
          ],
          "name": "stdout"
        }
      ]
    },
    {
      "cell_type": "markdown",
      "metadata": {
        "id": "iGNFz9G80q6S",
        "colab_type": "text"
      },
      "source": [
        "image를 불러와서 float32자료형태로 만드는 경우, tf.io.read_file을 쓸 때가 가장 빠르고, 그 다음이 opencv, pillow, tf.keras 순입니다.\n",
        "\n",
        "\n",
        "| | tf.io.read_file | tf.keras |  pillow | opencv |\n",
        "|----|----|----|----|----|\n",
        "| avg.time | 0.00151 |0.00233|0.00218 | 0.00193 |\n",
        "| 상대비교 | 1 | 1.54배 | 1.44 배 | 1.28배 |"
      ]
    },
    {
      "cell_type": "markdown",
      "metadata": {
        "id": "cdzJzXGsz3LE",
        "colab_type": "text"
      },
      "source": [
        "### 결과값 비교"
      ]
    },
    {
      "cell_type": "code",
      "metadata": {
        "id": "GYT5HoX6kvQc",
        "colab_type": "code",
        "outputId": "5a0237c6-5a58-4399-ead9-8ede235359c9",
        "colab": {
          "base_uri": "https://localhost:8080/",
          "height": 87
        }
      },
      "source": [
        "print (tf_io_img[0][0])\n",
        "print (keras_img[0][0])\n",
        "print (pil_npimg[0][0])\n",
        "print (cv_img[0][0])"
      ],
      "execution_count": 0,
      "outputs": [
        {
          "output_type": "stream",
          "text": [
            "[133. 135. 132.]\n",
            "[135. 135. 133.]\n",
            "[135. 135. 133.]\n",
            "[135. 135. 133.]\n"
          ],
          "name": "stdout"
        }
      ]
    },
    {
      "cell_type": "markdown",
      "metadata": {
        "id": "U2AEH10t0oy1",
        "colab_type": "text"
      },
      "source": [
        "- **빠르기는 tf.io.read_file을 쓰는 것이 가장 빠르나, 혼자만 값이 다릅니다.**\n",
        "  - 그러므로 tf.io.read_file을 사용해서 학습을 했으면, Prediction 에서도 tf.io.read_file를 사용해야 합니다!!!!"
      ]
    },
    {
      "cell_type": "markdown",
      "metadata": {
        "id": "sV49W0ONzdHJ",
        "colab_type": "text"
      },
      "source": [
        "# 기타"
      ]
    },
    {
      "cell_type": "markdown",
      "metadata": {
        "id": "15Zex8Dv0FvY",
        "colab_type": "text"
      },
      "source": [
        "##### 1. 이미지 크기 조정\n",
        "- tf.image.resize \n",
        "```\n",
        "tf.image.resize(\n",
        "    images,\n",
        "    size,\n",
        "    method=ResizeMethod.BILINEAR,\n",
        "    preserve_aspect_ratio=False,\n",
        "    antialias=False,\n",
        "    name=None\n",
        ")\n",
        "```\n",
        "- The return value has the same type as images if method is ResizeMethod.NEAREST_NEIGHBOR. Otherwise, the return value has type float32. [출처](https://www.tensorflow.org/api_docs/python/tf/image/resize)"
      ]
    },
    {
      "cell_type": "code",
      "metadata": {
        "id": "Cra0ZM7vzfSp",
        "colab_type": "code",
        "outputId": "ef337c2d-1b40-42e4-d6df-379c4111f962",
        "colab": {
          "base_uri": "https://localhost:8080/",
          "height": 34
        }
      },
      "source": [
        "tf_io_img = tf.io.read_file(path)\n",
        "tf_io_img = tf.image.decode_jpeg(tf_io_img)\n",
        "print (tf_io_img[0][0])"
      ],
      "execution_count": 0,
      "outputs": [
        {
          "output_type": "stream",
          "text": [
            "tf.Tensor([133 135 132], shape=(3,), dtype=uint8)\n"
          ],
          "name": "stdout"
        }
      ]
    },
    {
      "cell_type": "markdown",
      "metadata": {
        "id": "SJkGUHLS0DSg",
        "colab_type": "text"
      },
      "source": [
        "uint8 형태의 image를 method default 옵션으로  resize"
      ]
    },
    {
      "cell_type": "code",
      "metadata": {
        "id": "KHKCgu5Hz8GJ",
        "colab_type": "code",
        "outputId": "824e2298-6a10-4079-efb0-1ed349cbfcda",
        "colab": {
          "base_uri": "https://localhost:8080/",
          "height": 34
        }
      },
      "source": [
        "tf_io_img_default = tf.image.resize(tf_io_img, (224,224))\n",
        "print (tf_io_img_default[0][0]) # dtype=float32 가 됨"
      ],
      "execution_count": 0,
      "outputs": [
        {
          "output_type": "stream",
          "text": [
            "tf.Tensor([133.64285 135.64285 132.64285], shape=(3,), dtype=float32)\n"
          ],
          "name": "stdout"
        }
      ]
    },
    {
      "cell_type": "markdown",
      "metadata": {
        "id": "-i_GeAmq02dU",
        "colab_type": "text"
      },
      "source": [
        "uint8 형태의 image를 method 옵션을 ResizeMethod.NEAREST_NEIGHBOR으로 설정하고  resize"
      ]
    },
    {
      "cell_type": "code",
      "metadata": {
        "id": "R8w4Q2pF0s2U",
        "colab_type": "code",
        "outputId": "de2cae70-7fba-4d78-c0f2-f1455b1d5760",
        "colab": {
          "base_uri": "https://localhost:8080/",
          "height": 34
        }
      },
      "source": [
        "tf_io_img_NN = tf.image.resize(tf_io_img, (224,224), method=tf.image.ResizeMethod.NEAREST_NEIGHBOR)\n",
        "print (tf_io_img_NN[0][0]) # dtype=uint8이 됨"
      ],
      "execution_count": 0,
      "outputs": [
        {
          "output_type": "stream",
          "text": [
            "tf.Tensor([133 135 132], shape=(3,), dtype=uint8)\n"
          ],
          "name": "stdout"
        }
      ]
    },
    {
      "cell_type": "markdown",
      "metadata": {
        "colab_type": "text",
        "id": "KvipY1as1RBM"
      },
      "source": [
        "##### 2. 이미지 normalize 방법 1 \n",
        "- tf.image.convert_image_dtype \n",
        "```\n",
        "tf.image.convert_image_dtype(\n",
        "    image,\n",
        "    dtype,\n",
        "    saturate=False,\n",
        "    name=None\n",
        ")\n",
        "```\n",
        "- Images that are represented using floating point values are expected to have values in the range [0,1). Image data stored in integer data types are expected to have values in the range [0,MAX], where MAX is the largest positive representable number for the data type.\n",
        "\n",
        "[출처](https://www.tensorflow.org/api_docs/python/tf/image/convert_image_dtype)"
      ]
    },
    {
      "cell_type": "markdown",
      "metadata": {
        "id": "Rk3wJiX_18rW",
        "colab_type": "text"
      },
      "source": [
        "-  tf.image.convert_image_dtype을 쓸 때, 주의해야 할 점은 input과 output의 dtype이 같으면 normalization이 작동하지 않는다."
      ]
    },
    {
      "cell_type": "code",
      "metadata": {
        "id": "TEFWm71b1D09",
        "colab_type": "code",
        "outputId": "379681c9-141f-4235-c141-03a94bffd1a8",
        "colab": {
          "base_uri": "https://localhost:8080/",
          "height": 52
        }
      },
      "source": [
        "# 예1) uint8 --> float32\n",
        "int8_tensor = tf.constant([[[0, 100, 255]]], dtype=tf.uint8)\n",
        "print (int8_tensor) ## dtype=uint8\n",
        "\n",
        "convert_tensor = tf.image.convert_image_dtype(int8_tensor, dtype=tf.float32)\n",
        "print (convert_tensor) ## dtype=float32이고 각 element는 [0,1)로 변함"
      ],
      "execution_count": 0,
      "outputs": [
        {
          "output_type": "stream",
          "text": [
            "tf.Tensor([[[  0 100 255]]], shape=(1, 1, 3), dtype=uint8)\n",
            "tf.Tensor([[[0.        0.3921569 1.       ]]], shape=(1, 1, 3), dtype=float32)\n"
          ],
          "name": "stdout"
        }
      ]
    },
    {
      "cell_type": "code",
      "metadata": {
        "id": "XLsbw5iy2dpe",
        "colab_type": "code",
        "outputId": "2f16f078-1c26-47aa-a171-0edfc33098b6",
        "colab": {
          "base_uri": "https://localhost:8080/",
          "height": 52
        }
      },
      "source": [
        "# 예1) float32 --> float32\n",
        "float_tensor = tf.constant([[[0.0, 100.0, 255.0]]], dtype=tf.float32)\n",
        "print (float_tensor) ## dtype=float32\n",
        "\n",
        "convert_tensor = tf.image.convert_image_dtype(float_tensor, dtype=tf.float32)\n",
        "print (convert_tensor) ## dtype=float32이나, 각 element값이 하나도 안 변했음"
      ],
      "execution_count": 0,
      "outputs": [
        {
          "output_type": "stream",
          "text": [
            "tf.Tensor([[[  0. 100. 255.]]], shape=(1, 1, 3), dtype=float32)\n",
            "tf.Tensor([[[  0. 100. 255.]]], shape=(1, 1, 3), dtype=float32)\n"
          ],
          "name": "stdout"
        }
      ]
    },
    {
      "cell_type": "markdown",
      "metadata": {
        "id": "uv_2PuFe26e_",
        "colab_type": "text"
      },
      "source": [
        "**그러므로 tf.image.resize와 tf.image.convert_image_dtype을 함께 쓸 때는 주의해야 함**\n",
        "\n",
        "- tf.image.resize 에 method=tf.image.ResizeMethod.NEAREST_NEIGHBOR 을 주면 input과 dtype이 같아지므로 순서가 상관없음\n",
        "- tf.image.resize 에 method 옵션이 없으면 무조건 float32 형태가 되므로 tf.image.convert_image_dtype 이 뒤에 위치하면 아무 변화 없음"
      ]
    },
    {
      "cell_type": "code",
      "metadata": {
        "id": "ZQhYAZaQ2w5B",
        "colab_type": "code",
        "outputId": "4e80684e-7198-4008-d78a-e13f15a32f8a",
        "colab": {
          "base_uri": "https://localhost:8080/",
          "height": 70
        }
      },
      "source": [
        "## 예1-1) method는 없고, resize -> convert 순서\n",
        "tf_io_img = tf.io.read_file(path) ## TFRecord 파일을 만들때는 여기까지만 있어도 되므로 더 빠름\n",
        "tf_io_img = tf.image.decode_jpeg(tf_io_img)\n",
        "print (tf_io_img[0][0]) ## dtype=uint8\n",
        "\n",
        "tf_io_img_default = tf.image.resize(tf_io_img, (224,224))\n",
        "print (tf_io_img_default[0][0]) ## dtype=float32\n",
        "\n",
        "convert_tensor = tf.image.convert_image_dtype(tf_io_img_default, dtype=tf.float32)\n",
        "print (convert_tensor[0][0]) ## dtype=float32이나, 각 element값이 하나도 안 변했음"
      ],
      "execution_count": 0,
      "outputs": [
        {
          "output_type": "stream",
          "text": [
            "tf.Tensor([133 135 132], shape=(3,), dtype=uint8)\n",
            "tf.Tensor([133.64285 135.64285 132.64285], shape=(3,), dtype=float32)\n",
            "tf.Tensor([133.64285 135.64285 132.64285], shape=(3,), dtype=float32)\n"
          ],
          "name": "stdout"
        }
      ]
    },
    {
      "cell_type": "code",
      "metadata": {
        "id": "NgaOnoQS3rBq",
        "colab_type": "code",
        "outputId": "f438409d-7239-4e5a-82f0-2acc4ac69a43",
        "colab": {
          "base_uri": "https://localhost:8080/",
          "height": 70
        }
      },
      "source": [
        "## 예1-2) method는 없고,  convert -> resize 순서\n",
        "tf_io_img = tf.io.read_file(path) ## TFRecord 파일을 만들때는 여기까지만 있어도 되므로 더 빠름\n",
        "tf_io_img = tf.image.decode_jpeg(tf_io_img)\n",
        "print (tf_io_img[0][0]) ## dtype=uint8\n",
        "\n",
        "convert_tensor = tf.image.convert_image_dtype(tf_io_img, dtype=tf.float32)\n",
        "print (convert_tensor[0][0]) ## dtype=float32이고, 각 element값이 [0,1)로 변했음\n",
        "\n",
        "tf_io_img_default = tf.image.resize(convert_tensor, (224,224))\n",
        "print (tf_io_img_default[0][0]) ## dtype=float32\n"
      ],
      "execution_count": 0,
      "outputs": [
        {
          "output_type": "stream",
          "text": [
            "tf.Tensor([133 135 132], shape=(3,), dtype=uint8)\n",
            "tf.Tensor([0.52156866 0.5294118  0.5176471 ], shape=(3,), dtype=float32)\n",
            "tf.Tensor([0.5240897  0.53193283 0.5201681 ], shape=(3,), dtype=float32)\n"
          ],
          "name": "stdout"
        }
      ]
    },
    {
      "cell_type": "code",
      "metadata": {
        "id": "COeJwuL13059",
        "colab_type": "code",
        "outputId": "54ef5427-71c6-4391-e58b-fee8184b710d",
        "colab": {
          "base_uri": "https://localhost:8080/",
          "height": 70
        }
      },
      "source": [
        "## 예2-1) method가 method=tf.image.ResizeMethod.NEAREST_NEIGHBOR이고 resize -> convert 순서\n",
        "tf_io_img = tf.io.read_file(path) ## TFRecord 파일을 만들때는 여기까지만 있어도 되므로 더 빠름\n",
        "tf_io_img = tf.image.decode_jpeg(tf_io_img)\n",
        "print (tf_io_img[0][0]) ## dtype=uint8\n",
        "\n",
        "tf_io_img_NN = tf.image.resize(tf_io_img, (224,224), method=tf.image.ResizeMethod.NEAREST_NEIGHBOR)\n",
        "print (tf_io_img_NN[0][0]) ## dtype=uint8\n",
        "\n",
        "convert_tensor = tf.image.convert_image_dtype(tf_io_img_NN, dtype=tf.float32)\n",
        "print (convert_tensor[0][0]) ## dtype=float32이고, 각 element값이 [0,1)로 변함"
      ],
      "execution_count": 0,
      "outputs": [
        {
          "output_type": "stream",
          "text": [
            "tf.Tensor([133 135 132], shape=(3,), dtype=uint8)\n",
            "tf.Tensor([133 135 132], shape=(3,), dtype=uint8)\n",
            "tf.Tensor([0.52156866 0.5294118  0.5176471 ], shape=(3,), dtype=float32)\n"
          ],
          "name": "stdout"
        }
      ]
    },
    {
      "cell_type": "code",
      "metadata": {
        "id": "gaTWohQM4I-e",
        "colab_type": "code",
        "outputId": "72c1ef8b-7c9f-4061-b597-2265b1c4e0e2",
        "colab": {
          "base_uri": "https://localhost:8080/",
          "height": 70
        }
      },
      "source": [
        "## 예2-2) method가 method=tf.image.ResizeMethod.NEAREST_NEIGHBOR이고, convert -> resize 순서\n",
        "tf_io_img = tf.io.read_file(path) ## TFRecord 파일을 만들때는 여기까지만 있어도 되므로 더 빠름\n",
        "tf_io_img = tf.image.decode_jpeg(tf_io_img)\n",
        "print (tf_io_img[0][0]) ## dtype=uint8\n",
        "\n",
        "convert_tensor = tf.image.convert_image_dtype(tf_io_img, dtype=tf.float32)\n",
        "print (convert_tensor[0][0]) ## dtype=float32이고, 각 element값이 [0,1)로 변했음\n",
        "\n",
        "tf_io_img_NN = tf.image.resize(convert_tensor, (224,224),  method=tf.image.ResizeMethod.NEAREST_NEIGHBOR)\n",
        "print (tf_io_img_NN[0][0]) ## dtype=float32 / 직전 convert_tensor의 dtype을 유지함"
      ],
      "execution_count": 0,
      "outputs": [
        {
          "output_type": "stream",
          "text": [
            "tf.Tensor([133 135 132], shape=(3,), dtype=uint8)\n",
            "tf.Tensor([0.52156866 0.5294118  0.5176471 ], shape=(3,), dtype=float32)\n",
            "tf.Tensor([0.52156866 0.5294118  0.5176471 ], shape=(3,), dtype=float32)\n"
          ],
          "name": "stdout"
        }
      ]
    },
    {
      "cell_type": "markdown",
      "metadata": {
        "colab_type": "text",
        "id": "CJNwoYtU4oyD"
      },
      "source": [
        "### 3. 이미지 normalize 방법 2 \n",
        "- tf_io_img = tf.cast(img, dtype=tf.float32)/ 255.0\n",
        "\n",
        "```\n",
        "tf.cast(\n",
        "    x,\n",
        "    dtype,\n",
        "    name=None\n",
        ")\n",
        "```\n",
        "\n",
        "- tf.cast는 dtype만 바꿔 줍니다.\n",
        "- 그러므로 [0,255] 사이인 image data를 [0,1]사이로 바꾸기 위해 단순하게 255.0으로 나눠주곤 합니다.\n",
        "  - 참고로, tf.image.convert_image_dtype 는 [0,1) 사이로 바꿔줍니다.\n",
        "- tf.cast는 input type이 무엇이든 output type으로 cast하는 것이므로 resize 와의 순서는 상관없습니다."
      ]
    },
    {
      "cell_type": "code",
      "metadata": {
        "colab_type": "code",
        "outputId": "81c9cef4-58c8-4082-a2f1-f9df7cd03a0a",
        "id": "_jL7kYtY4oyH",
        "colab": {
          "base_uri": "https://localhost:8080/",
          "height": 70
        }
      },
      "source": [
        "## 예1) resize -> cast 순서\n",
        "tf_io_img = tf.io.read_file(path) ## TFRecord 파일을 만들때는 여기까지만 있어도 되므로 더 빠름\n",
        "tf_io_img = tf.image.decode_jpeg(tf_io_img)\n",
        "print (tf_io_img[0][0]) ## dtype=uint8\n",
        "\n",
        "tf_io_img_default = tf.image.resize(tf_io_img, (224,224))\n",
        "print (tf_io_img_default[0][0]) ## dtype=float32\n",
        "\n",
        "cast_tensor = tf.cast(tf_io_img_default, dtype=tf.float32) / 255.0\n",
        "print (cast_tensor[0][0]) ## dtype=float32, 각 element값이 convert_image_dtype 때와 다르게 나옴"
      ],
      "execution_count": 0,
      "outputs": [
        {
          "output_type": "stream",
          "text": [
            "tf.Tensor([133 135 132], shape=(3,), dtype=uint8)\n",
            "tf.Tensor([133.64285 135.64285 132.64285], shape=(3,), dtype=float32)\n",
            "tf.Tensor([0.52408963 0.5319328  0.52016807], shape=(3,), dtype=float32)\n"
          ],
          "name": "stdout"
        }
      ]
    },
    {
      "cell_type": "code",
      "metadata": {
        "colab_type": "code",
        "outputId": "28773b11-8a6a-4635-834b-e8e2246d8e1a",
        "id": "8VsQF8A54oyJ",
        "colab": {
          "base_uri": "https://localhost:8080/",
          "height": 70
        }
      },
      "source": [
        "## 예2) cast -> resize 순서\n",
        "tf_io_img = tf.io.read_file(path) ## TFRecord 파일을 만들때는 여기까지만 있어도 되므로 더 빠름\n",
        "tf_io_img = tf.image.decode_jpeg(tf_io_img)\n",
        "print (tf_io_img[0][0]) ## dtype=uint8\n",
        "\n",
        "cast_tensor = tf.cast(tf_io_img, dtype=tf.float32) / 255.0\n",
        "print (cast_tensor[0][0]) ## dtype=float32이고, 각 element값이 [0,1]로 변했음\n",
        "\n",
        "tf_io_img_default = tf.image.resize(cast_tensor, (224,224))\n",
        "print (tf_io_img_default[0][0]) ## dtype=float32\n"
      ],
      "execution_count": 0,
      "outputs": [
        {
          "output_type": "stream",
          "text": [
            "tf.Tensor([133 135 132], shape=(3,), dtype=uint8)\n",
            "tf.Tensor([0.52156866 0.5294118  0.5176471 ], shape=(3,), dtype=float32)\n",
            "tf.Tensor([0.5240897  0.53193283 0.5201681 ], shape=(3,), dtype=float32)\n"
          ],
          "name": "stdout"
        }
      ]
    },
    {
      "cell_type": "markdown",
      "metadata": {
        "colab_type": "text",
        "id": "JFHc4jL8BsBc"
      },
      "source": [
        "# byte string 생성 방법 비교 for making TFRecord files\n",
        "- 각 이미지를 로딩해서 TFrecord 파일 입력 형태인 byte string을 만드는 데까지 걸리는 시간 및 값을 측정"
      ]
    },
    {
      "cell_type": "markdown",
      "metadata": {
        "id": "4KU8XAhACNH6",
        "colab_type": "text"
      },
      "source": [
        "### 속도 측정"
      ]
    },
    {
      "cell_type": "code",
      "metadata": {
        "colab_type": "code",
        "id": "630FbEMQBsBf",
        "colab": {}
      },
      "source": [
        "import time"
      ],
      "execution_count": 0,
      "outputs": []
    },
    {
      "cell_type": "markdown",
      "metadata": {
        "colab_type": "text",
        "id": "oMxg2l1eBsBj"
      },
      "source": [
        "##### 1. tensorflow - tf.io.read_file(path)\n",
        "- 첫 번째 실행방법은 tf.io.read_file을 사용하는 방법입니다.\n",
        "- [tf.io.read_file](https://www.tensorflow.org/api_docs/python/tf/io/read_file)의 output은 string입니다."
      ]
    },
    {
      "cell_type": "code",
      "metadata": {
        "colab_type": "code",
        "outputId": "a2a15438-3e24-4bdf-b82b-bf73855ff0ec",
        "id": "aagPYbtlBsBl",
        "colab": {
          "base_uri": "https://localhost:8080/",
          "height": 34
        }
      },
      "source": [
        "times = []\n",
        "for i in range(1000):\n",
        "  start = time.time()\n",
        "  tf_io_img_bytes = tf.io.read_file(path) ## TFRecord 파일을 만들때는 여기까지만 있어도 되므로 더 빠름\n",
        "  end = time.time()\n",
        "  times.append(end - start)\n",
        "print ('average time: {:.3}'.format(sum(times) / len(times)))"
      ],
      "execution_count": 0,
      "outputs": [
        {
          "output_type": "stream",
          "text": [
            "average time: 0.000217\n"
          ],
          "name": "stdout"
        }
      ]
    },
    {
      "cell_type": "markdown",
      "metadata": {
        "colab_type": "text",
        "id": "Dm7NebVmBsBu"
      },
      "source": [
        "##### 2. tensorflow - keras\n",
        "- keras api를 사용해서도 이미지를 불러올 수 있습니다\n",
        "  - tf.keras.preprocessing.image.load_img 의 아웃풋은 piilow Image 객체가 됩니다."
      ]
    },
    {
      "cell_type": "code",
      "metadata": {
        "colab_type": "code",
        "outputId": "628ef7ae-99e2-40ab-8ec6-757243f3cad2",
        "id": "iQW8lQJTBsBv",
        "colab": {
          "base_uri": "https://localhost:8080/",
          "height": 34
        }
      },
      "source": [
        "times = []\n",
        "for i in range(1000):\n",
        "  start = time.time()\n",
        "  keras_img = tf.keras.preprocessing.image.load_img(path)\n",
        "  keras_img = np.asarray(keras_img, np.uint8) #numpy array 변환\n",
        "  keras_img_bytes = keras_img.tobytes() # bytes string 변환\n",
        "  end = time.time()\n",
        "  times.append(end - start)\n",
        "print ('average time: {:.3}'.format(sum(times) / len(times)))"
      ],
      "execution_count": 0,
      "outputs": [
        {
          "output_type": "stream",
          "text": [
            "average time: 0.00194\n"
          ],
          "name": "stdout"
        }
      ]
    },
    {
      "cell_type": "markdown",
      "metadata": {
        "colab_type": "text",
        "id": "3Z1UgPFIBsBy"
      },
      "source": [
        "##### 3. pillow"
      ]
    },
    {
      "cell_type": "code",
      "metadata": {
        "colab_type": "code",
        "outputId": "2c80b982-bc16-4e86-ee29-7ec3d922d684",
        "id": "D-4rBYdgBsBz",
        "colab": {
          "base_uri": "https://localhost:8080/",
          "height": 34
        }
      },
      "source": [
        "times = []\n",
        "for i in range(1000):\n",
        "  start = time.time()\n",
        "  pil_img = Image.open(path)\n",
        "  pil_npimg = np.asarray(pil_img)\n",
        "  pil_npimg_bytes = pil_npimg.tobytes() # bytes string 변환\n",
        "  end = time.time()\n",
        "  times.append(end - start)\n",
        "print ('average time: {:.3}'.format(sum(times) / len(times)))"
      ],
      "execution_count": 0,
      "outputs": [
        {
          "output_type": "stream",
          "text": [
            "average time: 0.00192\n"
          ],
          "name": "stdout"
        }
      ]
    },
    {
      "cell_type": "markdown",
      "metadata": {
        "colab_type": "text",
        "id": "AzacZK7jBsB4"
      },
      "source": [
        "##### 4. opencv\n",
        "- opencv로 이미지를 불러오면 [BGR] 순서가 되므로, 반드시 [RGB] 순서로 변경해야 합니다."
      ]
    },
    {
      "cell_type": "code",
      "metadata": {
        "colab_type": "code",
        "outputId": "98b29ec4-81bd-4a90-b7e2-1e5ee5bba05e",
        "id": "ZWYPO66VBsB5",
        "colab": {
          "base_uri": "https://localhost:8080/",
          "height": 34
        }
      },
      "source": [
        "times = []\n",
        "for i in range(1000):\n",
        "  start = time.time()\n",
        "  cv_img = cv2.imread(path) # BGR\n",
        "  cv_img = cv2.cvtColor(cv_img,cv2.COLOR_BGR2RGB)\n",
        "  cv_img_bytes = cv_img.tobytes() # bytes string 변환\n",
        "  end = time.time()\n",
        "  times.append(end - start)\n",
        "print ('average time: {:.3}'.format(sum(times) / len(times)))"
      ],
      "execution_count": 0,
      "outputs": [
        {
          "output_type": "stream",
          "text": [
            "average time: 0.00167\n"
          ],
          "name": "stdout"
        }
      ]
    },
    {
      "cell_type": "markdown",
      "metadata": {
        "colab_type": "text",
        "id": "HcWfbiRwBsB-"
      },
      "source": [
        "image를 불러와서 byte string자료형태로 만드는 경우, tf.io.read_file을 쓸 때가 가장 빠르고, 그 다음이 opencv, pillow, tf.keras 순입니다.\n",
        "float32를 만들때와 순서는 비슷하나, tf.io.read_file 자체가 byte_string이 output이라 다른 방법들에 비해 압도적으로 빠르다고 볼 수 있습니다.\n",
        "\n",
        "\n",
        "| | tf.io.read_file | tf.keras |  pillow | opencv |\n",
        "|----|----|----|----|----|\n",
        "| avg.time | 0.000217 |0.00194|0.00192 | 0.00167 |\n",
        "| 상대비교 | 1 | 8.94배 | 8.85 배 | 7.7배 |"
      ]
    },
    {
      "cell_type": "markdown",
      "metadata": {
        "colab_type": "text",
        "id": "DSNi8VsdBsB_"
      },
      "source": [
        "### 결과값 비교"
      ]
    },
    {
      "cell_type": "code",
      "metadata": {
        "colab_type": "code",
        "id": "w4xiqoK3BsCA",
        "colab": {}
      },
      "source": [
        "print (tf_io_img_bytes.numpy())"
      ],
      "execution_count": 0,
      "outputs": []
    },
    {
      "cell_type": "code",
      "metadata": {
        "id": "px-29QBeA4K5",
        "colab_type": "code",
        "colab": {}
      },
      "source": [
        "print (keras_img_bytes)"
      ],
      "execution_count": 0,
      "outputs": []
    },
    {
      "cell_type": "code",
      "metadata": {
        "id": "Go4Z_PHnA6cT",
        "colab_type": "code",
        "colab": {}
      },
      "source": [
        "print (pil_npimg_bytes)"
      ],
      "execution_count": 0,
      "outputs": []
    },
    {
      "cell_type": "code",
      "metadata": {
        "id": "N23vBIrRA8M4",
        "colab_type": "code",
        "colab": {}
      },
      "source": [
        "print (cv_img_bytes)"
      ],
      "execution_count": 0,
      "outputs": []
    },
    {
      "cell_type": "markdown",
      "metadata": {
        "colab_type": "text",
        "id": "uv8AA3V5BsCO"
      },
      "source": [
        "- **빠르기는 tf.io.read_file을 쓰는 것이 가장 빠르나, 결과는 역시 혼자만 값이 다릅니다.**"
      ]
    }
  ]
}